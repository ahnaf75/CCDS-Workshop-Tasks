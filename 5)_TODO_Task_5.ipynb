{
  "cells": [
    {
      "cell_type": "markdown",
      "metadata": {
        "id": "HWwL3-UncKWd"
      },
      "source": [
        "Word2vec package download and testing"
      ]
    },
    {
      "cell_type": "code",
      "execution_count": 1,
      "metadata": {
        "colab": {
          "base_uri": "https://localhost:8080/"
        },
        "id": "Y3InRzKFcHl4",
        "outputId": "a03e5158-df32-4acb-9122-93b3cf938d10"
      },
      "outputs": [
        {
          "output_type": "stream",
          "name": "stdout",
          "text": [
            "[==================================================] 100.0% 1662.8/1662.8MB downloaded\n",
            "(300,)\n"
          ]
        }
      ],
      "source": [
        "import gensim.downloader as api\n",
        "\n",
        "wv = api.load('word2vec-google-news-300')\n",
        "\n",
        "vec_king = wv['king']\n",
        "print(vec_king.shape)"
      ]
    },
    {
      "cell_type": "markdown",
      "metadata": {
        "id": "bZ1AQ9026Q8f"
      },
      "source": [
        "<span><h1 style = \"font-family: garamond; font-size: 40px; font-style: normal; letter-spcaing: 3px; background-color: #f6f5f5; color :#C01F4D; border-radius: 100px 100px; text-align:center\"> Dataset Download and Upload in the Colab </h1></span>\n",
        "\n",
        "For downloading and importing the dataset in you colab please follow the following steps:\n",
        "\n",
        "*   Go to https://www.kaggle.com/datasets/praveengovi/emotions-dataset-for-nlp\n",
        "*   Download the dataset. It will be downloaded as **archive.zip** in your pc\n",
        "*   Upload the dataset by running the following code cells\n",
        "\n",
        "\n"
      ]
    },
    {
      "cell_type": "code",
      "execution_count": 3,
      "metadata": {
        "colab": {
          "base_uri": "https://localhost:8080/",
          "height": 73
        },
        "id": "73cnnzw36_x1",
        "outputId": "f813232c-cdff-425f-d1b6-6f3a9c73e41d"
      },
      "outputs": [
        {
          "output_type": "display_data",
          "data": {
            "text/plain": [
              "<IPython.core.display.HTML object>"
            ],
            "text/html": [
              "\n",
              "     <input type=\"file\" id=\"files-13e27a39-81bd-4bff-96b1-81a05a557822\" name=\"files[]\" multiple disabled\n",
              "        style=\"border:none\" />\n",
              "     <output id=\"result-13e27a39-81bd-4bff-96b1-81a05a557822\">\n",
              "      Upload widget is only available when the cell has been executed in the\n",
              "      current browser session. Please rerun this cell to enable.\n",
              "      </output>\n",
              "      <script>// Copyright 2017 Google LLC\n",
              "//\n",
              "// Licensed under the Apache License, Version 2.0 (the \"License\");\n",
              "// you may not use this file except in compliance with the License.\n",
              "// You may obtain a copy of the License at\n",
              "//\n",
              "//      http://www.apache.org/licenses/LICENSE-2.0\n",
              "//\n",
              "// Unless required by applicable law or agreed to in writing, software\n",
              "// distributed under the License is distributed on an \"AS IS\" BASIS,\n",
              "// WITHOUT WARRANTIES OR CONDITIONS OF ANY KIND, either express or implied.\n",
              "// See the License for the specific language governing permissions and\n",
              "// limitations under the License.\n",
              "\n",
              "/**\n",
              " * @fileoverview Helpers for google.colab Python module.\n",
              " */\n",
              "(function(scope) {\n",
              "function span(text, styleAttributes = {}) {\n",
              "  const element = document.createElement('span');\n",
              "  element.textContent = text;\n",
              "  for (const key of Object.keys(styleAttributes)) {\n",
              "    element.style[key] = styleAttributes[key];\n",
              "  }\n",
              "  return element;\n",
              "}\n",
              "\n",
              "// Max number of bytes which will be uploaded at a time.\n",
              "const MAX_PAYLOAD_SIZE = 100 * 1024;\n",
              "\n",
              "function _uploadFiles(inputId, outputId) {\n",
              "  const steps = uploadFilesStep(inputId, outputId);\n",
              "  const outputElement = document.getElementById(outputId);\n",
              "  // Cache steps on the outputElement to make it available for the next call\n",
              "  // to uploadFilesContinue from Python.\n",
              "  outputElement.steps = steps;\n",
              "\n",
              "  return _uploadFilesContinue(outputId);\n",
              "}\n",
              "\n",
              "// This is roughly an async generator (not supported in the browser yet),\n",
              "// where there are multiple asynchronous steps and the Python side is going\n",
              "// to poll for completion of each step.\n",
              "// This uses a Promise to block the python side on completion of each step,\n",
              "// then passes the result of the previous step as the input to the next step.\n",
              "function _uploadFilesContinue(outputId) {\n",
              "  const outputElement = document.getElementById(outputId);\n",
              "  const steps = outputElement.steps;\n",
              "\n",
              "  const next = steps.next(outputElement.lastPromiseValue);\n",
              "  return Promise.resolve(next.value.promise).then((value) => {\n",
              "    // Cache the last promise value to make it available to the next\n",
              "    // step of the generator.\n",
              "    outputElement.lastPromiseValue = value;\n",
              "    return next.value.response;\n",
              "  });\n",
              "}\n",
              "\n",
              "/**\n",
              " * Generator function which is called between each async step of the upload\n",
              " * process.\n",
              " * @param {string} inputId Element ID of the input file picker element.\n",
              " * @param {string} outputId Element ID of the output display.\n",
              " * @return {!Iterable<!Object>} Iterable of next steps.\n",
              " */\n",
              "function* uploadFilesStep(inputId, outputId) {\n",
              "  const inputElement = document.getElementById(inputId);\n",
              "  inputElement.disabled = false;\n",
              "\n",
              "  const outputElement = document.getElementById(outputId);\n",
              "  outputElement.innerHTML = '';\n",
              "\n",
              "  const pickedPromise = new Promise((resolve) => {\n",
              "    inputElement.addEventListener('change', (e) => {\n",
              "      resolve(e.target.files);\n",
              "    });\n",
              "  });\n",
              "\n",
              "  const cancel = document.createElement('button');\n",
              "  inputElement.parentElement.appendChild(cancel);\n",
              "  cancel.textContent = 'Cancel upload';\n",
              "  const cancelPromise = new Promise((resolve) => {\n",
              "    cancel.onclick = () => {\n",
              "      resolve(null);\n",
              "    };\n",
              "  });\n",
              "\n",
              "  // Wait for the user to pick the files.\n",
              "  const files = yield {\n",
              "    promise: Promise.race([pickedPromise, cancelPromise]),\n",
              "    response: {\n",
              "      action: 'starting',\n",
              "    }\n",
              "  };\n",
              "\n",
              "  cancel.remove();\n",
              "\n",
              "  // Disable the input element since further picks are not allowed.\n",
              "  inputElement.disabled = true;\n",
              "\n",
              "  if (!files) {\n",
              "    return {\n",
              "      response: {\n",
              "        action: 'complete',\n",
              "      }\n",
              "    };\n",
              "  }\n",
              "\n",
              "  for (const file of files) {\n",
              "    const li = document.createElement('li');\n",
              "    li.append(span(file.name, {fontWeight: 'bold'}));\n",
              "    li.append(span(\n",
              "        `(${file.type || 'n/a'}) - ${file.size} bytes, ` +\n",
              "        `last modified: ${\n",
              "            file.lastModifiedDate ? file.lastModifiedDate.toLocaleDateString() :\n",
              "                                    'n/a'} - `));\n",
              "    const percent = span('0% done');\n",
              "    li.appendChild(percent);\n",
              "\n",
              "    outputElement.appendChild(li);\n",
              "\n",
              "    const fileDataPromise = new Promise((resolve) => {\n",
              "      const reader = new FileReader();\n",
              "      reader.onload = (e) => {\n",
              "        resolve(e.target.result);\n",
              "      };\n",
              "      reader.readAsArrayBuffer(file);\n",
              "    });\n",
              "    // Wait for the data to be ready.\n",
              "    let fileData = yield {\n",
              "      promise: fileDataPromise,\n",
              "      response: {\n",
              "        action: 'continue',\n",
              "      }\n",
              "    };\n",
              "\n",
              "    // Use a chunked sending to avoid message size limits. See b/62115660.\n",
              "    let position = 0;\n",
              "    do {\n",
              "      const length = Math.min(fileData.byteLength - position, MAX_PAYLOAD_SIZE);\n",
              "      const chunk = new Uint8Array(fileData, position, length);\n",
              "      position += length;\n",
              "\n",
              "      const base64 = btoa(String.fromCharCode.apply(null, chunk));\n",
              "      yield {\n",
              "        response: {\n",
              "          action: 'append',\n",
              "          file: file.name,\n",
              "          data: base64,\n",
              "        },\n",
              "      };\n",
              "\n",
              "      let percentDone = fileData.byteLength === 0 ?\n",
              "          100 :\n",
              "          Math.round((position / fileData.byteLength) * 100);\n",
              "      percent.textContent = `${percentDone}% done`;\n",
              "\n",
              "    } while (position < fileData.byteLength);\n",
              "  }\n",
              "\n",
              "  // All done.\n",
              "  yield {\n",
              "    response: {\n",
              "      action: 'complete',\n",
              "    }\n",
              "  };\n",
              "}\n",
              "\n",
              "scope.google = scope.google || {};\n",
              "scope.google.colab = scope.google.colab || {};\n",
              "scope.google.colab._files = {\n",
              "  _uploadFiles,\n",
              "  _uploadFilesContinue,\n",
              "};\n",
              "})(self);\n",
              "</script> "
            ]
          },
          "metadata": {}
        },
        {
          "output_type": "stream",
          "name": "stdout",
          "text": [
            "Saving archive.zip to archive.zip\n"
          ]
        }
      ],
      "source": [
        "from google.colab import files\n",
        "# Download the dataset. It will be downloaded as archive.zip in your pc\n",
        "# Up\n",
        "\n",
        "# Prompt user to upload a folder\n",
        "uploaded = files.upload()"
      ]
    },
    {
      "cell_type": "code",
      "execution_count": 4,
      "metadata": {
        "colab": {
          "base_uri": "https://localhost:8080/"
        },
        "id": "fySp8DD67ZaY",
        "outputId": "45dd03d1-b4ab-46eb-c220-7d9d05f6edc9"
      },
      "outputs": [
        {
          "output_type": "stream",
          "name": "stdout",
          "text": [
            "Archive:  /content/archive.zip\n",
            "  inflating: ./test.txt              \n",
            "  inflating: ./train.txt             \n",
            "  inflating: ./val.txt               \n"
          ]
        }
      ],
      "source": [
        "!unzip /content/archive.zip -d ."
      ]
    },
    {
      "cell_type": "markdown",
      "metadata": {
        "id": "KI1HADaQ6E-W"
      },
      "source": [
        "<span><h1 style = \"font-family: garamond; font-size: 40px; font-style: normal; letter-spcaing: 3px; background-color: #f6f5f5; color :#C01F4D; border-radius: 100px 100px; text-align:center\"> Emotion Recognition using LSTM </h1></span>\n",
        "\n",
        "Emotion recognition is a task in affective computing that involves identifying and categorizing human emotions based on various inputs, such as speech, text, image, or video. Long Short-Term Memory (LSTM) is a type of Recurrent Neural Network (RNN) that can be used for emotion recognition tasks due to its ability to capture long-term dependencies in sequential data."
      ]
    },
    {
      "cell_type": "code",
      "execution_count": 5,
      "metadata": {
        "colab": {
          "base_uri": "https://localhost:8080/"
        },
        "id": "-iK4UCku6E-Z",
        "outputId": "23b3d711-fd44-4a9c-c1f0-6ea02fbeaa44"
      },
      "outputs": [
        {
          "output_type": "stream",
          "name": "stderr",
          "text": [
            "[nltk_data] Downloading package stopwords to /root/nltk_data...\n",
            "[nltk_data]   Unzipping corpora/stopwords.zip.\n",
            "[nltk_data] Downloading package wordnet to /root/nltk_data...\n"
          ]
        },
        {
          "output_type": "execute_result",
          "data": {
            "text/plain": [
              "True"
            ]
          },
          "metadata": {},
          "execution_count": 5
        }
      ],
      "source": [
        "import os, sys, random, time, datetime, re\n",
        "import numpy as np\n",
        "import pandas as pd\n",
        "import matplotlib.pyplot as plt\n",
        "import tqdm\n",
        "\n",
        "import torch\n",
        "from torch import nn\n",
        "from torch.utils.data import Dataset, DataLoader\n",
        "from torch.nn.utils.rnn import pad_sequence\n",
        "\n",
        "from sklearn.utils.class_weight import compute_class_weight\n",
        "from sklearn.metrics import classification_report\n",
        "from sklearn.metrics import ConfusionMatrixDisplay\n",
        "from sklearn.metrics import f1_score\n",
        "\n",
        "import nltk\n",
        "from nltk.corpus import stopwords\n",
        "from nltk.stem import WordNetLemmatizer\n",
        "\n",
        "nltk.download('stopwords')\n",
        "nltk.download('wordnet')"
      ]
    },
    {
      "cell_type": "markdown",
      "metadata": {
        "id": "Jy2VB1hR6E-b"
      },
      "source": [
        "# <span><h1 style = \"font-family: garamond; font-size: 40px; font-style: normal; letter-spcaing: 3px; background-color: #f6f5f5; color :#C01F4D; border-radius: 100px 100px; text-align:center\"> Configuration File </h1></span>\n",
        "\n",
        "It is very similar to yaml file. We are using a config class instead of yaml file. In the config file, we are setting all the hyperparameters and essential variable assignment"
      ]
    },
    {
      "cell_type": "code",
      "execution_count": 6,
      "metadata": {
        "id": "AfmDkGOR6E-c"
      },
      "outputs": [],
      "source": [
        "# Hyper parameters etc.\n",
        "class CFG:\n",
        "    debug = True\n",
        "    n_epochs = 30\n",
        "    learning_rate = 1.0e-3\n",
        "    batch_size = 64\n",
        "    target_cols = ['label'] # target columns\n",
        "    seed = 42\n",
        "\n",
        "    # Model parameters\n",
        "    vocab_size = None\n",
        "    embedding_dim = 300\n",
        "    hidden_dim = 128\n",
        "    dropout_rate = 0.25\n",
        "    lstm_dropout_rate = 0.2,\n",
        "    num_lstm_layers = 1\n",
        "    num_class = None"
      ]
    },
    {
      "cell_type": "code",
      "execution_count": 7,
      "metadata": {
        "id": "35rKyWnP6E-c"
      },
      "outputs": [],
      "source": [
        "# Set random seeds for reproducibility\n",
        "def seed_everything(seed=42):\n",
        "    random.seed(seed)\n",
        "    os.environ['PYTHONHASHSEED'] = str(seed)\n",
        "    np.random.seed(seed)\n",
        "    torch.manual_seed(seed)\n",
        "    torch.cuda.manual_seed(seed)\n",
        "    torch.backends.cudnn.deterministic = True\n",
        "\n",
        "seed_everything(CFG.seed)"
      ]
    },
    {
      "cell_type": "markdown",
      "metadata": {
        "id": "8V6mFXiV6E-c"
      },
      "source": [
        "# <span><h1 style = \"font-family: garamond; font-size: 40px; font-style: normal; letter-spcaing: 3px; background-color: #f6f5f5; color :#C01F4D; border-radius: 100px 100px; text-align:center\"> Dataset Loading </h1></span>\n",
        "\n",
        "Let's load the dataset and see the category distribution of the dataset."
      ]
    },
    {
      "cell_type": "code",
      "execution_count": 8,
      "metadata": {
        "colab": {
          "base_uri": "https://localhost:8080/",
          "height": 637
        },
        "id": "b5FanltK6E-c",
        "outputId": "40820cc9-8796-4e2f-ec76-2e164f905173"
      },
      "outputs": [
        {
          "output_type": "stream",
          "name": "stdout",
          "text": [
            "train.shape: (16000, 2)\n"
          ]
        },
        {
          "output_type": "display_data",
          "data": {
            "text/plain": [
              "                                                text  emotion\n",
              "0                            i didnt feel humiliated  sadness\n",
              "1  i can go from feeling so hopeless to so damned...  sadness\n",
              "2   im grabbing a minute to post i feel greedy wrong    anger\n",
              "3  i am ever feeling nostalgic about the fireplac...     love\n",
              "4                               i am feeling grouchy    anger"
            ],
            "text/html": [
              "\n",
              "  <div id=\"df-ee88b0bf-5a37-4ce0-bc94-25867b228481\" class=\"colab-df-container\">\n",
              "    <div>\n",
              "<style scoped>\n",
              "    .dataframe tbody tr th:only-of-type {\n",
              "        vertical-align: middle;\n",
              "    }\n",
              "\n",
              "    .dataframe tbody tr th {\n",
              "        vertical-align: top;\n",
              "    }\n",
              "\n",
              "    .dataframe thead th {\n",
              "        text-align: right;\n",
              "    }\n",
              "</style>\n",
              "<table border=\"1\" class=\"dataframe\">\n",
              "  <thead>\n",
              "    <tr style=\"text-align: right;\">\n",
              "      <th></th>\n",
              "      <th>text</th>\n",
              "      <th>emotion</th>\n",
              "    </tr>\n",
              "  </thead>\n",
              "  <tbody>\n",
              "    <tr>\n",
              "      <th>0</th>\n",
              "      <td>i didnt feel humiliated</td>\n",
              "      <td>sadness</td>\n",
              "    </tr>\n",
              "    <tr>\n",
              "      <th>1</th>\n",
              "      <td>i can go from feeling so hopeless to so damned...</td>\n",
              "      <td>sadness</td>\n",
              "    </tr>\n",
              "    <tr>\n",
              "      <th>2</th>\n",
              "      <td>im grabbing a minute to post i feel greedy wrong</td>\n",
              "      <td>anger</td>\n",
              "    </tr>\n",
              "    <tr>\n",
              "      <th>3</th>\n",
              "      <td>i am ever feeling nostalgic about the fireplac...</td>\n",
              "      <td>love</td>\n",
              "    </tr>\n",
              "    <tr>\n",
              "      <th>4</th>\n",
              "      <td>i am feeling grouchy</td>\n",
              "      <td>anger</td>\n",
              "    </tr>\n",
              "  </tbody>\n",
              "</table>\n",
              "</div>\n",
              "    <div class=\"colab-df-buttons\">\n",
              "\n",
              "  <div class=\"colab-df-container\">\n",
              "    <button class=\"colab-df-convert\" onclick=\"convertToInteractive('df-ee88b0bf-5a37-4ce0-bc94-25867b228481')\"\n",
              "            title=\"Convert this dataframe to an interactive table.\"\n",
              "            style=\"display:none;\">\n",
              "\n",
              "  <svg xmlns=\"http://www.w3.org/2000/svg\" height=\"24px\" viewBox=\"0 -960 960 960\">\n",
              "    <path d=\"M120-120v-720h720v720H120Zm60-500h600v-160H180v160Zm220 220h160v-160H400v160Zm0 220h160v-160H400v160ZM180-400h160v-160H180v160Zm440 0h160v-160H620v160ZM180-180h160v-160H180v160Zm440 0h160v-160H620v160Z\"/>\n",
              "  </svg>\n",
              "    </button>\n",
              "\n",
              "  <style>\n",
              "    .colab-df-container {\n",
              "      display:flex;\n",
              "      gap: 12px;\n",
              "    }\n",
              "\n",
              "    .colab-df-convert {\n",
              "      background-color: #E8F0FE;\n",
              "      border: none;\n",
              "      border-radius: 50%;\n",
              "      cursor: pointer;\n",
              "      display: none;\n",
              "      fill: #1967D2;\n",
              "      height: 32px;\n",
              "      padding: 0 0 0 0;\n",
              "      width: 32px;\n",
              "    }\n",
              "\n",
              "    .colab-df-convert:hover {\n",
              "      background-color: #E2EBFA;\n",
              "      box-shadow: 0px 1px 2px rgba(60, 64, 67, 0.3), 0px 1px 3px 1px rgba(60, 64, 67, 0.15);\n",
              "      fill: #174EA6;\n",
              "    }\n",
              "\n",
              "    .colab-df-buttons div {\n",
              "      margin-bottom: 4px;\n",
              "    }\n",
              "\n",
              "    [theme=dark] .colab-df-convert {\n",
              "      background-color: #3B4455;\n",
              "      fill: #D2E3FC;\n",
              "    }\n",
              "\n",
              "    [theme=dark] .colab-df-convert:hover {\n",
              "      background-color: #434B5C;\n",
              "      box-shadow: 0px 1px 3px 1px rgba(0, 0, 0, 0.15);\n",
              "      filter: drop-shadow(0px 1px 2px rgba(0, 0, 0, 0.3));\n",
              "      fill: #FFFFFF;\n",
              "    }\n",
              "  </style>\n",
              "\n",
              "    <script>\n",
              "      const buttonEl =\n",
              "        document.querySelector('#df-ee88b0bf-5a37-4ce0-bc94-25867b228481 button.colab-df-convert');\n",
              "      buttonEl.style.display =\n",
              "        google.colab.kernel.accessAllowed ? 'block' : 'none';\n",
              "\n",
              "      async function convertToInteractive(key) {\n",
              "        const element = document.querySelector('#df-ee88b0bf-5a37-4ce0-bc94-25867b228481');\n",
              "        const dataTable =\n",
              "          await google.colab.kernel.invokeFunction('convertToInteractive',\n",
              "                                                    [key], {});\n",
              "        if (!dataTable) return;\n",
              "\n",
              "        const docLinkHtml = 'Like what you see? Visit the ' +\n",
              "          '<a target=\"_blank\" href=https://colab.research.google.com/notebooks/data_table.ipynb>data table notebook</a>'\n",
              "          + ' to learn more about interactive tables.';\n",
              "        element.innerHTML = '';\n",
              "        dataTable['output_type'] = 'display_data';\n",
              "        await google.colab.output.renderOutput(dataTable, element);\n",
              "        const docLink = document.createElement('div');\n",
              "        docLink.innerHTML = docLinkHtml;\n",
              "        element.appendChild(docLink);\n",
              "      }\n",
              "    </script>\n",
              "  </div>\n",
              "\n",
              "\n",
              "<div id=\"df-9edecd95-1616-4c93-ac60-3bf128304cb6\">\n",
              "  <button class=\"colab-df-quickchart\" onclick=\"quickchart('df-9edecd95-1616-4c93-ac60-3bf128304cb6')\"\n",
              "            title=\"Suggest charts\"\n",
              "            style=\"display:none;\">\n",
              "\n",
              "<svg xmlns=\"http://www.w3.org/2000/svg\" height=\"24px\"viewBox=\"0 0 24 24\"\n",
              "     width=\"24px\">\n",
              "    <g>\n",
              "        <path d=\"M19 3H5c-1.1 0-2 .9-2 2v14c0 1.1.9 2 2 2h14c1.1 0 2-.9 2-2V5c0-1.1-.9-2-2-2zM9 17H7v-7h2v7zm4 0h-2V7h2v10zm4 0h-2v-4h2v4z\"/>\n",
              "    </g>\n",
              "</svg>\n",
              "  </button>\n",
              "\n",
              "<style>\n",
              "  .colab-df-quickchart {\n",
              "      --bg-color: #E8F0FE;\n",
              "      --fill-color: #1967D2;\n",
              "      --hover-bg-color: #E2EBFA;\n",
              "      --hover-fill-color: #174EA6;\n",
              "      --disabled-fill-color: #AAA;\n",
              "      --disabled-bg-color: #DDD;\n",
              "  }\n",
              "\n",
              "  [theme=dark] .colab-df-quickchart {\n",
              "      --bg-color: #3B4455;\n",
              "      --fill-color: #D2E3FC;\n",
              "      --hover-bg-color: #434B5C;\n",
              "      --hover-fill-color: #FFFFFF;\n",
              "      --disabled-bg-color: #3B4455;\n",
              "      --disabled-fill-color: #666;\n",
              "  }\n",
              "\n",
              "  .colab-df-quickchart {\n",
              "    background-color: var(--bg-color);\n",
              "    border: none;\n",
              "    border-radius: 50%;\n",
              "    cursor: pointer;\n",
              "    display: none;\n",
              "    fill: var(--fill-color);\n",
              "    height: 32px;\n",
              "    padding: 0;\n",
              "    width: 32px;\n",
              "  }\n",
              "\n",
              "  .colab-df-quickchart:hover {\n",
              "    background-color: var(--hover-bg-color);\n",
              "    box-shadow: 0 1px 2px rgba(60, 64, 67, 0.3), 0 1px 3px 1px rgba(60, 64, 67, 0.15);\n",
              "    fill: var(--button-hover-fill-color);\n",
              "  }\n",
              "\n",
              "  .colab-df-quickchart-complete:disabled,\n",
              "  .colab-df-quickchart-complete:disabled:hover {\n",
              "    background-color: var(--disabled-bg-color);\n",
              "    fill: var(--disabled-fill-color);\n",
              "    box-shadow: none;\n",
              "  }\n",
              "\n",
              "  .colab-df-spinner {\n",
              "    border: 2px solid var(--fill-color);\n",
              "    border-color: transparent;\n",
              "    border-bottom-color: var(--fill-color);\n",
              "    animation:\n",
              "      spin 1s steps(1) infinite;\n",
              "  }\n",
              "\n",
              "  @keyframes spin {\n",
              "    0% {\n",
              "      border-color: transparent;\n",
              "      border-bottom-color: var(--fill-color);\n",
              "      border-left-color: var(--fill-color);\n",
              "    }\n",
              "    20% {\n",
              "      border-color: transparent;\n",
              "      border-left-color: var(--fill-color);\n",
              "      border-top-color: var(--fill-color);\n",
              "    }\n",
              "    30% {\n",
              "      border-color: transparent;\n",
              "      border-left-color: var(--fill-color);\n",
              "      border-top-color: var(--fill-color);\n",
              "      border-right-color: var(--fill-color);\n",
              "    }\n",
              "    40% {\n",
              "      border-color: transparent;\n",
              "      border-right-color: var(--fill-color);\n",
              "      border-top-color: var(--fill-color);\n",
              "    }\n",
              "    60% {\n",
              "      border-color: transparent;\n",
              "      border-right-color: var(--fill-color);\n",
              "    }\n",
              "    80% {\n",
              "      border-color: transparent;\n",
              "      border-right-color: var(--fill-color);\n",
              "      border-bottom-color: var(--fill-color);\n",
              "    }\n",
              "    90% {\n",
              "      border-color: transparent;\n",
              "      border-bottom-color: var(--fill-color);\n",
              "    }\n",
              "  }\n",
              "</style>\n",
              "\n",
              "  <script>\n",
              "    async function quickchart(key) {\n",
              "      const quickchartButtonEl =\n",
              "        document.querySelector('#' + key + ' button');\n",
              "      quickchartButtonEl.disabled = true;  // To prevent multiple clicks.\n",
              "      quickchartButtonEl.classList.add('colab-df-spinner');\n",
              "      try {\n",
              "        const charts = await google.colab.kernel.invokeFunction(\n",
              "            'suggestCharts', [key], {});\n",
              "      } catch (error) {\n",
              "        console.error('Error during call to suggestCharts:', error);\n",
              "      }\n",
              "      quickchartButtonEl.classList.remove('colab-df-spinner');\n",
              "      quickchartButtonEl.classList.add('colab-df-quickchart-complete');\n",
              "    }\n",
              "    (() => {\n",
              "      let quickchartButtonEl =\n",
              "        document.querySelector('#df-9edecd95-1616-4c93-ac60-3bf128304cb6 button');\n",
              "      quickchartButtonEl.style.display =\n",
              "        google.colab.kernel.accessAllowed ? 'block' : 'none';\n",
              "    })();\n",
              "  </script>\n",
              "</div>\n",
              "\n",
              "    </div>\n",
              "  </div>\n"
            ],
            "application/vnd.google.colaboratory.intrinsic+json": {
              "type": "dataframe",
              "summary": "{\n  \"name\": \"display(test\",\n  \"rows\": 5,\n  \"fields\": [\n    {\n      \"column\": \"text\",\n      \"properties\": {\n        \"dtype\": \"string\",\n        \"num_unique_values\": 5,\n        \"samples\": [\n          \"i can go from feeling so hopeless to so damned hopeful just from being around someone who cares and is awake\",\n          \"i am feeling grouchy\",\n          \"im grabbing a minute to post i feel greedy wrong\"\n        ],\n        \"semantic_type\": \"\",\n        \"description\": \"\"\n      }\n    },\n    {\n      \"column\": \"emotion\",\n      \"properties\": {\n        \"dtype\": \"string\",\n        \"num_unique_values\": 3,\n        \"samples\": [\n          \"sadness\",\n          \"anger\",\n          \"love\"\n        ],\n        \"semantic_type\": \"\",\n        \"description\": \"\"\n      }\n    }\n  ]\n}"
            }
          },
          "metadata": {}
        },
        {
          "output_type": "stream",
          "name": "stdout",
          "text": [
            "valid.shape: (2000, 2)\n"
          ]
        },
        {
          "output_type": "display_data",
          "data": {
            "text/plain": [
              "                                                text  emotion\n",
              "0  im feeling quite sad and sorry for myself but ...  sadness\n",
              "1  i feel like i am still looking at a blank canv...  sadness\n",
              "2                     i feel like a faithful servant     love\n",
              "3                  i am just feeling cranky and blue    anger\n",
              "4  i can have for a treat or if i am feeling festive      joy"
            ],
            "text/html": [
              "\n",
              "  <div id=\"df-b4e581d8-f360-470d-b3a2-d9efc23259d5\" class=\"colab-df-container\">\n",
              "    <div>\n",
              "<style scoped>\n",
              "    .dataframe tbody tr th:only-of-type {\n",
              "        vertical-align: middle;\n",
              "    }\n",
              "\n",
              "    .dataframe tbody tr th {\n",
              "        vertical-align: top;\n",
              "    }\n",
              "\n",
              "    .dataframe thead th {\n",
              "        text-align: right;\n",
              "    }\n",
              "</style>\n",
              "<table border=\"1\" class=\"dataframe\">\n",
              "  <thead>\n",
              "    <tr style=\"text-align: right;\">\n",
              "      <th></th>\n",
              "      <th>text</th>\n",
              "      <th>emotion</th>\n",
              "    </tr>\n",
              "  </thead>\n",
              "  <tbody>\n",
              "    <tr>\n",
              "      <th>0</th>\n",
              "      <td>im feeling quite sad and sorry for myself but ...</td>\n",
              "      <td>sadness</td>\n",
              "    </tr>\n",
              "    <tr>\n",
              "      <th>1</th>\n",
              "      <td>i feel like i am still looking at a blank canv...</td>\n",
              "      <td>sadness</td>\n",
              "    </tr>\n",
              "    <tr>\n",
              "      <th>2</th>\n",
              "      <td>i feel like a faithful servant</td>\n",
              "      <td>love</td>\n",
              "    </tr>\n",
              "    <tr>\n",
              "      <th>3</th>\n",
              "      <td>i am just feeling cranky and blue</td>\n",
              "      <td>anger</td>\n",
              "    </tr>\n",
              "    <tr>\n",
              "      <th>4</th>\n",
              "      <td>i can have for a treat or if i am feeling festive</td>\n",
              "      <td>joy</td>\n",
              "    </tr>\n",
              "  </tbody>\n",
              "</table>\n",
              "</div>\n",
              "    <div class=\"colab-df-buttons\">\n",
              "\n",
              "  <div class=\"colab-df-container\">\n",
              "    <button class=\"colab-df-convert\" onclick=\"convertToInteractive('df-b4e581d8-f360-470d-b3a2-d9efc23259d5')\"\n",
              "            title=\"Convert this dataframe to an interactive table.\"\n",
              "            style=\"display:none;\">\n",
              "\n",
              "  <svg xmlns=\"http://www.w3.org/2000/svg\" height=\"24px\" viewBox=\"0 -960 960 960\">\n",
              "    <path d=\"M120-120v-720h720v720H120Zm60-500h600v-160H180v160Zm220 220h160v-160H400v160Zm0 220h160v-160H400v160ZM180-400h160v-160H180v160Zm440 0h160v-160H620v160ZM180-180h160v-160H180v160Zm440 0h160v-160H620v160Z\"/>\n",
              "  </svg>\n",
              "    </button>\n",
              "\n",
              "  <style>\n",
              "    .colab-df-container {\n",
              "      display:flex;\n",
              "      gap: 12px;\n",
              "    }\n",
              "\n",
              "    .colab-df-convert {\n",
              "      background-color: #E8F0FE;\n",
              "      border: none;\n",
              "      border-radius: 50%;\n",
              "      cursor: pointer;\n",
              "      display: none;\n",
              "      fill: #1967D2;\n",
              "      height: 32px;\n",
              "      padding: 0 0 0 0;\n",
              "      width: 32px;\n",
              "    }\n",
              "\n",
              "    .colab-df-convert:hover {\n",
              "      background-color: #E2EBFA;\n",
              "      box-shadow: 0px 1px 2px rgba(60, 64, 67, 0.3), 0px 1px 3px 1px rgba(60, 64, 67, 0.15);\n",
              "      fill: #174EA6;\n",
              "    }\n",
              "\n",
              "    .colab-df-buttons div {\n",
              "      margin-bottom: 4px;\n",
              "    }\n",
              "\n",
              "    [theme=dark] .colab-df-convert {\n",
              "      background-color: #3B4455;\n",
              "      fill: #D2E3FC;\n",
              "    }\n",
              "\n",
              "    [theme=dark] .colab-df-convert:hover {\n",
              "      background-color: #434B5C;\n",
              "      box-shadow: 0px 1px 3px 1px rgba(0, 0, 0, 0.15);\n",
              "      filter: drop-shadow(0px 1px 2px rgba(0, 0, 0, 0.3));\n",
              "      fill: #FFFFFF;\n",
              "    }\n",
              "  </style>\n",
              "\n",
              "    <script>\n",
              "      const buttonEl =\n",
              "        document.querySelector('#df-b4e581d8-f360-470d-b3a2-d9efc23259d5 button.colab-df-convert');\n",
              "      buttonEl.style.display =\n",
              "        google.colab.kernel.accessAllowed ? 'block' : 'none';\n",
              "\n",
              "      async function convertToInteractive(key) {\n",
              "        const element = document.querySelector('#df-b4e581d8-f360-470d-b3a2-d9efc23259d5');\n",
              "        const dataTable =\n",
              "          await google.colab.kernel.invokeFunction('convertToInteractive',\n",
              "                                                    [key], {});\n",
              "        if (!dataTable) return;\n",
              "\n",
              "        const docLinkHtml = 'Like what you see? Visit the ' +\n",
              "          '<a target=\"_blank\" href=https://colab.research.google.com/notebooks/data_table.ipynb>data table notebook</a>'\n",
              "          + ' to learn more about interactive tables.';\n",
              "        element.innerHTML = '';\n",
              "        dataTable['output_type'] = 'display_data';\n",
              "        await google.colab.output.renderOutput(dataTable, element);\n",
              "        const docLink = document.createElement('div');\n",
              "        docLink.innerHTML = docLinkHtml;\n",
              "        element.appendChild(docLink);\n",
              "      }\n",
              "    </script>\n",
              "  </div>\n",
              "\n",
              "\n",
              "<div id=\"df-05e3e53b-54d0-476f-99e7-aa0cf365681d\">\n",
              "  <button class=\"colab-df-quickchart\" onclick=\"quickchart('df-05e3e53b-54d0-476f-99e7-aa0cf365681d')\"\n",
              "            title=\"Suggest charts\"\n",
              "            style=\"display:none;\">\n",
              "\n",
              "<svg xmlns=\"http://www.w3.org/2000/svg\" height=\"24px\"viewBox=\"0 0 24 24\"\n",
              "     width=\"24px\">\n",
              "    <g>\n",
              "        <path d=\"M19 3H5c-1.1 0-2 .9-2 2v14c0 1.1.9 2 2 2h14c1.1 0 2-.9 2-2V5c0-1.1-.9-2-2-2zM9 17H7v-7h2v7zm4 0h-2V7h2v10zm4 0h-2v-4h2v4z\"/>\n",
              "    </g>\n",
              "</svg>\n",
              "  </button>\n",
              "\n",
              "<style>\n",
              "  .colab-df-quickchart {\n",
              "      --bg-color: #E8F0FE;\n",
              "      --fill-color: #1967D2;\n",
              "      --hover-bg-color: #E2EBFA;\n",
              "      --hover-fill-color: #174EA6;\n",
              "      --disabled-fill-color: #AAA;\n",
              "      --disabled-bg-color: #DDD;\n",
              "  }\n",
              "\n",
              "  [theme=dark] .colab-df-quickchart {\n",
              "      --bg-color: #3B4455;\n",
              "      --fill-color: #D2E3FC;\n",
              "      --hover-bg-color: #434B5C;\n",
              "      --hover-fill-color: #FFFFFF;\n",
              "      --disabled-bg-color: #3B4455;\n",
              "      --disabled-fill-color: #666;\n",
              "  }\n",
              "\n",
              "  .colab-df-quickchart {\n",
              "    background-color: var(--bg-color);\n",
              "    border: none;\n",
              "    border-radius: 50%;\n",
              "    cursor: pointer;\n",
              "    display: none;\n",
              "    fill: var(--fill-color);\n",
              "    height: 32px;\n",
              "    padding: 0;\n",
              "    width: 32px;\n",
              "  }\n",
              "\n",
              "  .colab-df-quickchart:hover {\n",
              "    background-color: var(--hover-bg-color);\n",
              "    box-shadow: 0 1px 2px rgba(60, 64, 67, 0.3), 0 1px 3px 1px rgba(60, 64, 67, 0.15);\n",
              "    fill: var(--button-hover-fill-color);\n",
              "  }\n",
              "\n",
              "  .colab-df-quickchart-complete:disabled,\n",
              "  .colab-df-quickchart-complete:disabled:hover {\n",
              "    background-color: var(--disabled-bg-color);\n",
              "    fill: var(--disabled-fill-color);\n",
              "    box-shadow: none;\n",
              "  }\n",
              "\n",
              "  .colab-df-spinner {\n",
              "    border: 2px solid var(--fill-color);\n",
              "    border-color: transparent;\n",
              "    border-bottom-color: var(--fill-color);\n",
              "    animation:\n",
              "      spin 1s steps(1) infinite;\n",
              "  }\n",
              "\n",
              "  @keyframes spin {\n",
              "    0% {\n",
              "      border-color: transparent;\n",
              "      border-bottom-color: var(--fill-color);\n",
              "      border-left-color: var(--fill-color);\n",
              "    }\n",
              "    20% {\n",
              "      border-color: transparent;\n",
              "      border-left-color: var(--fill-color);\n",
              "      border-top-color: var(--fill-color);\n",
              "    }\n",
              "    30% {\n",
              "      border-color: transparent;\n",
              "      border-left-color: var(--fill-color);\n",
              "      border-top-color: var(--fill-color);\n",
              "      border-right-color: var(--fill-color);\n",
              "    }\n",
              "    40% {\n",
              "      border-color: transparent;\n",
              "      border-right-color: var(--fill-color);\n",
              "      border-top-color: var(--fill-color);\n",
              "    }\n",
              "    60% {\n",
              "      border-color: transparent;\n",
              "      border-right-color: var(--fill-color);\n",
              "    }\n",
              "    80% {\n",
              "      border-color: transparent;\n",
              "      border-right-color: var(--fill-color);\n",
              "      border-bottom-color: var(--fill-color);\n",
              "    }\n",
              "    90% {\n",
              "      border-color: transparent;\n",
              "      border-bottom-color: var(--fill-color);\n",
              "    }\n",
              "  }\n",
              "</style>\n",
              "\n",
              "  <script>\n",
              "    async function quickchart(key) {\n",
              "      const quickchartButtonEl =\n",
              "        document.querySelector('#' + key + ' button');\n",
              "      quickchartButtonEl.disabled = true;  // To prevent multiple clicks.\n",
              "      quickchartButtonEl.classList.add('colab-df-spinner');\n",
              "      try {\n",
              "        const charts = await google.colab.kernel.invokeFunction(\n",
              "            'suggestCharts', [key], {});\n",
              "      } catch (error) {\n",
              "        console.error('Error during call to suggestCharts:', error);\n",
              "      }\n",
              "      quickchartButtonEl.classList.remove('colab-df-spinner');\n",
              "      quickchartButtonEl.classList.add('colab-df-quickchart-complete');\n",
              "    }\n",
              "    (() => {\n",
              "      let quickchartButtonEl =\n",
              "        document.querySelector('#df-05e3e53b-54d0-476f-99e7-aa0cf365681d button');\n",
              "      quickchartButtonEl.style.display =\n",
              "        google.colab.kernel.accessAllowed ? 'block' : 'none';\n",
              "    })();\n",
              "  </script>\n",
              "</div>\n",
              "\n",
              "    </div>\n",
              "  </div>\n"
            ],
            "application/vnd.google.colaboratory.intrinsic+json": {
              "type": "dataframe",
              "summary": "{\n  \"name\": \"display(test\",\n  \"rows\": 5,\n  \"fields\": [\n    {\n      \"column\": \"text\",\n      \"properties\": {\n        \"dtype\": \"string\",\n        \"num_unique_values\": 5,\n        \"samples\": [\n          \"i feel like i am still looking at a blank canvas blank pieces of paper\",\n          \"i can have for a treat or if i am feeling festive\",\n          \"i feel like a faithful servant\"\n        ],\n        \"semantic_type\": \"\",\n        \"description\": \"\"\n      }\n    },\n    {\n      \"column\": \"emotion\",\n      \"properties\": {\n        \"dtype\": \"string\",\n        \"num_unique_values\": 4,\n        \"samples\": [\n          \"love\",\n          \"joy\",\n          \"sadness\"\n        ],\n        \"semantic_type\": \"\",\n        \"description\": \"\"\n      }\n    }\n  ]\n}"
            }
          },
          "metadata": {}
        },
        {
          "output_type": "stream",
          "name": "stdout",
          "text": [
            "test.shape: (2000, 2)\n"
          ]
        },
        {
          "output_type": "display_data",
          "data": {
            "text/plain": [
              "                                                text  emotion\n",
              "0  im feeling rather rotten so im not very ambiti...  sadness\n",
              "1          im updating my blog because i feel shitty  sadness\n",
              "2  i never make her separate from me because i do...  sadness\n",
              "3  i left with my bouquet of red and yellow tulip...      joy\n",
              "4    i was feeling a little vain when i did this one  sadness"
            ],
            "text/html": [
              "\n",
              "  <div id=\"df-6ea08a3b-72a1-4a45-8cfb-221dca06b82d\" class=\"colab-df-container\">\n",
              "    <div>\n",
              "<style scoped>\n",
              "    .dataframe tbody tr th:only-of-type {\n",
              "        vertical-align: middle;\n",
              "    }\n",
              "\n",
              "    .dataframe tbody tr th {\n",
              "        vertical-align: top;\n",
              "    }\n",
              "\n",
              "    .dataframe thead th {\n",
              "        text-align: right;\n",
              "    }\n",
              "</style>\n",
              "<table border=\"1\" class=\"dataframe\">\n",
              "  <thead>\n",
              "    <tr style=\"text-align: right;\">\n",
              "      <th></th>\n",
              "      <th>text</th>\n",
              "      <th>emotion</th>\n",
              "    </tr>\n",
              "  </thead>\n",
              "  <tbody>\n",
              "    <tr>\n",
              "      <th>0</th>\n",
              "      <td>im feeling rather rotten so im not very ambiti...</td>\n",
              "      <td>sadness</td>\n",
              "    </tr>\n",
              "    <tr>\n",
              "      <th>1</th>\n",
              "      <td>im updating my blog because i feel shitty</td>\n",
              "      <td>sadness</td>\n",
              "    </tr>\n",
              "    <tr>\n",
              "      <th>2</th>\n",
              "      <td>i never make her separate from me because i do...</td>\n",
              "      <td>sadness</td>\n",
              "    </tr>\n",
              "    <tr>\n",
              "      <th>3</th>\n",
              "      <td>i left with my bouquet of red and yellow tulip...</td>\n",
              "      <td>joy</td>\n",
              "    </tr>\n",
              "    <tr>\n",
              "      <th>4</th>\n",
              "      <td>i was feeling a little vain when i did this one</td>\n",
              "      <td>sadness</td>\n",
              "    </tr>\n",
              "  </tbody>\n",
              "</table>\n",
              "</div>\n",
              "    <div class=\"colab-df-buttons\">\n",
              "\n",
              "  <div class=\"colab-df-container\">\n",
              "    <button class=\"colab-df-convert\" onclick=\"convertToInteractive('df-6ea08a3b-72a1-4a45-8cfb-221dca06b82d')\"\n",
              "            title=\"Convert this dataframe to an interactive table.\"\n",
              "            style=\"display:none;\">\n",
              "\n",
              "  <svg xmlns=\"http://www.w3.org/2000/svg\" height=\"24px\" viewBox=\"0 -960 960 960\">\n",
              "    <path d=\"M120-120v-720h720v720H120Zm60-500h600v-160H180v160Zm220 220h160v-160H400v160Zm0 220h160v-160H400v160ZM180-400h160v-160H180v160Zm440 0h160v-160H620v160ZM180-180h160v-160H180v160Zm440 0h160v-160H620v160Z\"/>\n",
              "  </svg>\n",
              "    </button>\n",
              "\n",
              "  <style>\n",
              "    .colab-df-container {\n",
              "      display:flex;\n",
              "      gap: 12px;\n",
              "    }\n",
              "\n",
              "    .colab-df-convert {\n",
              "      background-color: #E8F0FE;\n",
              "      border: none;\n",
              "      border-radius: 50%;\n",
              "      cursor: pointer;\n",
              "      display: none;\n",
              "      fill: #1967D2;\n",
              "      height: 32px;\n",
              "      padding: 0 0 0 0;\n",
              "      width: 32px;\n",
              "    }\n",
              "\n",
              "    .colab-df-convert:hover {\n",
              "      background-color: #E2EBFA;\n",
              "      box-shadow: 0px 1px 2px rgba(60, 64, 67, 0.3), 0px 1px 3px 1px rgba(60, 64, 67, 0.15);\n",
              "      fill: #174EA6;\n",
              "    }\n",
              "\n",
              "    .colab-df-buttons div {\n",
              "      margin-bottom: 4px;\n",
              "    }\n",
              "\n",
              "    [theme=dark] .colab-df-convert {\n",
              "      background-color: #3B4455;\n",
              "      fill: #D2E3FC;\n",
              "    }\n",
              "\n",
              "    [theme=dark] .colab-df-convert:hover {\n",
              "      background-color: #434B5C;\n",
              "      box-shadow: 0px 1px 3px 1px rgba(0, 0, 0, 0.15);\n",
              "      filter: drop-shadow(0px 1px 2px rgba(0, 0, 0, 0.3));\n",
              "      fill: #FFFFFF;\n",
              "    }\n",
              "  </style>\n",
              "\n",
              "    <script>\n",
              "      const buttonEl =\n",
              "        document.querySelector('#df-6ea08a3b-72a1-4a45-8cfb-221dca06b82d button.colab-df-convert');\n",
              "      buttonEl.style.display =\n",
              "        google.colab.kernel.accessAllowed ? 'block' : 'none';\n",
              "\n",
              "      async function convertToInteractive(key) {\n",
              "        const element = document.querySelector('#df-6ea08a3b-72a1-4a45-8cfb-221dca06b82d');\n",
              "        const dataTable =\n",
              "          await google.colab.kernel.invokeFunction('convertToInteractive',\n",
              "                                                    [key], {});\n",
              "        if (!dataTable) return;\n",
              "\n",
              "        const docLinkHtml = 'Like what you see? Visit the ' +\n",
              "          '<a target=\"_blank\" href=https://colab.research.google.com/notebooks/data_table.ipynb>data table notebook</a>'\n",
              "          + ' to learn more about interactive tables.';\n",
              "        element.innerHTML = '';\n",
              "        dataTable['output_type'] = 'display_data';\n",
              "        await google.colab.output.renderOutput(dataTable, element);\n",
              "        const docLink = document.createElement('div');\n",
              "        docLink.innerHTML = docLinkHtml;\n",
              "        element.appendChild(docLink);\n",
              "      }\n",
              "    </script>\n",
              "  </div>\n",
              "\n",
              "\n",
              "<div id=\"df-0c8aeffd-c103-425b-b22b-6f51c16daad4\">\n",
              "  <button class=\"colab-df-quickchart\" onclick=\"quickchart('df-0c8aeffd-c103-425b-b22b-6f51c16daad4')\"\n",
              "            title=\"Suggest charts\"\n",
              "            style=\"display:none;\">\n",
              "\n",
              "<svg xmlns=\"http://www.w3.org/2000/svg\" height=\"24px\"viewBox=\"0 0 24 24\"\n",
              "     width=\"24px\">\n",
              "    <g>\n",
              "        <path d=\"M19 3H5c-1.1 0-2 .9-2 2v14c0 1.1.9 2 2 2h14c1.1 0 2-.9 2-2V5c0-1.1-.9-2-2-2zM9 17H7v-7h2v7zm4 0h-2V7h2v10zm4 0h-2v-4h2v4z\"/>\n",
              "    </g>\n",
              "</svg>\n",
              "  </button>\n",
              "\n",
              "<style>\n",
              "  .colab-df-quickchart {\n",
              "      --bg-color: #E8F0FE;\n",
              "      --fill-color: #1967D2;\n",
              "      --hover-bg-color: #E2EBFA;\n",
              "      --hover-fill-color: #174EA6;\n",
              "      --disabled-fill-color: #AAA;\n",
              "      --disabled-bg-color: #DDD;\n",
              "  }\n",
              "\n",
              "  [theme=dark] .colab-df-quickchart {\n",
              "      --bg-color: #3B4455;\n",
              "      --fill-color: #D2E3FC;\n",
              "      --hover-bg-color: #434B5C;\n",
              "      --hover-fill-color: #FFFFFF;\n",
              "      --disabled-bg-color: #3B4455;\n",
              "      --disabled-fill-color: #666;\n",
              "  }\n",
              "\n",
              "  .colab-df-quickchart {\n",
              "    background-color: var(--bg-color);\n",
              "    border: none;\n",
              "    border-radius: 50%;\n",
              "    cursor: pointer;\n",
              "    display: none;\n",
              "    fill: var(--fill-color);\n",
              "    height: 32px;\n",
              "    padding: 0;\n",
              "    width: 32px;\n",
              "  }\n",
              "\n",
              "  .colab-df-quickchart:hover {\n",
              "    background-color: var(--hover-bg-color);\n",
              "    box-shadow: 0 1px 2px rgba(60, 64, 67, 0.3), 0 1px 3px 1px rgba(60, 64, 67, 0.15);\n",
              "    fill: var(--button-hover-fill-color);\n",
              "  }\n",
              "\n",
              "  .colab-df-quickchart-complete:disabled,\n",
              "  .colab-df-quickchart-complete:disabled:hover {\n",
              "    background-color: var(--disabled-bg-color);\n",
              "    fill: var(--disabled-fill-color);\n",
              "    box-shadow: none;\n",
              "  }\n",
              "\n",
              "  .colab-df-spinner {\n",
              "    border: 2px solid var(--fill-color);\n",
              "    border-color: transparent;\n",
              "    border-bottom-color: var(--fill-color);\n",
              "    animation:\n",
              "      spin 1s steps(1) infinite;\n",
              "  }\n",
              "\n",
              "  @keyframes spin {\n",
              "    0% {\n",
              "      border-color: transparent;\n",
              "      border-bottom-color: var(--fill-color);\n",
              "      border-left-color: var(--fill-color);\n",
              "    }\n",
              "    20% {\n",
              "      border-color: transparent;\n",
              "      border-left-color: var(--fill-color);\n",
              "      border-top-color: var(--fill-color);\n",
              "    }\n",
              "    30% {\n",
              "      border-color: transparent;\n",
              "      border-left-color: var(--fill-color);\n",
              "      border-top-color: var(--fill-color);\n",
              "      border-right-color: var(--fill-color);\n",
              "    }\n",
              "    40% {\n",
              "      border-color: transparent;\n",
              "      border-right-color: var(--fill-color);\n",
              "      border-top-color: var(--fill-color);\n",
              "    }\n",
              "    60% {\n",
              "      border-color: transparent;\n",
              "      border-right-color: var(--fill-color);\n",
              "    }\n",
              "    80% {\n",
              "      border-color: transparent;\n",
              "      border-right-color: var(--fill-color);\n",
              "      border-bottom-color: var(--fill-color);\n",
              "    }\n",
              "    90% {\n",
              "      border-color: transparent;\n",
              "      border-bottom-color: var(--fill-color);\n",
              "    }\n",
              "  }\n",
              "</style>\n",
              "\n",
              "  <script>\n",
              "    async function quickchart(key) {\n",
              "      const quickchartButtonEl =\n",
              "        document.querySelector('#' + key + ' button');\n",
              "      quickchartButtonEl.disabled = true;  // To prevent multiple clicks.\n",
              "      quickchartButtonEl.classList.add('colab-df-spinner');\n",
              "      try {\n",
              "        const charts = await google.colab.kernel.invokeFunction(\n",
              "            'suggestCharts', [key], {});\n",
              "      } catch (error) {\n",
              "        console.error('Error during call to suggestCharts:', error);\n",
              "      }\n",
              "      quickchartButtonEl.classList.remove('colab-df-spinner');\n",
              "      quickchartButtonEl.classList.add('colab-df-quickchart-complete');\n",
              "    }\n",
              "    (() => {\n",
              "      let quickchartButtonEl =\n",
              "        document.querySelector('#df-0c8aeffd-c103-425b-b22b-6f51c16daad4 button');\n",
              "      quickchartButtonEl.style.display =\n",
              "        google.colab.kernel.accessAllowed ? 'block' : 'none';\n",
              "    })();\n",
              "  </script>\n",
              "</div>\n",
              "\n",
              "    </div>\n",
              "  </div>\n"
            ],
            "application/vnd.google.colaboratory.intrinsic+json": {
              "type": "dataframe",
              "summary": "{\n  \"name\": \"display(test\",\n  \"rows\": 5,\n  \"fields\": [\n    {\n      \"column\": \"text\",\n      \"properties\": {\n        \"dtype\": \"string\",\n        \"num_unique_values\": 5,\n        \"samples\": [\n          \"im updating my blog because i feel shitty\",\n          \"i was feeling a little vain when i did this one\",\n          \"i never make her separate from me because i don t ever want her to feel like i m ashamed with her\"\n        ],\n        \"semantic_type\": \"\",\n        \"description\": \"\"\n      }\n    },\n    {\n      \"column\": \"emotion\",\n      \"properties\": {\n        \"dtype\": \"category\",\n        \"num_unique_values\": 2,\n        \"samples\": [\n          \"joy\",\n          \"sadness\"\n        ],\n        \"semantic_type\": \"\",\n        \"description\": \"\"\n      }\n    }\n  ]\n}"
            }
          },
          "metadata": {}
        }
      ],
      "source": [
        "# ====================================================\n",
        "# Data Loading\n",
        "# ====================================================\n",
        "\n",
        "train = pd.read_csv('/content/train.txt', names=['text', 'emotion'], sep=';')\n",
        "valid = pd.read_csv('/content/val.txt', names=['text', 'emotion'], sep=';')\n",
        "test = pd.read_csv('/content/test.txt', names=['text', 'emotion'], sep=';')\n",
        "\n",
        "\n",
        "print(f\"train.shape: {train.shape}\")\n",
        "display(train.head())\n",
        "\n",
        "print(f\"valid.shape: {valid.shape}\")\n",
        "display(valid.head())\n",
        "\n",
        "print(f\"test.shape: {test.shape}\")\n",
        "display(test.head())"
      ]
    },
    {
      "cell_type": "code",
      "execution_count": 9,
      "metadata": {
        "colab": {
          "base_uri": "https://localhost:8080/"
        },
        "id": "dy-IUGJb6E-d",
        "outputId": "b9eade44-608a-4f9f-bfe0-b205326f22d0"
      },
      "outputs": [
        {
          "output_type": "stream",
          "name": "stdout",
          "text": [
            "['sadness' 'anger' 'love' 'surprise' 'fear' 'joy']\n",
            "CFG.num_class=6\n"
          ]
        }
      ],
      "source": [
        "print(train[\"emotion\"].unique())\n",
        "CFG.num_class = train[\"emotion\"].nunique()\n",
        "print(f\"{CFG.num_class=}\")"
      ]
    },
    {
      "cell_type": "code",
      "execution_count": 10,
      "metadata": {
        "colab": {
          "base_uri": "https://localhost:8080/",
          "height": 206
        },
        "id": "1WSnsC0h6E-d",
        "outputId": "9b9a4518-cea8-4236-e84d-d56b89854e76"
      },
      "outputs": [
        {
          "output_type": "display_data",
          "data": {
            "text/plain": [
              "                                                text  emotion  label\n",
              "0                            i didnt feel humiliated  sadness      0\n",
              "1  i can go from feeling so hopeless to so damned...  sadness      0\n",
              "2   im grabbing a minute to post i feel greedy wrong    anger      1\n",
              "3  i am ever feeling nostalgic about the fireplac...     love      2\n",
              "4                               i am feeling grouchy    anger      1"
            ],
            "text/html": [
              "\n",
              "  <div id=\"df-3d72f29a-2c84-427a-b4d7-63a4504144a6\" class=\"colab-df-container\">\n",
              "    <div>\n",
              "<style scoped>\n",
              "    .dataframe tbody tr th:only-of-type {\n",
              "        vertical-align: middle;\n",
              "    }\n",
              "\n",
              "    .dataframe tbody tr th {\n",
              "        vertical-align: top;\n",
              "    }\n",
              "\n",
              "    .dataframe thead th {\n",
              "        text-align: right;\n",
              "    }\n",
              "</style>\n",
              "<table border=\"1\" class=\"dataframe\">\n",
              "  <thead>\n",
              "    <tr style=\"text-align: right;\">\n",
              "      <th></th>\n",
              "      <th>text</th>\n",
              "      <th>emotion</th>\n",
              "      <th>label</th>\n",
              "    </tr>\n",
              "  </thead>\n",
              "  <tbody>\n",
              "    <tr>\n",
              "      <th>0</th>\n",
              "      <td>i didnt feel humiliated</td>\n",
              "      <td>sadness</td>\n",
              "      <td>0</td>\n",
              "    </tr>\n",
              "    <tr>\n",
              "      <th>1</th>\n",
              "      <td>i can go from feeling so hopeless to so damned...</td>\n",
              "      <td>sadness</td>\n",
              "      <td>0</td>\n",
              "    </tr>\n",
              "    <tr>\n",
              "      <th>2</th>\n",
              "      <td>im grabbing a minute to post i feel greedy wrong</td>\n",
              "      <td>anger</td>\n",
              "      <td>1</td>\n",
              "    </tr>\n",
              "    <tr>\n",
              "      <th>3</th>\n",
              "      <td>i am ever feeling nostalgic about the fireplac...</td>\n",
              "      <td>love</td>\n",
              "      <td>2</td>\n",
              "    </tr>\n",
              "    <tr>\n",
              "      <th>4</th>\n",
              "      <td>i am feeling grouchy</td>\n",
              "      <td>anger</td>\n",
              "      <td>1</td>\n",
              "    </tr>\n",
              "  </tbody>\n",
              "</table>\n",
              "</div>\n",
              "    <div class=\"colab-df-buttons\">\n",
              "\n",
              "  <div class=\"colab-df-container\">\n",
              "    <button class=\"colab-df-convert\" onclick=\"convertToInteractive('df-3d72f29a-2c84-427a-b4d7-63a4504144a6')\"\n",
              "            title=\"Convert this dataframe to an interactive table.\"\n",
              "            style=\"display:none;\">\n",
              "\n",
              "  <svg xmlns=\"http://www.w3.org/2000/svg\" height=\"24px\" viewBox=\"0 -960 960 960\">\n",
              "    <path d=\"M120-120v-720h720v720H120Zm60-500h600v-160H180v160Zm220 220h160v-160H400v160Zm0 220h160v-160H400v160ZM180-400h160v-160H180v160Zm440 0h160v-160H620v160ZM180-180h160v-160H180v160Zm440 0h160v-160H620v160Z\"/>\n",
              "  </svg>\n",
              "    </button>\n",
              "\n",
              "  <style>\n",
              "    .colab-df-container {\n",
              "      display:flex;\n",
              "      gap: 12px;\n",
              "    }\n",
              "\n",
              "    .colab-df-convert {\n",
              "      background-color: #E8F0FE;\n",
              "      border: none;\n",
              "      border-radius: 50%;\n",
              "      cursor: pointer;\n",
              "      display: none;\n",
              "      fill: #1967D2;\n",
              "      height: 32px;\n",
              "      padding: 0 0 0 0;\n",
              "      width: 32px;\n",
              "    }\n",
              "\n",
              "    .colab-df-convert:hover {\n",
              "      background-color: #E2EBFA;\n",
              "      box-shadow: 0px 1px 2px rgba(60, 64, 67, 0.3), 0px 1px 3px 1px rgba(60, 64, 67, 0.15);\n",
              "      fill: #174EA6;\n",
              "    }\n",
              "\n",
              "    .colab-df-buttons div {\n",
              "      margin-bottom: 4px;\n",
              "    }\n",
              "\n",
              "    [theme=dark] .colab-df-convert {\n",
              "      background-color: #3B4455;\n",
              "      fill: #D2E3FC;\n",
              "    }\n",
              "\n",
              "    [theme=dark] .colab-df-convert:hover {\n",
              "      background-color: #434B5C;\n",
              "      box-shadow: 0px 1px 3px 1px rgba(0, 0, 0, 0.15);\n",
              "      filter: drop-shadow(0px 1px 2px rgba(0, 0, 0, 0.3));\n",
              "      fill: #FFFFFF;\n",
              "    }\n",
              "  </style>\n",
              "\n",
              "    <script>\n",
              "      const buttonEl =\n",
              "        document.querySelector('#df-3d72f29a-2c84-427a-b4d7-63a4504144a6 button.colab-df-convert');\n",
              "      buttonEl.style.display =\n",
              "        google.colab.kernel.accessAllowed ? 'block' : 'none';\n",
              "\n",
              "      async function convertToInteractive(key) {\n",
              "        const element = document.querySelector('#df-3d72f29a-2c84-427a-b4d7-63a4504144a6');\n",
              "        const dataTable =\n",
              "          await google.colab.kernel.invokeFunction('convertToInteractive',\n",
              "                                                    [key], {});\n",
              "        if (!dataTable) return;\n",
              "\n",
              "        const docLinkHtml = 'Like what you see? Visit the ' +\n",
              "          '<a target=\"_blank\" href=https://colab.research.google.com/notebooks/data_table.ipynb>data table notebook</a>'\n",
              "          + ' to learn more about interactive tables.';\n",
              "        element.innerHTML = '';\n",
              "        dataTable['output_type'] = 'display_data';\n",
              "        await google.colab.output.renderOutput(dataTable, element);\n",
              "        const docLink = document.createElement('div');\n",
              "        docLink.innerHTML = docLinkHtml;\n",
              "        element.appendChild(docLink);\n",
              "      }\n",
              "    </script>\n",
              "  </div>\n",
              "\n",
              "\n",
              "<div id=\"df-a9bbba01-5afb-4e21-9e99-c67eb27b8497\">\n",
              "  <button class=\"colab-df-quickchart\" onclick=\"quickchart('df-a9bbba01-5afb-4e21-9e99-c67eb27b8497')\"\n",
              "            title=\"Suggest charts\"\n",
              "            style=\"display:none;\">\n",
              "\n",
              "<svg xmlns=\"http://www.w3.org/2000/svg\" height=\"24px\"viewBox=\"0 0 24 24\"\n",
              "     width=\"24px\">\n",
              "    <g>\n",
              "        <path d=\"M19 3H5c-1.1 0-2 .9-2 2v14c0 1.1.9 2 2 2h14c1.1 0 2-.9 2-2V5c0-1.1-.9-2-2-2zM9 17H7v-7h2v7zm4 0h-2V7h2v10zm4 0h-2v-4h2v4z\"/>\n",
              "    </g>\n",
              "</svg>\n",
              "  </button>\n",
              "\n",
              "<style>\n",
              "  .colab-df-quickchart {\n",
              "      --bg-color: #E8F0FE;\n",
              "      --fill-color: #1967D2;\n",
              "      --hover-bg-color: #E2EBFA;\n",
              "      --hover-fill-color: #174EA6;\n",
              "      --disabled-fill-color: #AAA;\n",
              "      --disabled-bg-color: #DDD;\n",
              "  }\n",
              "\n",
              "  [theme=dark] .colab-df-quickchart {\n",
              "      --bg-color: #3B4455;\n",
              "      --fill-color: #D2E3FC;\n",
              "      --hover-bg-color: #434B5C;\n",
              "      --hover-fill-color: #FFFFFF;\n",
              "      --disabled-bg-color: #3B4455;\n",
              "      --disabled-fill-color: #666;\n",
              "  }\n",
              "\n",
              "  .colab-df-quickchart {\n",
              "    background-color: var(--bg-color);\n",
              "    border: none;\n",
              "    border-radius: 50%;\n",
              "    cursor: pointer;\n",
              "    display: none;\n",
              "    fill: var(--fill-color);\n",
              "    height: 32px;\n",
              "    padding: 0;\n",
              "    width: 32px;\n",
              "  }\n",
              "\n",
              "  .colab-df-quickchart:hover {\n",
              "    background-color: var(--hover-bg-color);\n",
              "    box-shadow: 0 1px 2px rgba(60, 64, 67, 0.3), 0 1px 3px 1px rgba(60, 64, 67, 0.15);\n",
              "    fill: var(--button-hover-fill-color);\n",
              "  }\n",
              "\n",
              "  .colab-df-quickchart-complete:disabled,\n",
              "  .colab-df-quickchart-complete:disabled:hover {\n",
              "    background-color: var(--disabled-bg-color);\n",
              "    fill: var(--disabled-fill-color);\n",
              "    box-shadow: none;\n",
              "  }\n",
              "\n",
              "  .colab-df-spinner {\n",
              "    border: 2px solid var(--fill-color);\n",
              "    border-color: transparent;\n",
              "    border-bottom-color: var(--fill-color);\n",
              "    animation:\n",
              "      spin 1s steps(1) infinite;\n",
              "  }\n",
              "\n",
              "  @keyframes spin {\n",
              "    0% {\n",
              "      border-color: transparent;\n",
              "      border-bottom-color: var(--fill-color);\n",
              "      border-left-color: var(--fill-color);\n",
              "    }\n",
              "    20% {\n",
              "      border-color: transparent;\n",
              "      border-left-color: var(--fill-color);\n",
              "      border-top-color: var(--fill-color);\n",
              "    }\n",
              "    30% {\n",
              "      border-color: transparent;\n",
              "      border-left-color: var(--fill-color);\n",
              "      border-top-color: var(--fill-color);\n",
              "      border-right-color: var(--fill-color);\n",
              "    }\n",
              "    40% {\n",
              "      border-color: transparent;\n",
              "      border-right-color: var(--fill-color);\n",
              "      border-top-color: var(--fill-color);\n",
              "    }\n",
              "    60% {\n",
              "      border-color: transparent;\n",
              "      border-right-color: var(--fill-color);\n",
              "    }\n",
              "    80% {\n",
              "      border-color: transparent;\n",
              "      border-right-color: var(--fill-color);\n",
              "      border-bottom-color: var(--fill-color);\n",
              "    }\n",
              "    90% {\n",
              "      border-color: transparent;\n",
              "      border-bottom-color: var(--fill-color);\n",
              "    }\n",
              "  }\n",
              "</style>\n",
              "\n",
              "  <script>\n",
              "    async function quickchart(key) {\n",
              "      const quickchartButtonEl =\n",
              "        document.querySelector('#' + key + ' button');\n",
              "      quickchartButtonEl.disabled = true;  // To prevent multiple clicks.\n",
              "      quickchartButtonEl.classList.add('colab-df-spinner');\n",
              "      try {\n",
              "        const charts = await google.colab.kernel.invokeFunction(\n",
              "            'suggestCharts', [key], {});\n",
              "      } catch (error) {\n",
              "        console.error('Error during call to suggestCharts:', error);\n",
              "      }\n",
              "      quickchartButtonEl.classList.remove('colab-df-spinner');\n",
              "      quickchartButtonEl.classList.add('colab-df-quickchart-complete');\n",
              "    }\n",
              "    (() => {\n",
              "      let quickchartButtonEl =\n",
              "        document.querySelector('#df-a9bbba01-5afb-4e21-9e99-c67eb27b8497 button');\n",
              "      quickchartButtonEl.style.display =\n",
              "        google.colab.kernel.accessAllowed ? 'block' : 'none';\n",
              "    })();\n",
              "  </script>\n",
              "</div>\n",
              "\n",
              "    </div>\n",
              "  </div>\n"
            ],
            "application/vnd.google.colaboratory.intrinsic+json": {
              "type": "dataframe",
              "summary": "{\n  \"name\": \"display(train\",\n  \"rows\": 5,\n  \"fields\": [\n    {\n      \"column\": \"text\",\n      \"properties\": {\n        \"dtype\": \"string\",\n        \"num_unique_values\": 5,\n        \"samples\": [\n          \"i can go from feeling so hopeless to so damned hopeful just from being around someone who cares and is awake\",\n          \"i am feeling grouchy\",\n          \"im grabbing a minute to post i feel greedy wrong\"\n        ],\n        \"semantic_type\": \"\",\n        \"description\": \"\"\n      }\n    },\n    {\n      \"column\": \"emotion\",\n      \"properties\": {\n        \"dtype\": \"string\",\n        \"num_unique_values\": 3,\n        \"samples\": [\n          \"sadness\",\n          \"anger\",\n          \"love\"\n        ],\n        \"semantic_type\": \"\",\n        \"description\": \"\"\n      }\n    },\n    {\n      \"column\": \"label\",\n      \"properties\": {\n        \"dtype\": \"number\",\n        \"std\": 0,\n        \"min\": 0,\n        \"max\": 2,\n        \"num_unique_values\": 3,\n        \"samples\": [\n          0,\n          1,\n          2\n        ],\n        \"semantic_type\": \"\",\n        \"description\": \"\"\n      }\n    }\n  ]\n}"
            }
          },
          "metadata": {}
        }
      ],
      "source": [
        "# ====================================================\n",
        "# Label Mapping\n",
        "# ====================================================\n",
        "\n",
        "mapping = {'sadness' : 0,\n",
        "           'anger' : 1,\n",
        "           'love' : 2,\n",
        "           'surprise' : 3,\n",
        "           'fear' : 4,\n",
        "           'joy' : 5,\n",
        "          }\n",
        "\n",
        "train['label'] = train['emotion'].map(mapping)\n",
        "valid['label'] = valid['emotion'].map(mapping)\n",
        "test['label']  =  test['emotion'].map(mapping)\n",
        "\n",
        "display(train.head())"
      ]
    },
    {
      "cell_type": "code",
      "execution_count": 11,
      "metadata": {
        "id": "y_vuN6g36E-d"
      },
      "outputs": [],
      "source": [
        "import seaborn as sns\n",
        "import matplotlib.pyplot as plt\n",
        "\n",
        "def countplot(fig_x,fig_y,col,top_x,rotation,xlabel,title) :\n",
        "    plt.figure(figsize=(fig_x,fig_y))\n",
        "    total = float(len(train))\n",
        "    ax = sns.countplot(x=col,  data=train, order = train[col].value_counts().iloc[:top_x].index)\n",
        "    for p in ax.patches:\n",
        "        percentage = '{:.1f}%'.format(100 * p.get_height()/total)\n",
        "        x = p.get_x() + p.get_width() / 2 - 0.05\n",
        "        y = p.get_y() + p.get_height()\n",
        "        ax.annotate(percentage, (x, y),xytext = (x+0.05,y+20),ha = 'center',weight = 'bold',size = 11)\n",
        "    plt.xticks(rotation = rotation,weight='bold',size = 10)\n",
        "    plt.yticks(weight='bold',size = 10)\n",
        "    plt.xlabel(xlabel,weight='bold',size = 12)\n",
        "    plt.ylabel('count',weight='bold',size = 12)\n",
        "    plt.title(title,weight='bold',size = 15)\n",
        "    plt.show()"
      ]
    },
    {
      "cell_type": "code",
      "execution_count": 12,
      "metadata": {
        "colab": {
          "base_uri": "https://localhost:8080/",
          "height": 534
        },
        "id": "i8hJSC9V6E-e",
        "outputId": "9ff8cd07-3df0-459f-fee3-61fce2b5e821"
      },
      "outputs": [
        {
          "output_type": "display_data",
          "data": {
            "text/plain": [
              "<Figure size 1000x500 with 1 Axes>"
            ],
            "image/png": "[encoded data removed]"
          },
          "metadata": {}
        }
      ],
      "source": [
        "countplot(10,5,'emotion',15,45,'Emotion Class','Class Distribution')"
      ]
    },
    {
      "cell_type": "code",
      "execution_count": 13,
      "metadata": {
        "id": "Gf6dUIDx6E-e"
      },
      "outputs": [],
      "source": [
        "# # Considering a small set of data as input while debugging\n",
        "# if CFG.debug:\n",
        "#     CFG.epochs = 10\n",
        "#     train = train.sample(frac =.50)"
      ]
    },
    {
      "cell_type": "markdown",
      "metadata": {
        "id": "PpQXEotb6E-e"
      },
      "source": [
        "# <span><h1 style = \"font-family: garamond; font-size: 40px; font-style: normal; letter-spcaing: 3px; background-color: #f6f5f5; color :#C01F4D; border-radius: 100px 100px; text-align:center\"> Text Preprocessing </h1></span>\n",
        "\n",
        "We are doing basic text preprocessing like removing space, unncessary symbols, numbers and so on. To tokenize our sentence, we use a **space tokenizer** to get the tokens of the sentence."
      ]
    },
    {
      "cell_type": "code",
      "execution_count": 14,
      "metadata": {
        "id": "i18DrxGs6E-f"
      },
      "outputs": [],
      "source": [
        "def preprocess_text(text):\n",
        "    REPLACE_BY_SPACE_RE = re.compile('[/(){}\\[\\]\\|@,;]')    # add/remove regex as required\n",
        "    SYMBOLS_RE = re.compile('[^0-9a-z #+_]') # unnecessary symbols\n",
        "    NUMBERS = re.compile('\\d+') # numbers\n",
        "    STOPWORDS = set(stopwords.words('english')) # stopwords\n",
        "    lemmatizer = WordNetLemmatizer()  # lemmatizer\n",
        "\n",
        "    # clean\n",
        "    text = text.lower() # lowering the text\n",
        "    text = REPLACE_BY_SPACE_RE.sub(' ', text) # removing punc\n",
        "    text = SYMBOLS_RE.sub('', text) # removing unnecessary symbols\n",
        "    text = NUMBERS.sub('', text) # removing stop words\n",
        "\n",
        "    # remove stopwords and lemmatize\n",
        "    tokens = [word for word in text.split() if word not in STOPWORDS]\n",
        "    tokens = [lemmatizer.lemmatize(token) for token in tokens]\n",
        "\n",
        "    return tokens\n",
        "\n",
        "train['tokenized'] = train['text'].apply(preprocess_text)\n",
        "valid['tokenized'] = valid['text'].apply(preprocess_text)\n",
        "test['tokenized']  =  test['text'].apply(preprocess_text)"
      ]
    },
    {
      "cell_type": "markdown",
      "metadata": {
        "id": "p_biNcK_6E-f"
      },
      "source": [
        "# <span><h1 style = \"font-family: garamond; font-size: 40px; font-style: normal; letter-spcaing: 3px; background-color: #f6f5f5; color :#C01F4D; border-radius: 100px 100px; text-align:center\"> Making the vocabulary </h1></span>\n",
        "\n",
        "Now to get the token_ids for the tokens, we need to define a vocabulary. A vocabulary is created to map words to numerical indices. This is essential for several reasons:\n",
        "\n",
        "**Numerical Representation**: Neural networks, including LSTMs, operate on numerical data. Therefore, text data, which is inherently symbolic (consisting of words), needs to be converted into a numerical format. Each unique word is assigned a unique index in the vocabulary.\n",
        "\n",
        "**Embedding Layer Input**: LSTMs typically operate on word embeddings. An embedding layer maps each word index to a high-dimensional vector (embedding). This layer essentially learns a representation for each word in the vocabulary, and these representations are updated during training. The embedding layer requires a vocabulary to map word indices to corresponding embedding vectors.\n",
        "\n",
        "**Fixed Input Size**: LSTMs process sequences of fixed length. By using a fixed vocabulary, you establish a consistent way to map words to indices, ensuring that each input sequence has the same length. Padding or truncation can be used to achieve this fixed length."
      ]
    },
    {
      "cell_type": "code",
      "execution_count": 15,
      "metadata": {
        "colab": {
          "base_uri": "https://localhost:8080/"
        },
        "id": "qC3cIWGU6E-f",
        "outputId": "2b89af5e-3df1-4ec9-eb52-ca712f9b58d6"
      },
      "outputs": [
        {
          "output_type": "stream",
          "name": "stdout",
          "text": [
            "len(vocab)=3814\n"
          ]
        }
      ],
      "source": [
        "def make_vocabulary_from_tokens(tokenized_sentences: pd.Series, min_doc_freq: int = 1,max_doc_freq: int = 1_000_000):\n",
        "\n",
        "    # Count frequency of each token in dataset\n",
        "    document_freq = {}\n",
        "    for tokenized_sentence in tokenized_sentences:\n",
        "        for token in tokenized_sentence:\n",
        "            document_freq[token] = document_freq.get(token, 0) + 1\n",
        "\n",
        "    # Discard tokens with freq < min_doc_freq\n",
        "    qualified_tokens = {\n",
        "        token: freq\n",
        "        for token, freq in document_freq.items()\n",
        "        if (min_doc_freq < freq < max_doc_freq)\n",
        "    }\n",
        "\n",
        "    # Add in token_ids for each token\n",
        "    vocab = {token: token_id+2 for token_id, token in enumerate(qualified_tokens.keys())}\n",
        "\n",
        "    # Add special tokens\n",
        "    vocab['[PAD]'] = 0\n",
        "    vocab['[UNK]'] = 1\n",
        "\n",
        "    return vocab, qualified_tokens\n",
        "\n",
        "vocab, doc_freq = make_vocabulary_from_tokens(train['tokenized'], 3)    # use only train set for this\n",
        "print(f'{len(vocab)=}')"
      ]
    },
    {
      "cell_type": "code",
      "execution_count": 16,
      "metadata": {
        "colab": {
          "base_uri": "https://localhost:8080/"
        },
        "id": "8EfBmNUX6E-f",
        "outputId": "f39ff6b1-928a-488a-d8f3-79519981e542"
      },
      "outputs": [
        {
          "output_type": "stream",
          "name": "stdout",
          "text": [
            "Total length of the Vocabulary: 13486\n"
          ]
        }
      ],
      "source": [
        "def make_vocabulary_from_tokens(tokenized: pd.Series):\n",
        "    vocab = set()\n",
        "    tokenized.apply(lambda tokens: vocab.update(tokens))\n",
        "    vocab = {token: token_id+2 for token_id, token in enumerate(list(vocab))}\n",
        "    vocab['[PAD]'] = 0\n",
        "    vocab['[UNK]'] = 1\n",
        "    return vocab\n",
        "\n",
        "vocab = make_vocabulary_from_tokens(train['tokenized'])    # use only train set for this\n",
        "CFG.vocab_size = len(vocab)\n",
        "print(f'Total length of the Vocabulary: {len(vocab)}')"
      ]
    },
    {
      "cell_type": "markdown",
      "metadata": {
        "id": "CX7OJe-r6E-g"
      },
      "source": [
        "# <span><h1 style = \"font-family: garamond; font-size: 40px; font-style: normal; letter-spcaing: 3px; background-color: #f6f5f5; color :#C01F4D; border-radius: 100px 100px; text-align:center\"> Tokens to Input Ids </h1></span>\n",
        "\n",
        "Input IDs are numerical representations of tokens. Each unique token in a dataset is assigned a unique numerical identifier, called its input ID. These input IDs are used as indices to look up corresponding embeddings in the model's embedding layer."
      ]
    },
    {
      "cell_type": "code",
      "execution_count": 17,
      "metadata": {
        "id": "AkTe6sEV6E-g"
      },
      "outputs": [],
      "source": [
        "def tokens_to_input_ids(tokenized_sentence, vocabulary=vocab):\n",
        "    input_ids = [\n",
        "        vocabulary.get(token, 1) for token in tokenized_sentence    # assigns UNK token if token not in vocabulary\n",
        "    ]\n",
        "    return input_ids\n",
        "\n",
        "X_train, y_train = train['tokenized'].apply(tokens_to_input_ids), train['label'].to_list()\n",
        "X_valid, y_valid = valid['tokenized'].apply(tokens_to_input_ids), valid['label'].to_list()\n",
        "X_test,  y_test  = test['tokenized'].apply(tokens_to_input_ids),  test['label'].to_list()"
      ]
    },
    {
      "cell_type": "markdown",
      "metadata": {
        "id": "36OW1xO56E-g"
      },
      "source": [
        "# <span><h1 style = \"font-family: garamond; font-size: 40px; font-style: normal; letter-spcaing: 3px; background-color: #f6f5f5; color :#C01F4D; border-radius: 100px 100px; text-align:center\"> Creating Pytorch Dataset </h1></span>\n",
        "\n",
        "We are creating a pytorch dataset instance. Basically, in deep learning, we need all data-samples in a batch should be should be the **same length**. In NLP, the pad_sequence function, commonly used in frameworks like PyTorch, is essential for handling sequences of variable lengths. It addresses the need for fixed-length input sequences, a requirement for batch processing in neural networks. Sequences of different lengths, prevalent in natural language data, are padded with a special token to ensure uniformity within batches. This step is crucial for maintaining consistent tensor shapes, aligning with the expectations of neural network models, and facilitating efficient batch processing. The pad_sequence function simplifies this padding process, ensuring that shorter sequences are padded appropriately for compatibility with deep learning models."
      ]
    },
    {
      "cell_type": "code",
      "execution_count": 18,
      "metadata": {
        "id": "XpThHIap6E-g"
      },
      "outputs": [],
      "source": [
        "class TextDataset(Dataset):\n",
        "    def __init__(self, input_ids, labels):\n",
        "        '''\n",
        "        - Stores tokenized sentences as tensors of input ids according to vocabulary mapping.\n",
        "        - Label indices are converted to one hot encoding.\n",
        "        '''\n",
        "        self.input_ids = pad_sequence([torch.tensor(sequence) for sequence in input_ids], batch_first=True)\n",
        "        self.labels = nn.functional.one_hot(torch.tensor(labels)).to(torch.float)\n",
        "\n",
        "    def __len__(self):\n",
        "        return len(self.labels)\n",
        "\n",
        "    def __getitem__(self, idx):\n",
        "        return [self.input_ids[idx], self.labels[idx]]"
      ]
    },
    {
      "cell_type": "markdown",
      "source": [
        "# Performance of torch embedding"
      ],
      "metadata": {
        "id": "jdol8WNtXS1E"
      }
    },
    {
      "cell_type": "code",
      "source": [
        "## Create the embedding matrix"
      ],
      "metadata": {
        "id": "yrnkSrHTXxWY"
      },
      "execution_count": 19,
      "outputs": []
    },
    {
      "cell_type": "code",
      "source": [
        "# Create embedding matrix\n",
        "embedding_matrix = torch.zeros((CFG.vocab_size,CFG.embedding_dim))\n",
        "cnt = 0\n",
        "for word, idx in tqdm.tqdm(vocab.items()):\n",
        "    if word in wv.key_to_index:\n",
        "        embedding_matrix[idx] = torch.tensor(wv[word][:CFG.embedding_dim])\n",
        "    else:\n",
        "        cnt += 1\n",
        "        embedding_matrix[idx] = torch.randn(CFG.embedding_dim)  # Random initialization for unknown words\n",
        "\n",
        "out_of_vocab = cnt / len(vocab) * 100\n",
        "print(f\"\\nTotal {out_of_vocab:.2f}% of Words are out of vocabulary\")"
      ],
      "metadata": {
        "colab": {
          "base_uri": "https://localhost:8080/"
        },
        "id": "eFJz_t6CX0BU",
        "outputId": "ac30e893-4bf0-49c9-b538-aca29cfeda99"
      },
      "execution_count": 20,
      "outputs": [
        {
          "output_type": "stream",
          "name": "stderr",
          "text": [
            "100%|██████████| 13486/13486 [00:00<00:00, 36347.06it/s]"
          ]
        },
        {
          "output_type": "stream",
          "name": "stdout",
          "text": [
            "\n",
            "Total 9.85% of Words are out of vocabulary\n"
          ]
        },
        {
          "output_type": "stream",
          "name": "stderr",
          "text": [
            "\n"
          ]
        }
      ]
    },
    {
      "cell_type": "markdown",
      "metadata": {
        "id": "NbLND-iI6E-g"
      },
      "source": [
        "## <span><h1 style = \"font-family: garamond; font-size: 40px; font-style: normal; letter-spcaing: 3px; background-color: #f6f5f5; color :#C01F4D; border-radius: 100px 100px; text-align:center\"> Creating the Model </h1></span>\n",
        "\n",
        "We are following the same model architecure shown in slide. Basically,\n",
        "\n",
        "- Initialize the LSTMClassifier, setting the number of LSTM layers, hidden dimensions, vocabulary size, embedding dimensions, and dropout rate.\n",
        "\n",
        "- Define the embedding layer using nn.Embedding based on the specified vocabulary size and embedding dimensions.\n",
        "\n",
        "- Configure the LSTM layer using nn.LSTM, with parameters including input and hidden dimensions, the number of layers, and batch-first set to True.\n",
        "\n",
        "- Implement dropout regularization using nn.Dropout with the specified dropout rate.\n",
        "\n",
        "- Create a fully connected layer (nn.Linear) for the classification task, with the output size equal to the number of classes.\n",
        "\n",
        "- In the forward method, apply dropout to the input embeddings, then pass them through the LSTM layer.\n",
        "\n",
        "- Extract the representation of the last token as the sentence representation from the LSTM output.\n",
        "\n",
        "- Pass the sentence representation through the fully connected layer to obtain the final logits for classification.\n",
        "\n",
        "- Return the logits as the output of the forward pass."
      ]
    },
    {
      "cell_type": "code",
      "execution_count": 21,
      "metadata": {
        "id": "-yIOXiOa6E-g"
      },
      "outputs": [],
      "source": [
        "class LSTMClassifier(nn.Module):\n",
        "    def __init__(self, cfg):\n",
        "        # Model\n",
        "        super().__init__()\n",
        "        self.n_layers = cfg.num_lstm_layers\n",
        "        self.hidden_dim = cfg.hidden_dim\n",
        "        self.embedding = nn.Embedding(cfg.vocab_size, cfg.embedding_dim)\n",
        "\n",
        "        # Define embedding layer and initialize with pre-trained embeddings\n",
        "        self.embedding.weight = nn.Parameter(embedding_matrix, requires_grad=True)\n",
        "\n",
        "        self.lstm = nn.LSTM(\n",
        "            cfg.embedding_dim, cfg.hidden_dim, num_layers=self.n_layers,\n",
        "            batch_first=True\n",
        "        )\n",
        "        self.dropout = nn.Dropout(cfg.dropout_rate)\n",
        "        self.fc = nn.Linear(self.hidden_dim, cfg.num_class)\n",
        "\n",
        "    def forward(self, X_batch):\n",
        "        embedding = self.dropout(self.embedding(X_batch))\n",
        "        h, c = torch.randn(self.n_layers, len(X_batch), self.hidden_dim), torch.randn(self.n_layers, len(X_batch), self.hidden_dim)\n",
        "        output, (h, c) = self.lstm(embedding, (h, c))\n",
        "        sentence_repr = output[:,-1] # considering the last token repr as the sentence repr\n",
        "        logits = self.fc(sentence_repr)\n",
        "        return logits"
      ]
    },
    {
      "cell_type": "markdown",
      "metadata": {
        "id": "jzizs8hU6E-h"
      },
      "source": [
        "## <span><h1 style = \"font-family: garamond; font-size: 40px; font-style: normal; letter-spcaing: 3px; background-color: #f6f5f5; color :#C01F4D; border-radius: 100px 100px; text-align:center\"> Pytorch Code for One Epoch Training </h1></span>"
      ]
    },
    {
      "cell_type": "code",
      "execution_count": 22,
      "metadata": {
        "id": "anlS-cn76E-h"
      },
      "outputs": [],
      "source": [
        "def get_score(y_trues, y_preds):\n",
        "    y_predicted = y_preds.argmax(axis=1)  # Convert probabilities to class predictions\n",
        "    macro_f1 = f1_score(y_trues, y_predicted, average='macro')\n",
        "    return macro_f1\n",
        "\n",
        "\n",
        "def train_one_epoch(train_loader, model, optimizer, loss_fn, epoch):\n",
        "    model.train()\n",
        "    running_loss = 0\n",
        "    running_score = 0\n",
        "\n",
        "    loop = tqdm.tqdm(enumerate(train_loader),\n",
        "                         total=len(train_loader), leave=False)\n",
        "\n",
        "    for i, data in loop:\n",
        "        inputs, labels = data\n",
        "\n",
        "        optimizer.zero_grad()\n",
        "        outputs = model(inputs)\n",
        "        loss = loss_fn(outputs, labels)\n",
        "        loss.backward()\n",
        "        optimizer.step()\n",
        "\n",
        "        # compute metrics and store\n",
        "        score = get_score(labels.argmax(axis=1), outputs)\n",
        "        running_score += score\n",
        "        running_loss += loss.item()\n",
        "\n",
        "        loop.set_description(f\"Epoch [{epoch + 1}/{CFG.n_epochs}]\")\n",
        "        loop.set_postfix(loss=running_loss / (i + 1))\n",
        "\n",
        "    avg_score = float(score / (i + 1))\n",
        "    avg_loss = float(loss / (i + 1))\n",
        "\n",
        "    return avg_score, avg_loss\n",
        "\n",
        "\n",
        "def eval_one_epoch(valid_loader, model, loss_fn):\n",
        "    # Validate\n",
        "    model.eval()\n",
        "    running_vloss = 0\n",
        "    running_vscore = 0\n",
        "\n",
        "    with torch.no_grad():\n",
        "        for i, vdata in enumerate(valid_loader):\n",
        "            vinputs, vlabels = vdata\n",
        "            voutputs = model(vinputs)\n",
        "            vloss = loss_fn(voutputs, vlabels)\n",
        "\n",
        "            vscore = get_score(vlabels.argmax(axis=1), voutputs)\n",
        "            running_vscore += vscore\n",
        "            running_vloss += vloss\n",
        "\n",
        "    avg_vscore = float(running_vscore / (i + 1))\n",
        "    avg_vloss = float(running_vloss / (i + 1))\n",
        "\n",
        "    return avg_vscore, avg_vloss"
      ]
    },
    {
      "cell_type": "markdown",
      "metadata": {
        "id": "bJOBRlPf6E-h"
      },
      "source": [
        "## <span><h1 style = \"font-family: garamond; font-size: 40px; font-style: normal; letter-spcaing: 3px; background-color: #f6f5f5; color :#C01F4D; border-radius: 100px 100px; text-align:center\"> Training Loop </h1></span>"
      ]
    },
    {
      "cell_type": "code",
      "execution_count": 23,
      "metadata": {
        "id": "ck9lnli06E-h"
      },
      "outputs": [],
      "source": [
        "def train_loop(X_train, y_train, X_valid, y_valid, CFG):\n",
        "\n",
        "    model = LSTMClassifier(CFG) # Initializing the Model\n",
        "\n",
        "    # Loss function and optimizer\n",
        "    loss_fn = nn.CrossEntropyLoss()\n",
        "    optimizer = torch.optim.Adam(model.parameters(), lr=CFG.learning_rate)\n",
        "\n",
        "    train_dataset = TextDataset(X_train, y_train)\n",
        "    valid_dataset = TextDataset(X_valid, y_valid)\n",
        "\n",
        "    train_loader  = DataLoader(train_dataset,batch_size=CFG.batch_size, shuffle=True)\n",
        "    valid_loader  = DataLoader(valid_dataset,batch_size=CFG.batch_size, shuffle=False)\n",
        "\n",
        "    best_score = 0\n",
        "    train_loss = []; train_score = []\n",
        "    valid_loss = []; valid_score = []\n",
        "\n",
        "    for epoch in range(CFG.n_epochs):\n",
        "\n",
        "        avg_score, avg_loss = train_one_epoch(train_loader, model, optimizer, loss_fn, epoch)\n",
        "\n",
        "        avg_vscore, avg_vloss = eval_one_epoch(valid_loader, model, loss_fn)\n",
        "\n",
        "        # Track best performance and save model's state\n",
        "        if avg_vscore > best_score:\n",
        "            best_score = avg_vscore\n",
        "            model_path = f\"best_scored_model.pth\"\n",
        "            torch.save(model.state_dict(), model_path)\n",
        "\n",
        "        print(f\"Epoch {epoch+1}: Training Loss = {avg_loss:.4} Training Score = {avg_score:.4f}\", end = \" & \")\n",
        "        print(f\"Validation Loss = {avg_vloss:.4f} Validation Score = {avg_vscore:.4f}\")\n",
        "        train_loss.append(avg_loss); train_score.append(avg_score)\n",
        "        valid_loss.append(avg_vloss); valid_score.append(avg_vscore)\n",
        "\n",
        "    # Plot loss and metric\n",
        "    fig,(ax1, ax2) = plt.subplots(1, 2)\n",
        "\n",
        "    ax1.set_xlabel('epoch'); ax1.set_ylabel('loss'); ax1.set_title('training loss')\n",
        "    ax1.plot(np.arange(len(train_loss)), train_loss, label='training')\n",
        "    ax1.plot(np.arange(len(valid_loss)), valid_loss, label='validation')\n",
        "    ax1.legend()\n",
        "\n",
        "    ax2.set_xlabel('epoch'); ax2.set_ylabel('score'); ax2.set_title('training score')\n",
        "    ax2.plot(np.arange(len(train_score)), train_score, label='training')\n",
        "    ax2.plot(np.arange(len(valid_score)), valid_score, label='validation')\n",
        "    ax2.legend()\n",
        "\n",
        "    return best_score"
      ]
    },
    {
      "cell_type": "code",
      "execution_count": 24,
      "metadata": {
        "colab": {
          "base_uri": "https://localhost:8080/",
          "height": 993
        },
        "id": "qFvYlUyq6E-i",
        "outputId": "b06238ac-24a4-4ee8-dbaa-d94b3e7262d0"
      },
      "outputs": [
        {
          "output_type": "stream",
          "name": "stderr",
          "text": []
        },
        {
          "output_type": "stream",
          "name": "stdout",
          "text": [
            "Epoch 1: Training Loss = 0.006517 Training Score = 0.0003 & Validation Loss = 1.5835 Validation Score = 0.0891\n"
          ]
        },
        {
          "output_type": "stream",
          "name": "stderr",
          "text": []
        },
        {
          "output_type": "stream",
          "name": "stdout",
          "text": [
            "Epoch 2: Training Loss = 0.006548 Training Score = 0.0003 & Validation Loss = 1.5825 Validation Score = 0.0891\n"
          ]
        },
        {
          "output_type": "stream",
          "name": "stderr",
          "text": []
        },
        {
          "output_type": "stream",
          "name": "stdout",
          "text": [
            "Epoch 3: Training Loss = 0.00642 Training Score = 0.0003 & Validation Loss = 1.5841 Validation Score = 0.0891\n"
          ]
        },
        {
          "output_type": "stream",
          "name": "stderr",
          "text": []
        },
        {
          "output_type": "stream",
          "name": "stdout",
          "text": [
            "Epoch 4: Training Loss = 0.006128 Training Score = 0.0004 & Validation Loss = 1.5849 Validation Score = 0.0891\n"
          ]
        },
        {
          "output_type": "stream",
          "name": "stderr",
          "text": []
        },
        {
          "output_type": "stream",
          "name": "stdout",
          "text": [
            "Epoch 5: Training Loss = 0.006168 Training Score = 0.0004 & Validation Loss = 1.5880 Validation Score = 0.0732\n"
          ]
        },
        {
          "output_type": "stream",
          "name": "stderr",
          "text": []
        },
        {
          "output_type": "stream",
          "name": "stdout",
          "text": [
            "Epoch 6: Training Loss = 0.00373 Training Score = 0.0014 & Validation Loss = 0.9986 Validation Score = 0.3600\n"
          ]
        },
        {
          "output_type": "stream",
          "name": "stderr",
          "text": []
        },
        {
          "output_type": "stream",
          "name": "stdout",
          "text": [
            "Epoch 7: Training Loss = 0.001746 Training Score = 0.0029 & Validation Loss = 0.4721 Validation Score = 0.7176\n"
          ]
        },
        {
          "output_type": "stream",
          "name": "stderr",
          "text": []
        },
        {
          "output_type": "stream",
          "name": "stdout",
          "text": [
            "Epoch 8: Training Loss = 0.0007738 Training Score = 0.0039 & Validation Loss = 0.2871 Validation Score = 0.7554\n"
          ]
        },
        {
          "output_type": "stream",
          "name": "stderr",
          "text": []
        },
        {
          "output_type": "stream",
          "name": "stdout",
          "text": [
            "Epoch 9: Training Loss = 0.0003126 Training Score = 0.0037 & Validation Loss = 0.2294 Validation Score = 0.8786\n"
          ]
        },
        {
          "output_type": "stream",
          "name": "stderr",
          "text": []
        },
        {
          "output_type": "stream",
          "name": "stdout",
          "text": [
            "Epoch 10: Training Loss = 0.0005402 Training Score = 0.0035 & Validation Loss = 0.2310 Validation Score = 0.8874\n"
          ]
        },
        {
          "output_type": "stream",
          "name": "stderr",
          "text": []
        },
        {
          "output_type": "stream",
          "name": "stdout",
          "text": [
            "Epoch 11: Training Loss = 0.0003853 Training Score = 0.0035 & Validation Loss = 0.2689 Validation Score = 0.8844\n"
          ]
        },
        {
          "output_type": "stream",
          "name": "stderr",
          "text": []
        },
        {
          "output_type": "stream",
          "name": "stdout",
          "text": [
            "Epoch 12: Training Loss = 0.0005425 Training Score = 0.0036 & Validation Loss = 0.2356 Validation Score = 0.8867\n"
          ]
        },
        {
          "output_type": "stream",
          "name": "stderr",
          "text": []
        },
        {
          "output_type": "stream",
          "name": "stdout",
          "text": [
            "Epoch 13: Training Loss = 0.0002826 Training Score = 0.0033 & Validation Loss = 0.2843 Validation Score = 0.8771\n"
          ]
        },
        {
          "output_type": "stream",
          "name": "stderr",
          "text": []
        },
        {
          "output_type": "stream",
          "name": "stdout",
          "text": [
            "Epoch 14: Training Loss = 4.107e-05 Training Score = 0.0040 & Validation Loss = 0.3012 Validation Score = 0.8748\n"
          ]
        },
        {
          "output_type": "stream",
          "name": "stderr",
          "text": []
        },
        {
          "output_type": "stream",
          "name": "stdout",
          "text": [
            "Epoch 15: Training Loss = 6.536e-05 Training Score = 0.0040 & Validation Loss = 0.2708 Validation Score = 0.8778\n"
          ]
        },
        {
          "output_type": "stream",
          "name": "stderr",
          "text": []
        },
        {
          "output_type": "stream",
          "name": "stdout",
          "text": [
            "Epoch 16: Training Loss = 9.529e-05 Training Score = 0.0040 & Validation Loss = 0.2912 Validation Score = 0.8834\n"
          ]
        },
        {
          "output_type": "stream",
          "name": "stderr",
          "text": []
        },
        {
          "output_type": "stream",
          "name": "stdout",
          "text": [
            "Epoch 17: Training Loss = 7.977e-05 Training Score = 0.0040 & Validation Loss = 0.2990 Validation Score = 0.8816\n"
          ]
        },
        {
          "output_type": "stream",
          "name": "stderr",
          "text": []
        },
        {
          "output_type": "stream",
          "name": "stdout",
          "text": [
            "Epoch 18: Training Loss = 0.0001517 Training Score = 0.0039 & Validation Loss = 0.3260 Validation Score = 0.8892\n"
          ]
        },
        {
          "output_type": "stream",
          "name": "stderr",
          "text": []
        },
        {
          "output_type": "stream",
          "name": "stdout",
          "text": [
            "Epoch 19: Training Loss = 0.0001437 Training Score = 0.0039 & Validation Loss = 0.3485 Validation Score = 0.8815\n"
          ]
        },
        {
          "output_type": "stream",
          "name": "stderr",
          "text": []
        },
        {
          "output_type": "stream",
          "name": "stdout",
          "text": [
            "Epoch 20: Training Loss = 2.992e-05 Training Score = 0.0040 & Validation Loss = 0.3153 Validation Score = 0.8742\n"
          ]
        },
        {
          "output_type": "stream",
          "name": "stderr",
          "text": []
        },
        {
          "output_type": "stream",
          "name": "stdout",
          "text": [
            "Epoch 21: Training Loss = 7.864e-06 Training Score = 0.0040 & Validation Loss = 0.3357 Validation Score = 0.8817\n"
          ]
        },
        {
          "output_type": "stream",
          "name": "stderr",
          "text": []
        },
        {
          "output_type": "stream",
          "name": "stdout",
          "text": [
            "Epoch 22: Training Loss = 0.0001604 Training Score = 0.0040 & Validation Loss = 0.3575 Validation Score = 0.8774\n"
          ]
        },
        {
          "output_type": "stream",
          "name": "stderr",
          "text": []
        },
        {
          "output_type": "stream",
          "name": "stdout",
          "text": [
            "Epoch 23: Training Loss = 2.687e-05 Training Score = 0.0040 & Validation Loss = 0.3223 Validation Score = 0.8818\n"
          ]
        },
        {
          "output_type": "stream",
          "name": "stderr",
          "text": []
        },
        {
          "output_type": "stream",
          "name": "stdout",
          "text": [
            "Epoch 24: Training Loss = 7.512e-05 Training Score = 0.0039 & Validation Loss = 0.3404 Validation Score = 0.8809\n"
          ]
        },
        {
          "output_type": "stream",
          "name": "stderr",
          "text": []
        },
        {
          "output_type": "stream",
          "name": "stdout",
          "text": [
            "Epoch 25: Training Loss = 1.944e-06 Training Score = 0.0040 & Validation Loss = 0.3657 Validation Score = 0.8814\n"
          ]
        },
        {
          "output_type": "stream",
          "name": "stderr",
          "text": []
        },
        {
          "output_type": "stream",
          "name": "stdout",
          "text": [
            "Epoch 26: Training Loss = 2.428e-05 Training Score = 0.0040 & Validation Loss = 0.3788 Validation Score = 0.8956\n"
          ]
        },
        {
          "output_type": "stream",
          "name": "stderr",
          "text": []
        },
        {
          "output_type": "stream",
          "name": "stdout",
          "text": [
            "Epoch 27: Training Loss = 4.934e-06 Training Score = 0.0040 & Validation Loss = 0.3634 Validation Score = 0.8854\n"
          ]
        },
        {
          "output_type": "stream",
          "name": "stderr",
          "text": []
        },
        {
          "output_type": "stream",
          "name": "stdout",
          "text": [
            "Epoch 28: Training Loss = 7.107e-05 Training Score = 0.0040 & Validation Loss = 0.3756 Validation Score = 0.8780\n"
          ]
        },
        {
          "output_type": "stream",
          "name": "stderr",
          "text": []
        },
        {
          "output_type": "stream",
          "name": "stdout",
          "text": [
            "Epoch 29: Training Loss = 1.764e-05 Training Score = 0.0040 & Validation Loss = 0.3662 Validation Score = 0.8723\n"
          ]
        },
        {
          "output_type": "stream",
          "name": "stderr",
          "text": []
        },
        {
          "output_type": "stream",
          "name": "stdout",
          "text": [
            "Epoch 30: Training Loss = 6.564e-06 Training Score = 0.0040 & Validation Loss = 0.3743 Validation Score = 0.8786\n"
          ]
        },
        {
          "output_type": "display_data",
          "data": {
            "text/plain": [
              "<Figure size 640x480 with 2 Axes>"
            ],
            "image/png": "[encoded data removed]"
          },
          "metadata": {}
        }
      ],
      "source": [
        "# ====================================================\n",
        "# the training\n",
        "# ====================================================\n",
        "\n",
        "if __name__ == '__main__':\n",
        "    best_score = train_loop(X_train, y_train, X_valid, y_valid, CFG)"
      ]
    },
    {
      "cell_type": "markdown",
      "metadata": {
        "id": "bCDS30bh6E-i"
      },
      "source": [
        "## <span><h1 style = \"font-family: garamond; font-size: 40px; font-style: normal; letter-spcaing: 3px; background-color: #f6f5f5; color :#C01F4D; border-radius: 100px 100px; text-align:center\"> Prediction on Test Dataset & Evaluation </h1></span>"
      ]
    },
    {
      "cell_type": "code",
      "execution_count": 25,
      "metadata": {
        "id": "1NgQGWAH6E-i"
      },
      "outputs": [],
      "source": [
        "def test_model(X, y, model, label_names):\n",
        "    model.eval()\n",
        "\n",
        "    test_dataset = TextDataset(X, y)\n",
        "    test_loader  = DataLoader(test_dataset,batch_size=CFG.batch_size, shuffle=False)\n",
        "\n",
        "    y_preds = []\n",
        "    with torch.no_grad():\n",
        "        for i, data in tqdm.tqdm(enumerate(test_loader)):\n",
        "            inputs, labels = data\n",
        "            outputs = model(inputs)\n",
        "            y_preds.append(outputs.argmax(1))\n",
        "\n",
        "    y_preds = torch.cat(y_preds)\n",
        "\n",
        "    print(classification_report(y, y_preds, target_names=label_names))\n",
        "    ConfusionMatrixDisplay.from_predictions(y, y_preds, display_labels=label_names)\n",
        "\n",
        "    return y_preds"
      ]
    },
    {
      "cell_type": "code",
      "execution_count": 26,
      "metadata": {
        "colab": {
          "base_uri": "https://localhost:8080/",
          "height": 747
        },
        "id": "r_rqRLSB6E-i",
        "outputId": "bbdb1297-3c62-4573-b566-10611cc2d4c1"
      },
      "outputs": [
        {
          "output_type": "stream",
          "name": "stderr",
          "text": [
            "<ipython-input-26-0b1ca7c238b3>:4: FutureWarning: You are using `torch.load` with `weights_only=False` (the current default value), which uses the default pickle module implicitly. It is possible to construct malicious pickle data which will execute arbitrary code during unpickling (See https://github.com/pytorch/pytorch/blob/main/SECURITY.md#untrusted-models for more details). In a future release, the default value for `weights_only` will be flipped to `True`. This limits the functions that could be executed during unpickling. Arbitrary objects will no longer be allowed to be loaded via this mode unless they are explicitly allowlisted by the user via `torch.serialization.add_safe_globals`. We recommend you start setting `weights_only=True` for any use case where you don't have full control of the loaded file. Please open an issue on GitHub for any issues related to this experimental feature.\n",
            "  state = torch.load(model_path) # loading the saved model\n",
            "32it [00:00, 45.00it/s]\n"
          ]
        },
        {
          "output_type": "stream",
          "name": "stdout",
          "text": [
            "              precision    recall  f1-score   support\n",
            "\n",
            "     sadness       0.95      0.98      0.97       581\n",
            "       anger       0.96      0.87      0.92       275\n",
            "        love       0.80      0.77      0.79       159\n",
            "    surprise       0.77      0.77      0.77        66\n",
            "        fear       0.86      0.90      0.88       224\n",
            "         joy       0.94      0.94      0.94       695\n",
            "\n",
            "    accuracy                           0.92      2000\n",
            "   macro avg       0.88      0.87      0.88      2000\n",
            "weighted avg       0.92      0.92      0.92      2000\n",
            "\n"
          ]
        },
        {
          "output_type": "display_data",
          "data": {
            "text/plain": [
              "<Figure size 640x480 with 2 Axes>"
            ],
            "image/png": "[encoded data removed]"
          },
          "metadata": {}
        }
      ],
      "source": [
        "label_names = train[\"emotion\"].unique()\n",
        "model = LSTMClassifier(CFG)\n",
        "model_path = f\"best_scored_model.pth\"\n",
        "state = torch.load(model_path) # loading the saved model\n",
        "\n",
        "model.load_state_dict(state)\n",
        "test_set_predictions = test_model(X_test, y_test, model, label_names)"
      ]
    },
    {
      "cell_type": "markdown",
      "source": [
        "# Performance of Word2Vec"
      ],
      "metadata": {
        "id": "dxVnW5FlXcdv"
      }
    },
    {
      "cell_type": "markdown",
      "metadata": {
        "id": "dP5keeXFXcdx"
      },
      "source": [
        "## <span><h1 style = \"font-family: garamond; font-size: 40px; font-style: normal; letter-spcaing: 3px; background-color: #f6f5f5; color :#C01F4D; border-radius: 100px 100px; text-align:center\"> Creating the Model </h1></span>\n",
        "\n",
        "We are following the same model architecure shown in slide. Basically,\n",
        "\n",
        "- Initialize the LSTMClassifier, setting the number of LSTM layers, hidden dimensions, vocabulary size, embedding dimensions, and dropout rate.\n",
        "\n",
        "- Define the embedding layer using nn.Embedding based on the specified vocabulary size and embedding dimensions.\n",
        "\n",
        "- Configure the LSTM layer using nn.LSTM, with parameters including input and hidden dimensions, the number of layers, and batch-first set to True.\n",
        "\n",
        "- Implement dropout regularization using nn.Dropout with the specified dropout rate.\n",
        "\n",
        "- Create a fully connected layer (nn.Linear) for the classification task, with the output size equal to the number of classes.\n",
        "\n",
        "- In the forward method, apply dropout to the input embeddings, then pass them through the LSTM layer.\n",
        "\n",
        "- Extract the representation of the last token as the sentence representation from the LSTM output.\n",
        "\n",
        "- Pass the sentence representation through the fully connected layer to obtain the final logits for classification.\n",
        "\n",
        "- Return the logits as the output of the forward pass."
      ]
    },
    {
      "cell_type": "code",
      "source": [
        "# Create embedding matrix\n",
        "embedding_matrix = torch.zeros((CFG.vocab_size,CFG.embedding_dim))\n",
        "cnt = 0\n",
        "for word, idx in tqdm.tqdm(vocab.items()):\n",
        "    if word in wv.key_to_index:\n",
        "        embedding_matrix[idx] = torch.tensor(wv[word][:CFG.embedding_dim])\n",
        "    else:\n",
        "        cnt += 1\n",
        "        embedding_matrix[idx] = torch.randn(CFG.embedding_dim)  # Random initialization for unknown words\n",
        "\n",
        "out_of_vocab = cnt / len(vocab) * 100\n",
        "print(f\"\\nTotal {out_of_vocab:.2f}% of Words are out of vocabulary\")"
      ],
      "metadata": {
        "colab": {
          "base_uri": "https://localhost:8080/"
        },
        "outputId": "187d7215-0c94-4e70-efc7-b58f552060e6",
        "id": "DppMXznRXcdy"
      },
      "execution_count": 27,
      "outputs": [
        {
          "output_type": "stream",
          "name": "stderr",
          "text": [
            "100%|██████████| 13486/13486 [00:00<00:00, 39890.34it/s]"
          ]
        },
        {
          "output_type": "stream",
          "name": "stdout",
          "text": [
            "\n",
            "Total 9.85% of Words are out of vocabulary\n"
          ]
        },
        {
          "output_type": "stream",
          "name": "stderr",
          "text": [
            "\n"
          ]
        }
      ]
    },
    {
      "cell_type": "code",
      "execution_count": 28,
      "metadata": {
        "id": "KKNXywdUXcdz"
      },
      "outputs": [],
      "source": [
        "class LSTMClassifier(nn.Module):\n",
        "    def __init__(self, cfg):\n",
        "        # Model\n",
        "        super().__init__()\n",
        "        self.n_layers = cfg.num_lstm_layers\n",
        "        self.hidden_dim = cfg.hidden_dim\n",
        "        self.embedding = nn.Embedding(cfg.vocab_size, cfg.embedding_dim)\n",
        "\n",
        "        # Define embedding layer and initialize with pre-trained embeddings\n",
        "        self.embedding.weight = nn.Parameter(embedding_matrix, requires_grad=True)\n",
        "\n",
        "        self.lstm = nn.LSTM(\n",
        "            cfg.embedding_dim, cfg.hidden_dim, num_layers=self.n_layers,\n",
        "            batch_first=True\n",
        "        )\n",
        "        self.dropout = nn.Dropout(cfg.dropout_rate)\n",
        "        self.fc = nn.Linear(self.hidden_dim, cfg.num_class)\n",
        "\n",
        "    def forward(self, X_batch):\n",
        "        embedding = self.dropout(self.embedding(X_batch))\n",
        "        h, c = torch.randn(self.n_layers, len(X_batch), self.hidden_dim), torch.randn(self.n_layers, len(X_batch), self.hidden_dim)\n",
        "        output, (h, c) = self.lstm(embedding, (h, c))\n",
        "        sentence_repr = output[:,-1] # considering the last token repr as the sentence repr\n",
        "        logits = self.fc(sentence_repr)\n",
        "        return logits"
      ]
    },
    {
      "cell_type": "markdown",
      "metadata": {
        "id": "FlBYS1drXcd0"
      },
      "source": [
        "## <span><h1 style = \"font-family: garamond; font-size: 40px; font-style: normal; letter-spcaing: 3px; background-color: #f6f5f5; color :#C01F4D; border-radius: 100px 100px; text-align:center\"> Pytorch Code for One Epoch Training </h1></span>"
      ]
    },
    {
      "cell_type": "code",
      "execution_count": 29,
      "metadata": {
        "id": "sy4kx2_6Xcd1"
      },
      "outputs": [],
      "source": [
        "def get_score(y_trues, y_preds):\n",
        "    y_predicted = y_preds.argmax(axis=1)  # Convert probabilities to class predictions\n",
        "    macro_f1 = f1_score(y_trues, y_predicted, average='macro')\n",
        "    return macro_f1\n",
        "\n",
        "\n",
        "def train_one_epoch(train_loader, model, optimizer, loss_fn, epoch):\n",
        "    model.train()\n",
        "    running_loss = 0\n",
        "    running_score = 0\n",
        "\n",
        "    loop = tqdm.tqdm(enumerate(train_loader),\n",
        "                         total=len(train_loader), leave=False)\n",
        "\n",
        "    for i, data in loop:\n",
        "        inputs, labels = data\n",
        "\n",
        "        optimizer.zero_grad()\n",
        "        outputs = model(inputs)\n",
        "        loss = loss_fn(outputs, labels)\n",
        "        loss.backward()\n",
        "        optimizer.step()\n",
        "\n",
        "        # compute metrics and store\n",
        "        score = get_score(labels.argmax(axis=1), outputs)\n",
        "        running_score += score\n",
        "        running_loss += loss.item()\n",
        "\n",
        "        loop.set_description(f\"Epoch [{epoch + 1}/{CFG.n_epochs}]\")\n",
        "        loop.set_postfix(loss=running_loss / (i + 1))\n",
        "\n",
        "    avg_score = float(score / (i + 1))\n",
        "    avg_loss = float(loss / (i + 1))\n",
        "\n",
        "    return avg_score, avg_loss\n",
        "\n",
        "\n",
        "def eval_one_epoch(valid_loader, model, loss_fn):\n",
        "    # Validate\n",
        "    model.eval()\n",
        "    running_vloss = 0\n",
        "    running_vscore = 0\n",
        "\n",
        "    with torch.no_grad():\n",
        "        for i, vdata in enumerate(valid_loader):\n",
        "            vinputs, vlabels = vdata\n",
        "            voutputs = model(vinputs)\n",
        "            vloss = loss_fn(voutputs, vlabels)\n",
        "\n",
        "            vscore = get_score(vlabels.argmax(axis=1), voutputs)\n",
        "            running_vscore += vscore\n",
        "            running_vloss += vloss\n",
        "\n",
        "    avg_vscore = float(running_vscore / (i + 1))\n",
        "    avg_vloss = float(running_vloss / (i + 1))\n",
        "\n",
        "    return avg_vscore, avg_vloss"
      ]
    },
    {
      "cell_type": "markdown",
      "metadata": {
        "id": "66fN7B7HXcd2"
      },
      "source": [
        "## <span><h1 style = \"font-family: garamond; font-size: 40px; font-style: normal; letter-spcaing: 3px; background-color: #f6f5f5; color :#C01F4D; border-radius: 100px 100px; text-align:center\"> Training Loop </h1></span>"
      ]
    },
    {
      "cell_type": "code",
      "execution_count": 30,
      "metadata": {
        "id": "LJIwqwWFXcd2"
      },
      "outputs": [],
      "source": [
        "def train_loop(X_train, y_train, X_valid, y_valid, CFG):\n",
        "\n",
        "    model = LSTMClassifier(CFG) # Initializing the Model\n",
        "\n",
        "    # Loss function and optimizer\n",
        "    loss_fn = nn.CrossEntropyLoss()\n",
        "    optimizer = torch.optim.Adam(model.parameters(), lr=CFG.learning_rate)\n",
        "\n",
        "    train_dataset = TextDataset(X_train, y_train)\n",
        "    valid_dataset = TextDataset(X_valid, y_valid)\n",
        "\n",
        "    train_loader  = DataLoader(train_dataset,batch_size=CFG.batch_size, shuffle=True)\n",
        "    valid_loader  = DataLoader(valid_dataset,batch_size=CFG.batch_size, shuffle=False)\n",
        "\n",
        "    best_score = 0\n",
        "    train_loss = []; train_score = []\n",
        "    valid_loss = []; valid_score = []\n",
        "\n",
        "    for epoch in range(CFG.n_epochs):\n",
        "\n",
        "        avg_score, avg_loss = train_one_epoch(train_loader, model, optimizer, loss_fn, epoch)\n",
        "\n",
        "        avg_vscore, avg_vloss = eval_one_epoch(valid_loader, model, loss_fn)\n",
        "\n",
        "        # Track best performance and save model's state\n",
        "        if avg_vscore > best_score:\n",
        "            best_score = avg_vscore\n",
        "            model_path = f\"best_scored_model.pth\"\n",
        "            torch.save(model.state_dict(), model_path)\n",
        "\n",
        "        print(f\"Epoch {epoch+1}: Training Loss = {avg_loss:.4} Training Score = {avg_score:.4f}\", end = \" & \")\n",
        "        print(f\"Validation Loss = {avg_vloss:.4f} Validation Score = {avg_vscore:.4f}\")\n",
        "        train_loss.append(avg_loss); train_score.append(avg_score)\n",
        "        valid_loss.append(avg_vloss); valid_score.append(avg_vscore)\n",
        "\n",
        "    # Plot loss and metric\n",
        "    fig,(ax1, ax2) = plt.subplots(1, 2)\n",
        "\n",
        "    ax1.set_xlabel('epoch'); ax1.set_ylabel('loss'); ax1.set_title('training loss')\n",
        "    ax1.plot(np.arange(len(train_loss)), train_loss, label='training')\n",
        "    ax1.plot(np.arange(len(valid_loss)), valid_loss, label='validation')\n",
        "    ax1.legend()\n",
        "\n",
        "    ax2.set_xlabel('epoch'); ax2.set_ylabel('score'); ax2.set_title('training score')\n",
        "    ax2.plot(np.arange(len(train_score)), train_score, label='training')\n",
        "    ax2.plot(np.arange(len(valid_score)), valid_score, label='validation')\n",
        "    ax2.legend()\n",
        "\n",
        "    return best_score"
      ]
    },
    {
      "cell_type": "code",
      "execution_count": 31,
      "metadata": {
        "colab": {
          "base_uri": "https://localhost:8080/",
          "height": 993
        },
        "outputId": "534dfe6e-36ad-4998-98e7-d0dd43cf0616",
        "id": "pkz2YTZiXcd3"
      },
      "outputs": [
        {
          "output_type": "stream",
          "name": "stderr",
          "text": []
        },
        {
          "output_type": "stream",
          "name": "stdout",
          "text": [
            "Epoch 1: Training Loss = 0.00623 Training Score = 0.0005 & Validation Loss = 1.5864 Validation Score = 0.0736\n"
          ]
        },
        {
          "output_type": "stream",
          "name": "stderr",
          "text": []
        },
        {
          "output_type": "stream",
          "name": "stdout",
          "text": [
            "Epoch 2: Training Loss = 0.006581 Training Score = 0.0003 & Validation Loss = 1.5816 Validation Score = 0.0892\n"
          ]
        },
        {
          "output_type": "stream",
          "name": "stderr",
          "text": []
        },
        {
          "output_type": "stream",
          "name": "stdout",
          "text": [
            "Epoch 3: Training Loss = 0.005885 Training Score = 0.0004 & Validation Loss = 1.5927 Validation Score = 0.0736\n"
          ]
        },
        {
          "output_type": "stream",
          "name": "stderr",
          "text": []
        },
        {
          "output_type": "stream",
          "name": "stdout",
          "text": [
            "Epoch 4: Training Loss = 0.006095 Training Score = 0.0009 & Validation Loss = 1.4495 Validation Score = 0.2459\n"
          ]
        },
        {
          "output_type": "stream",
          "name": "stderr",
          "text": []
        },
        {
          "output_type": "stream",
          "name": "stdout",
          "text": [
            "Epoch 5: Training Loss = 0.002808 Training Score = 0.0016 & Validation Loss = 0.7606 Validation Score = 0.4239\n"
          ]
        },
        {
          "output_type": "stream",
          "name": "stderr",
          "text": []
        },
        {
          "output_type": "stream",
          "name": "stdout",
          "text": [
            "Epoch 6: Training Loss = 0.001096 Training Score = 0.0031 & Validation Loss = 0.2849 Validation Score = 0.8597\n"
          ]
        },
        {
          "output_type": "stream",
          "name": "stderr",
          "text": []
        },
        {
          "output_type": "stream",
          "name": "stdout",
          "text": [
            "Epoch 7: Training Loss = 0.000288 Training Score = 0.0039 & Validation Loss = 0.2131 Validation Score = 0.8815\n"
          ]
        },
        {
          "output_type": "stream",
          "name": "stderr",
          "text": []
        },
        {
          "output_type": "stream",
          "name": "stdout",
          "text": [
            "Epoch 8: Training Loss = 0.0003472 Training Score = 0.0039 & Validation Loss = 0.2005 Validation Score = 0.8832\n"
          ]
        },
        {
          "output_type": "stream",
          "name": "stderr",
          "text": []
        },
        {
          "output_type": "stream",
          "name": "stdout",
          "text": [
            "Epoch 9: Training Loss = 5.583e-05 Training Score = 0.0040 & Validation Loss = 0.2212 Validation Score = 0.8950\n"
          ]
        },
        {
          "output_type": "stream",
          "name": "stderr",
          "text": []
        },
        {
          "output_type": "stream",
          "name": "stdout",
          "text": [
            "Epoch 10: Training Loss = 0.0001195 Training Score = 0.0039 & Validation Loss = 0.2471 Validation Score = 0.8918\n"
          ]
        },
        {
          "output_type": "stream",
          "name": "stderr",
          "text": []
        },
        {
          "output_type": "stream",
          "name": "stdout",
          "text": [
            "Epoch 11: Training Loss = 0.0001772 Training Score = 0.0039 & Validation Loss = 0.2429 Validation Score = 0.9026\n"
          ]
        },
        {
          "output_type": "stream",
          "name": "stderr",
          "text": []
        },
        {
          "output_type": "stream",
          "name": "stdout",
          "text": [
            "Epoch 12: Training Loss = 0.0002038 Training Score = 0.0039 & Validation Loss = 0.2448 Validation Score = 0.8959\n"
          ]
        },
        {
          "output_type": "stream",
          "name": "stderr",
          "text": []
        },
        {
          "output_type": "stream",
          "name": "stdout",
          "text": [
            "Epoch 13: Training Loss = 0.0004857 Training Score = 0.0036 & Validation Loss = 0.2566 Validation Score = 0.8898\n"
          ]
        },
        {
          "output_type": "stream",
          "name": "stderr",
          "text": []
        },
        {
          "output_type": "stream",
          "name": "stdout",
          "text": [
            "Epoch 14: Training Loss = 8.525e-05 Training Score = 0.0039 & Validation Loss = 0.2533 Validation Score = 0.9086\n"
          ]
        },
        {
          "output_type": "stream",
          "name": "stderr",
          "text": []
        },
        {
          "output_type": "stream",
          "name": "stdout",
          "text": [
            "Epoch 15: Training Loss = 0.0003233 Training Score = 0.0039 & Validation Loss = 0.2609 Validation Score = 0.8970\n"
          ]
        },
        {
          "output_type": "stream",
          "name": "stderr",
          "text": []
        },
        {
          "output_type": "stream",
          "name": "stdout",
          "text": [
            "Epoch 16: Training Loss = 0.0001565 Training Score = 0.0038 & Validation Loss = 0.2735 Validation Score = 0.9062\n"
          ]
        },
        {
          "output_type": "stream",
          "name": "stderr",
          "text": []
        },
        {
          "output_type": "stream",
          "name": "stdout",
          "text": [
            "Epoch 17: Training Loss = 5.573e-05 Training Score = 0.0040 & Validation Loss = 0.2830 Validation Score = 0.9028\n"
          ]
        },
        {
          "output_type": "stream",
          "name": "stderr",
          "text": []
        },
        {
          "output_type": "stream",
          "name": "stdout",
          "text": [
            "Epoch 18: Training Loss = 5.033e-05 Training Score = 0.0040 & Validation Loss = 0.3033 Validation Score = 0.8957\n"
          ]
        },
        {
          "output_type": "stream",
          "name": "stderr",
          "text": []
        },
        {
          "output_type": "stream",
          "name": "stdout",
          "text": [
            "Epoch 19: Training Loss = 8.09e-05 Training Score = 0.0038 & Validation Loss = 0.3023 Validation Score = 0.8978\n"
          ]
        },
        {
          "output_type": "stream",
          "name": "stderr",
          "text": []
        },
        {
          "output_type": "stream",
          "name": "stdout",
          "text": [
            "Epoch 20: Training Loss = 3.272e-05 Training Score = 0.0040 & Validation Loss = 0.2989 Validation Score = 0.8993\n"
          ]
        },
        {
          "output_type": "stream",
          "name": "stderr",
          "text": []
        },
        {
          "output_type": "stream",
          "name": "stdout",
          "text": [
            "Epoch 21: Training Loss = 5.587e-05 Training Score = 0.0040 & Validation Loss = 0.3223 Validation Score = 0.8952\n"
          ]
        },
        {
          "output_type": "stream",
          "name": "stderr",
          "text": []
        },
        {
          "output_type": "stream",
          "name": "stdout",
          "text": [
            "Epoch 22: Training Loss = 4.087e-06 Training Score = 0.0040 & Validation Loss = 0.3186 Validation Score = 0.8973\n"
          ]
        },
        {
          "output_type": "stream",
          "name": "stderr",
          "text": []
        },
        {
          "output_type": "stream",
          "name": "stdout",
          "text": [
            "Epoch 23: Training Loss = 4.651e-05 Training Score = 0.0040 & Validation Loss = 0.3341 Validation Score = 0.9014\n"
          ]
        },
        {
          "output_type": "stream",
          "name": "stderr",
          "text": []
        },
        {
          "output_type": "stream",
          "name": "stdout",
          "text": [
            "Epoch 24: Training Loss = 0.000153 Training Score = 0.0037 & Validation Loss = 0.3225 Validation Score = 0.8986\n"
          ]
        },
        {
          "output_type": "stream",
          "name": "stderr",
          "text": []
        },
        {
          "output_type": "stream",
          "name": "stdout",
          "text": [
            "Epoch 25: Training Loss = 0.0002771 Training Score = 0.0040 & Validation Loss = 0.3178 Validation Score = 0.8967\n"
          ]
        },
        {
          "output_type": "stream",
          "name": "stderr",
          "text": []
        },
        {
          "output_type": "stream",
          "name": "stdout",
          "text": [
            "Epoch 26: Training Loss = 0.0001412 Training Score = 0.0037 & Validation Loss = 0.3224 Validation Score = 0.8956\n"
          ]
        },
        {
          "output_type": "stream",
          "name": "stderr",
          "text": []
        },
        {
          "output_type": "stream",
          "name": "stdout",
          "text": [
            "Epoch 27: Training Loss = 1.593e-05 Training Score = 0.0040 & Validation Loss = 0.3252 Validation Score = 0.8996\n"
          ]
        },
        {
          "output_type": "stream",
          "name": "stderr",
          "text": []
        },
        {
          "output_type": "stream",
          "name": "stdout",
          "text": [
            "Epoch 28: Training Loss = 2.308e-05 Training Score = 0.0040 & Validation Loss = 0.3259 Validation Score = 0.9037\n"
          ]
        },
        {
          "output_type": "stream",
          "name": "stderr",
          "text": []
        },
        {
          "output_type": "stream",
          "name": "stdout",
          "text": [
            "Epoch 29: Training Loss = 6.135e-06 Training Score = 0.0040 & Validation Loss = 0.3373 Validation Score = 0.9028\n"
          ]
        },
        {
          "output_type": "stream",
          "name": "stderr",
          "text": []
        },
        {
          "output_type": "stream",
          "name": "stdout",
          "text": [
            "Epoch 30: Training Loss = 7.556e-05 Training Score = 0.0040 & Validation Loss = 0.3103 Validation Score = 0.9022\n"
          ]
        },
        {
          "output_type": "display_data",
          "data": {
            "text/plain": [
              "<Figure size 640x480 with 2 Axes>"
            ],
            "image/png": "[encoded data removed]"
          },
          "metadata": {}
        }
      ],
      "source": [
        "# ====================================================\n",
        "# the training\n",
        "# ====================================================\n",
        "\n",
        "if __name__ == '__main__':\n",
        "    best_score = train_loop(X_train, y_train, X_valid, y_valid, CFG)"
      ]
    },
    {
      "cell_type": "markdown",
      "metadata": {
        "id": "W4Mnn65FXcd4"
      },
      "source": [
        "## <span><h1 style = \"font-family: garamond; font-size: 40px; font-style: normal; letter-spcaing: 3px; background-color: #f6f5f5; color :#C01F4D; border-radius: 100px 100px; text-align:center\"> Prediction on Test Dataset & Evaluation </h1></span>"
      ]
    },
    {
      "cell_type": "code",
      "execution_count": 32,
      "metadata": {
        "id": "3rp1BcudXcd5"
      },
      "outputs": [],
      "source": [
        "def test_model(X, y, model, label_names):\n",
        "    model.eval()\n",
        "\n",
        "    test_dataset = TextDataset(X, y)\n",
        "    test_loader  = DataLoader(test_dataset,batch_size=CFG.batch_size, shuffle=False)\n",
        "\n",
        "    y_preds = []\n",
        "    with torch.no_grad():\n",
        "        for i, data in tqdm.tqdm(enumerate(test_loader)):\n",
        "            inputs, labels = data\n",
        "            outputs = model(inputs)\n",
        "            y_preds.append(outputs.argmax(1))\n",
        "\n",
        "    y_preds = torch.cat(y_preds)\n",
        "\n",
        "    print(classification_report(y, y_preds, target_names=label_names))\n",
        "    ConfusionMatrixDisplay.from_predictions(y, y_preds, display_labels=label_names)\n",
        "\n",
        "    return y_preds"
      ]
    },
    {
      "cell_type": "code",
      "execution_count": 33,
      "metadata": {
        "colab": {
          "base_uri": "https://localhost:8080/",
          "height": 747
        },
        "outputId": "e7208adc-a9e6-4d35-bf4f-4dc73c3294e5",
        "id": "oT2YzA7DXcd6"
      },
      "outputs": [
        {
          "output_type": "stream",
          "name": "stderr",
          "text": [
            "<ipython-input-33-0b1ca7c238b3>:4: FutureWarning: You are using `torch.load` with `weights_only=False` (the current default value), which uses the default pickle module implicitly. It is possible to construct malicious pickle data which will execute arbitrary code during unpickling (See https://github.com/pytorch/pytorch/blob/main/SECURITY.md#untrusted-models for more details). In a future release, the default value for `weights_only` will be flipped to `True`. This limits the functions that could be executed during unpickling. Arbitrary objects will no longer be allowed to be loaded via this mode unless they are explicitly allowlisted by the user via `torch.serialization.add_safe_globals`. We recommend you start setting `weights_only=True` for any use case where you don't have full control of the loaded file. Please open an issue on GitHub for any issues related to this experimental feature.\n",
            "  state = torch.load(model_path) # loading the saved model\n",
            "32it [00:00, 44.62it/s]\n"
          ]
        },
        {
          "output_type": "stream",
          "name": "stdout",
          "text": [
            "              precision    recall  f1-score   support\n",
            "\n",
            "     sadness       0.96      0.97      0.96       581\n",
            "       anger       0.94      0.92      0.93       275\n",
            "        love       0.79      0.83      0.81       159\n",
            "    surprise       0.73      0.77      0.75        66\n",
            "        fear       0.87      0.89      0.88       224\n",
            "         joy       0.96      0.94      0.95       695\n",
            "\n",
            "    accuracy                           0.93      2000\n",
            "   macro avg       0.87      0.89      0.88      2000\n",
            "weighted avg       0.93      0.93      0.93      2000\n",
            "\n"
          ]
        },
        {
          "output_type": "display_data",
          "data": {
            "text/plain": [
              "<Figure size 640x480 with 2 Axes>"
            ],
            "image/png": "[encoded data removed]"
          },
          "metadata": {}
        }
      ],
      "source": [
        "label_names = train[\"emotion\"].unique()\n",
        "model = LSTMClassifier(CFG)\n",
        "model_path = f\"best_scored_model.pth\"\n",
        "state = torch.load(model_path) # loading the saved model\n",
        "\n",
        "model.load_state_dict(state)\n",
        "test_set_predictions = test_model(X_test, y_test, model, label_names)"
      ]
    }
  ],
  "metadata": {
    "colab": {
      "provenance": [],
      "toc_visible": true
    },
    "kaggle": {
      "accelerator": "none",
      "dataSources": [
        {
          "datasetId": 605165,
          "sourceId": 1085454,
          "sourceType": "datasetVersion"
        }
      ],
      "dockerImageVersionId": 30646,
      "isGpuEnabled": false,
      "isInternetEnabled": true,
      "language": "python",
      "sourceType": "notebook"
    },
    "kernelspec": {
      "display_name": "Python 3",
      "name": "python3"
    },
    "language_info": {
      "codemirror_mode": {
        "name": "ipython",
        "version": 3
      },
      "file_extension": ".py",
      "mimetype": "text/x-python",
      "name": "python",
      "nbconvert_exporter": "python",
      "pygments_lexer": "ipython3",
      "version": "3.10.13"
    }
  },
  "nbformat": 4,
  "nbformat_minor": 0
}