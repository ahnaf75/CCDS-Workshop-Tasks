{
 "cells": [
  {
   "cell_type": "markdown",
   "metadata": {
    "id": "KEtvc3x5P94J"
   },
   "source": [
    "# Import necessities"
   ]
  },
  {
   "cell_type": "code",
   "execution_count": 21,
   "metadata": {
    "id": "BJwFe38YO4uX"
   },
   "outputs": [],
   "source": [
    "import matplotlib.pyplot as plt\n",
    "import torch\n",
    "from torch import nn\n",
    "from tqdm.auto import tqdm\n",
    "from sklearn.metrics import (ConfusionMatrixDisplay, classification_report, confusion_matrix)\n",
    "from torchvision import transforms\n",
    "from torchvision.io import read_image\n",
    "import torchvision\n",
    "import numpy as np\n",
    "import os, random\n",
    "import cv2\n",
    "from torchvision import models\n",
    "from PIL import Image\n",
    "from PIL import ImageFile\n",
    "ImageFile.LOAD_TRUNCATED_IMAGES = True\n",
    "from torchinfo import summary"
   ]
  },
  {
   "cell_type": "markdown",
   "metadata": {
    "id": "PHDpcenzZUH-"
   },
   "source": [
    "# Configuration File"
   ]
  },
  {
   "cell_type": "code",
   "execution_count": 20,
   "metadata": {
    "id": "JsDOE_swYgHk"
   },
   "outputs": [],
   "source": [
    "# Hyper parameters etc.\n",
    "class CFG:\n",
    "    n_epochs = 100\n",
    "    learning_rate = 1e-3\n",
    "    batch_size = 1024\n",
    "    seed = 42\n",
    "    \n",
    "    # Model parameters\n",
    "    num_class = None\n"
   ]
  },
  {
   "cell_type": "code",
   "execution_count": 6,
   "metadata": {
    "id": "5jOSXIyCY2zW"
   },
   "outputs": [],
   "source": [
    "# Set random seeds for reproducibility\n",
    "def seed_everything(seed = 42):\n",
    "  random.seed(seed)\n",
    "  os.environ['PYTHONHASHSEED'] = str(seed)\n",
    "  np.random.seed(seed)\n",
    "  torch.manual_seed(seed)\n",
    "  torch.cuda.manual_seed(seed)\n",
    "  torch.backends.cudnn.deterministic = True\n",
    "\n",
    "seed_everything(CFG.seed)"
   ]
  },
  {
   "cell_type": "markdown",
   "metadata": {
    "id": "GDntOSePT3tX"
   },
   "source": [
    "# Download the dataset"
   ]
  },
  {
   "cell_type": "code",
   "execution_count": 7,
   "metadata": {
    "colab": {
     "base_uri": "https://localhost:8080/"
    },
    "id": "3YKCi9tOT5Wf",
    "outputId": "0b416538-74fe-4e35-da9f-fcdc9fbae586"
   },
   "outputs": [
    {
     "name": "stdout",
     "output_type": "stream",
     "text": [
      "Downloading http://fashion-mnist.s3-website.eu-central-1.amazonaws.com/train-images-idx3-ubyte.gz\n",
      "Downloading http://fashion-mnist.s3-website.eu-central-1.amazonaws.com/train-images-idx3-ubyte.gz to data\\FashionMNIST\\raw\\train-images-idx3-ubyte.gz\n"
     ]
    },
    {
     "name": "stderr",
     "output_type": "stream",
     "text": [
      "100%|████████████████████████████████████████████████████████████████| 26421880/26421880 [00:01<00:00, 25418567.79it/s]\n"
     ]
    },
    {
     "name": "stdout",
     "output_type": "stream",
     "text": [
      "Extracting data\\FashionMNIST\\raw\\train-images-idx3-ubyte.gz to data\\FashionMNIST\\raw\n",
      "\n",
      "Downloading http://fashion-mnist.s3-website.eu-central-1.amazonaws.com/train-labels-idx1-ubyte.gz\n",
      "Downloading http://fashion-mnist.s3-website.eu-central-1.amazonaws.com/train-labels-idx1-ubyte.gz to data\\FashionMNIST\\raw\\train-labels-idx1-ubyte.gz\n"
     ]
    },
    {
     "name": "stderr",
     "output_type": "stream",
     "text": [
      "100%|████████████████████████████████████████████████████████████████████████████████████| 29515/29515 [00:00<?, ?it/s]\n"
     ]
    },
    {
     "name": "stdout",
     "output_type": "stream",
     "text": [
      "Extracting data\\FashionMNIST\\raw\\train-labels-idx1-ubyte.gz to data\\FashionMNIST\\raw\n",
      "\n",
      "Downloading http://fashion-mnist.s3-website.eu-central-1.amazonaws.com/t10k-images-idx3-ubyte.gz\n",
      "Downloading http://fashion-mnist.s3-website.eu-central-1.amazonaws.com/t10k-images-idx3-ubyte.gz to data\\FashionMNIST\\raw\\t10k-images-idx3-ubyte.gz\n"
     ]
    },
    {
     "name": "stderr",
     "output_type": "stream",
     "text": [
      "100%|█████████████████████████████████████████████████████████████████| 4422102/4422102 [00:00<00:00, 233368229.03it/s]\n"
     ]
    },
    {
     "name": "stdout",
     "output_type": "stream",
     "text": [
      "Extracting data\\FashionMNIST\\raw\\t10k-images-idx3-ubyte.gz to data\\FashionMNIST\\raw\n",
      "\n",
      "Downloading http://fashion-mnist.s3-website.eu-central-1.amazonaws.com/t10k-labels-idx1-ubyte.gz\n",
      "Downloading http://fashion-mnist.s3-website.eu-central-1.amazonaws.com/t10k-labels-idx1-ubyte.gz to data\\FashionMNIST\\raw\\t10k-labels-idx1-ubyte.gz\n"
     ]
    },
    {
     "name": "stderr",
     "output_type": "stream",
     "text": [
      "100%|██████████████████████████████████████████████████████████████████████████████████████| 5148/5148 [00:00<?, ?it/s]"
     ]
    },
    {
     "name": "stdout",
     "output_type": "stream",
     "text": [
      "Extracting data\\FashionMNIST\\raw\\t10k-labels-idx1-ubyte.gz to data\\FashionMNIST\\raw\n",
      "\n"
     ]
    },
    {
     "name": "stderr",
     "output_type": "stream",
     "text": [
      "\n"
     ]
    },
    {
     "data": {
      "text/plain": [
       "(Dataset FashionMNIST\n",
       "     Number of datapoints: 60000\n",
       "     Root location: data\n",
       "     Split: Train\n",
       "     StandardTransform\n",
       " Transform: ToTensor(),\n",
       " Dataset FashionMNIST\n",
       "     Number of datapoints: 10000\n",
       "     Root location: data\n",
       "     Split: Test\n",
       "     StandardTransform\n",
       " Transform: ToTensor())"
      ]
     },
     "execution_count": 7,
     "metadata": {},
     "output_type": "execute_result"
    }
   ],
   "source": [
    "train_data = torchvision.datasets.FashionMNIST(root = 'data', train = True, transform = transforms.ToTensor(), download = True)\n",
    "test_data = torchvision.datasets.FashionMNIST(root = 'data', train = False, transform = transforms.ToTensor(), download = True)\n",
    "\n",
    "train_data, test_data"
   ]
  },
  {
   "cell_type": "markdown",
   "metadata": {
    "id": "XsY9lwG1U6YD"
   },
   "source": [
    "# Splitting the dataset\n",
    "\n",
    "The Fashion MNIST dataset in torchvision does not have an explicit validation set. So, I am taking a portion out of the train data as the validation data. Since, there are 10k images in the test set, I will take out 10k images from the train set for validation."
   ]
  },
  {
   "cell_type": "code",
   "execution_count": 8,
   "metadata": {
    "colab": {
     "base_uri": "https://localhost:8080/"
    },
    "id": "FE4ReKIUU8mQ",
    "outputId": "2e3c6f8f-cb77-466a-e8ef-ec5091c5e4cb"
   },
   "outputs": [
    {
     "data": {
      "text/plain": [
       "(<torch.utils.data.dataset.Subset at 0x1329c84ca90>,\n",
       " <torch.utils.data.dataset.Subset at 0x1329c7fed60>,\n",
       " Dataset FashionMNIST\n",
       "     Number of datapoints: 10000\n",
       "     Root location: data\n",
       "     Split: Test\n",
       "     StandardTransform\n",
       " Transform: ToTensor(),\n",
       " 49980,\n",
       " 10020,\n",
       " 10000)"
      ]
     },
     "execution_count": 8,
     "metadata": {},
     "output_type": "execute_result"
    }
   ],
   "source": [
    "val_fraction = round(1/6, 3)\n",
    "train_fraction = 1 - val_fraction\n",
    "\n",
    "train_data, val_data = torch.utils.data.random_split(train_data, [train_fraction, val_fraction])\n",
    "\n",
    "train_data, val_data, test_data, len(train_data), len(val_data), len(test_data)"
   ]
  },
  {
   "cell_type": "markdown",
   "metadata": {
    "id": "LoTphryoXcaC"
   },
   "source": [
    "# Transform datasets to dataloader"
   ]
  },
  {
   "cell_type": "code",
   "execution_count": 9,
   "metadata": {
    "id": "GNUNunTnXd6w"
   },
   "outputs": [],
   "source": [
    "train_dataloader = torch.utils.data.DataLoader(train_data, batch_size = CFG.batch_size, shuffle = True)\n",
    "val_dataloader = torch.utils.data.DataLoader(val_data, batch_size = CFG.batch_size, shuffle = False)\n",
    "test_dataloader = torch.utils.data.DataLoader(test_data, batch_size = CFG.batch_size, shuffle = False)"
   ]
  },
  {
   "cell_type": "code",
   "execution_count": 10,
   "metadata": {
    "colab": {
     "base_uri": "https://localhost:8080/"
    },
    "id": "jv9DDBPVYBhP",
    "outputId": "dd5982ee-0468-4b5b-fc0a-f296c08d8e41"
   },
   "outputs": [
    {
     "data": {
      "text/plain": [
       "10"
      ]
     },
     "execution_count": 10,
     "metadata": {},
     "output_type": "execute_result"
    }
   ],
   "source": [
    "CFG.num_class = len(test_data.classes)\n",
    "CFG.num_class"
   ]
  },
  {
   "cell_type": "markdown",
   "metadata": {
    "id": "9Wgv5EgiXzjT"
   },
   "source": [
    "# Create the model"
   ]
  },
  {
   "cell_type": "code",
   "execution_count": 11,
   "metadata": {
    "id": "CWMnFzfDX06A"
   },
   "outputs": [],
   "source": [
    "class CNNmodel(nn.Module):\n",
    "  def __init__(self, num_class: int = CFG.num_class):\n",
    "    super().__init__()\n",
    "    self.conv_block = nn.Sequential(\n",
    "        nn.Conv2d(in_channels = 1, out_channels = 3, kernel_size = 3, stride = 1, padding = 1), # output_shape = 3x28x28\n",
    "        nn.ReLU(),\n",
    "        nn.Conv2d(in_channels = 3, out_channels = 5, kernel_size = 3, stride = 1, padding = 1), # output_shape = 5x28x28\n",
    "        nn.ReLU(),\n",
    "        nn.MaxPool2d(kernel_size = 2, stride = 2), # output_shape = 5x14x14\n",
    "        nn.Conv2d(in_channels = 5, out_channels = 5, kernel_size = 3, stride = 1, padding = 1), # output_shape = 5x14x14\n",
    "        nn.ReLU(),\n",
    "        nn.Conv2d(in_channels = 5, out_channels = 3, kernel_size = 3, stride = 1, padding = 1), # output_shape = 3x14x14\n",
    "        nn.ReLU(),\n",
    "        nn.MaxPool2d(kernel_size = 2, stride = 2), # output_shape = 3x7x7\n",
    "        # nn.AdaptiveAvgPool2d(1), # Global Average pooling layer # output_shape = 3x1x1\n",
    "\n",
    "        # Fully connected layer block\n",
    "        nn.Flatten(),\n",
    "        nn.Linear(in_features = 3*7*7, out_features = 147),\n",
    "        nn.BatchNorm1d(num_features = 147),\n",
    "        nn.Sigmoid(),\n",
    "        nn.Linear(in_features = 147, out_features = num_class)\n",
    "    )\n",
    "    self._initialize_weights_()\n",
    "\n",
    "  def _initialize_weights_(self):\n",
    "      for layer in self.children():\n",
    "        if isinstance(layer, nn.Linear):\n",
    "          nn.init.xavier_uniform_(layer.weight)\n",
    "          nn.init.zeros_(layer.bias)\n",
    "        elif isinstance(layer, nn.Conv2d):\n",
    "          nn.init.xavier_uniform_(layer.weight)\n",
    "          nn.init.zeros_(layer.bias)\n",
    "\n",
    "  def forward(self, x: torch.Tensor):\n",
    "    return self.conv_block(x)"
   ]
  },
  {
   "cell_type": "code",
   "execution_count": 12,
   "metadata": {
    "id": "beKsyX7akjf-"
   },
   "outputs": [],
   "source": [
    "device = \"cuda\" if torch.cuda.is_available() else \"cpu\"\n",
    "model_1 = CNNmodel().to(device)"
   ]
  },
  {
   "cell_type": "code",
   "execution_count": 13,
   "metadata": {
    "colab": {
     "base_uri": "https://localhost:8080/"
    },
    "id": "r9gR3F7qkUl6",
    "outputId": "92f1acac-1418-465a-f9f4-977a372f97a4"
   },
   "outputs": [
    {
     "data": {
      "text/plain": [
       "========================================================================================================================\n",
       "Layer (type (var_name))                  Input Shape          Output Shape         Param #              Trainable\n",
       "========================================================================================================================\n",
       "CNNmodel (CNNmodel)                      [1, 1, 28, 28]       [1, 10]              --                   True\n",
       "├─Sequential (conv_block)                [1, 1, 28, 28]       [1, 10]              --                   True\n",
       "│    └─Conv2d (0)                        [1, 1, 28, 28]       [1, 3, 28, 28]       30                   True\n",
       "│    └─ReLU (1)                          [1, 3, 28, 28]       [1, 3, 28, 28]       --                   --\n",
       "│    └─Conv2d (2)                        [1, 3, 28, 28]       [1, 5, 28, 28]       140                  True\n",
       "│    └─ReLU (3)                          [1, 5, 28, 28]       [1, 5, 28, 28]       --                   --\n",
       "│    └─MaxPool2d (4)                     [1, 5, 28, 28]       [1, 5, 14, 14]       --                   --\n",
       "│    └─Conv2d (5)                        [1, 5, 14, 14]       [1, 5, 14, 14]       230                  True\n",
       "│    └─ReLU (6)                          [1, 5, 14, 14]       [1, 5, 14, 14]       --                   --\n",
       "│    └─Conv2d (7)                        [1, 5, 14, 14]       [1, 3, 14, 14]       138                  True\n",
       "│    └─ReLU (8)                          [1, 3, 14, 14]       [1, 3, 14, 14]       --                   --\n",
       "│    └─MaxPool2d (9)                     [1, 3, 14, 14]       [1, 3, 7, 7]         --                   --\n",
       "│    └─Flatten (10)                      [1, 3, 7, 7]         [1, 147]             --                   --\n",
       "│    └─Linear (11)                       [1, 147]             [1, 147]             21,756               True\n",
       "│    └─BatchNorm1d (12)                  [1, 147]             [1, 147]             294                  True\n",
       "│    └─Sigmoid (13)                      [1, 147]             [1, 147]             --                   --\n",
       "│    └─Linear (14)                       [1, 147]             [1, 10]              1,480                True\n",
       "========================================================================================================================\n",
       "Total params: 24,068\n",
       "Trainable params: 24,068\n",
       "Non-trainable params: 0\n",
       "Total mult-adds (M): 0.23\n",
       "========================================================================================================================\n",
       "Input size (MB): 0.00\n",
       "Forward/backward pass size (MB): 0.07\n",
       "Params size (MB): 0.10\n",
       "Estimated Total Size (MB): 0.16\n",
       "========================================================================================================================"
      ]
     },
     "execution_count": 13,
     "metadata": {},
     "output_type": "execute_result"
    }
   ],
   "source": [
    "# Let's see the inner layers of the model\n",
    "summary(model = model_1,\n",
    "        input_size = (1, 1, 28, 28),\n",
    "        col_names = [\"input_size\", \"output_size\", \"num_params\", \"trainable\"],\n",
    "        col_width = 20,\n",
    "        row_settings = [\"var_names\"])"
   ]
  },
  {
   "cell_type": "markdown",
   "metadata": {
    "id": "12kTTtnYlacC"
   },
   "source": [
    "# Define Loss function and Optimizer"
   ]
  },
  {
   "cell_type": "code",
   "execution_count": 14,
   "metadata": {
    "id": "bE3uH_LKllsc"
   },
   "outputs": [],
   "source": [
    "optimizer = torch.optim.Adam(params = model_1.parameters(), lr = CFG.learning_rate)\n",
    "loss_fn = nn.CrossEntropyLoss()\n",
    "device = \"cuda\" if torch.cuda.is_available() else \"cpu\"\n",
    "# scheduler = torch.optim.lr_scheduler.StepLR(\n",
    "#     optimizer,\n",
    "#     step_size=CFG.step_size,\n",
    "#     gamma=CFG.gamma\n",
    "# )"
   ]
  },
  {
   "cell_type": "code",
   "execution_count": 15,
   "metadata": {
    "id": "uUc4tGlzmTGa"
   },
   "outputs": [],
   "source": [
    "def validate(\n",
    "    model,\n",
    "    val_loader: torch.utils.data.DataLoader,\n",
    "    criterion: torch.nn.Module,\n",
    "    device: torch.device\n",
    ") -> tuple:\n",
    "    \"\"\"\n",
    "    Validate the model\n",
    "\n",
    "    :param model: The model to validate\n",
    "    :type model: torch.nn.Module\n",
    "    :param val_loader: The validation loader\n",
    "    :type val_loader: torch.utils.data.DataLoader\n",
    "    :param criterion: The loss function\n",
    "    :type criterion: torch.nn.Module\n",
    "    :param device: The device to use\n",
    "    :type device: torch.device\n",
    "\n",
    "    :return: The loss, accuracy and predictions\n",
    "    :rtype: tuple\n",
    "    \"\"\"\n",
    "    model.eval()\n",
    "    val_loss = 0.0\n",
    "    correct = 0\n",
    "    y_pred = []\n",
    "    with torch.no_grad():\n",
    "        for images, labels in val_loader:\n",
    "            images, labels = images.to(device), labels.to(device)\n",
    "            outputs = model(images)\n",
    "            loss = criterion(outputs, labels)\n",
    "            val_loss += loss.item()\n",
    "            _, predicted = torch.max(outputs, 1)\n",
    "            correct += (predicted == labels).sum().item()\n",
    "            y_pred.extend(predicted.cpu().numpy())\n",
    "\n",
    "    val_loss /= len(val_loader)\n",
    "    accuracy = correct / len(y_pred)\n",
    "\n",
    "    return val_loss, accuracy, y_pred"
   ]
  },
  {
   "cell_type": "markdown",
   "metadata": {},
   "source": [
    "# Evaluate Function"
   ]
  },
  {
   "cell_type": "code",
   "execution_count": 29,
   "metadata": {},
   "outputs": [],
   "source": [
    "def validate(\n",
    "    model,\n",
    "    val_loader: torch.utils.data.DataLoader,\n",
    "    criterion: torch.nn.Module,\n",
    "    device: torch.device\n",
    ") -> tuple:\n",
    "    \"\"\"\n",
    "    Validate the model\n",
    "\n",
    "    :param model: The model to validate\n",
    "    :type model: torch.nn.Module\n",
    "    :param val_loader: The validation loader\n",
    "    :type val_loader: torch.utils.data.DataLoader\n",
    "    :param criterion: The loss function\n",
    "    :type criterion: torch.nn.Module\n",
    "    :param device: The device to use\n",
    "    :type device: torch.device\n",
    "\n",
    "    :return: The loss, accuracy and predictions\n",
    "    :rtype: tuple\n",
    "    \"\"\"\n",
    "    model.eval()\n",
    "    val_loss = 0.0\n",
    "    correct = 0\n",
    "    y_pred = []\n",
    "    with torch.inference_mode():\n",
    "        for images, labels in val_loader:\n",
    "            images, labels = images.to(device), labels.to(device)\n",
    "            outputs = model(images)\n",
    "            loss = criterion(outputs, labels)\n",
    "            val_loss += loss.item()\n",
    "            _, predicted = torch.max(outputs, 1)\n",
    "            correct += (predicted == labels).sum().item()\n",
    "            y_pred.extend(predicted.cpu().numpy())\n",
    "\n",
    "    val_loss /= len(val_loader)\n",
    "    accuracy = correct / len(y_pred)\n",
    "\n",
    "    return val_loss, accuracy, y_pred"
   ]
  },
  {
   "cell_type": "markdown",
   "metadata": {
    "id": "7Es1QmWYmFY6"
   },
   "source": [
    "# Train function"
   ]
  },
  {
   "cell_type": "code",
   "execution_count": 23,
   "metadata": {
    "id": "zvYPGxCGmGtY"
   },
   "outputs": [],
   "source": [
    "def train_step(model: torch.nn.Module,\n",
    "               data_loader: torch.utils.data.DataLoader,\n",
    "               loss_fn: torch.nn.Module,\n",
    "               optimizer: torch.optim.Optimizer,\n",
    "               device: torch.device = device):\n",
    "  train_loss = 0\n",
    "  model.to(device)\n",
    "  for batch, (X, y) in enumerate(data_loader):\n",
    "    # Send data to GPU\n",
    "    X, y = X.to(device), y.to(device)\n",
    "\n",
    "    # 1. Forward pass\n",
    "    y_pred = model(X)\n",
    "\n",
    "    # 2. Calculate loss\n",
    "    loss = loss_fn(y_pred, y)\n",
    "    train_loss += loss\n",
    "\n",
    "    # 3. Optimizer zero grad\n",
    "    optimizer.zero_grad()\n",
    "\n",
    "    # 4. Loss backward\n",
    "    loss.backward()\n",
    "\n",
    "    # 5. Optimizer step\n",
    "    optimizer.step()\n",
    "\n",
    "  # Calculate loss and accuracy per epoch and print out what's happening\n",
    "  train_loss /= len(data_loader)\n",
    "  print(f\"Train loss: {train_loss:.5f}\")\n",
    "  return train_loss\n",
    "\n",
    "def val_step(data_loader: torch.utils.data.DataLoader,\n",
    "              model: torch.nn.Module,\n",
    "              loss_fn: torch.nn.Module,\n",
    "              device: torch.device = device):\n",
    "  test_loss = 0\n",
    "  model.to(device)\n",
    "  model.eval() # put model in eval mode\n",
    "  # Turn on inference context manager\n",
    "  with torch.inference_mode():\n",
    "    for X, y in data_loader:\n",
    "      # Send data to GPU\n",
    "      X, y = X.to(device), y.to(device)\n",
    "\n",
    "      # 1. Forward pass\n",
    "      test_pred = model(X)\n",
    "\n",
    "      # 2. Calculate loss\n",
    "      test_loss += loss_fn(test_pred, y)\n",
    "\n",
    "    # Adjust metrics and print out\n",
    "    test_loss /= len(data_loader)\n",
    "\n",
    "    print(f\"Val loss: {test_loss:.5f}\\n\")\n",
    "  return test_loss"
   ]
  },
  {
   "cell_type": "markdown",
   "metadata": {
    "id": "SWDB61D6mU7K"
   },
   "source": [
    "# Train the model"
   ]
  },
  {
   "cell_type": "code",
   "execution_count": 24,
   "metadata": {
    "colab": {
     "base_uri": "https://localhost:8080/"
    },
    "id": "tkiAAqxdmX2R",
    "outputId": "c894f541-c269-4136-85c6-436750beb518"
   },
   "outputs": [
    {
     "data": {
      "application/vnd.jupyter.widget-view+json": {
       "model_id": "8029441a6b5c4c51ba8ef001a6da1bcc",
       "version_major": 2,
       "version_minor": 0
      },
      "text/plain": [
       "  0%|          | 0/100 [00:00<?, ?it/s]"
      ]
     },
     "metadata": {},
     "output_type": "display_data"
    },
    {
     "name": "stdout",
     "output_type": "stream",
     "text": [
      "Epoch: 1\n",
      "---------\n",
      "Train loss: 1.64162\n",
      "Val loss: 1.77656\n",
      "\n",
      "Epoch: 2\n",
      "---------\n",
      "Train loss: 0.99662\n",
      "Val loss: 0.71153\n",
      "\n",
      "Epoch: 3\n",
      "---------\n",
      "Train loss: 0.61821\n",
      "Val loss: 0.57356\n",
      "\n",
      "Epoch: 4\n",
      "---------\n",
      "Train loss: 0.53015\n",
      "Val loss: 0.50840\n",
      "\n",
      "Epoch: 5\n",
      "---------\n",
      "Train loss: 0.48383\n",
      "Val loss: 0.47035\n",
      "\n",
      "Epoch: 6\n",
      "---------\n",
      "Train loss: 0.45257\n",
      "Val loss: 0.45690\n",
      "\n",
      "Epoch: 7\n",
      "---------\n",
      "Train loss: 0.42864\n",
      "Val loss: 0.42942\n",
      "\n",
      "Epoch: 8\n",
      "---------\n",
      "Train loss: 0.40654\n",
      "Val loss: 0.41555\n",
      "\n",
      "Epoch: 9\n",
      "---------\n",
      "Train loss: 0.39593\n",
      "Val loss: 0.40718\n",
      "\n",
      "Epoch: 10\n",
      "---------\n",
      "Train loss: 0.38478\n",
      "Val loss: 0.39795\n",
      "\n",
      "Epoch: 11\n",
      "---------\n",
      "Train loss: 0.37264\n",
      "Val loss: 0.38247\n",
      "\n",
      "Epoch: 12\n",
      "---------\n",
      "Train loss: 0.36154\n",
      "Val loss: 0.37890\n",
      "\n",
      "Epoch: 13\n",
      "---------\n",
      "Train loss: 0.35563\n",
      "Val loss: 0.37159\n",
      "\n",
      "Epoch: 14\n",
      "---------\n",
      "Train loss: 0.34799\n",
      "Val loss: 0.36957\n",
      "\n",
      "Epoch: 15\n",
      "---------\n",
      "Train loss: 0.34236\n",
      "Val loss: 0.36546\n",
      "\n",
      "Epoch: 16\n",
      "---------\n",
      "Train loss: 0.33910\n",
      "Val loss: 0.35921\n",
      "\n",
      "Epoch: 17\n",
      "---------\n",
      "Train loss: 0.33462\n",
      "Val loss: 0.35445\n",
      "\n",
      "Epoch: 18\n",
      "---------\n",
      "Train loss: 0.32774\n",
      "Val loss: 0.35332\n",
      "\n",
      "Epoch: 19\n",
      "---------\n",
      "Train loss: 0.32319\n",
      "Val loss: 0.34288\n",
      "\n",
      "Epoch: 20\n",
      "---------\n",
      "Train loss: 0.31711\n",
      "Val loss: 0.34325\n",
      "\n",
      "Epoch: 21\n",
      "---------\n",
      "Train loss: 0.31475\n",
      "Val loss: 0.34285\n",
      "\n",
      "Epoch: 22\n",
      "---------\n",
      "Train loss: 0.30891\n",
      "Val loss: 0.33573\n",
      "\n",
      "Epoch: 23\n",
      "---------\n",
      "Train loss: 0.30764\n",
      "Val loss: 0.33837\n",
      "\n",
      "Epoch: 24\n",
      "---------\n",
      "Train loss: 0.30614\n",
      "Val loss: 0.33106\n",
      "\n",
      "Epoch: 25\n",
      "---------\n",
      "Train loss: 0.29955\n",
      "Val loss: 0.33007\n",
      "\n",
      "Epoch: 26\n",
      "---------\n",
      "Train loss: 0.29506\n",
      "Val loss: 0.32959\n",
      "\n",
      "Epoch: 27\n",
      "---------\n",
      "Train loss: 0.29414\n",
      "Val loss: 0.32351\n",
      "\n",
      "Epoch: 28\n",
      "---------\n",
      "Train loss: 0.29102\n",
      "Val loss: 0.32634\n",
      "\n",
      "Epoch: 29\n",
      "---------\n",
      "Train loss: 0.29011\n",
      "Val loss: 0.32325\n",
      "\n",
      "Epoch: 30\n",
      "---------\n",
      "Train loss: 0.28454\n",
      "Val loss: 0.31940\n",
      "\n",
      "Epoch: 31\n",
      "---------\n",
      "Train loss: 0.28031\n",
      "Val loss: 0.31509\n",
      "\n",
      "Epoch: 32\n",
      "---------\n",
      "Train loss: 0.27759\n",
      "Val loss: 0.31740\n",
      "\n",
      "Epoch: 33\n",
      "---------\n",
      "Train loss: 0.27854\n",
      "Val loss: 0.31587\n",
      "\n",
      "Epoch: 34\n",
      "---------\n",
      "Train loss: 0.27745\n",
      "Val loss: 0.31080\n",
      "\n",
      "Epoch: 35\n",
      "---------\n",
      "Train loss: 0.27128\n",
      "Val loss: 0.31057\n",
      "\n",
      "Epoch: 36\n",
      "---------\n",
      "Train loss: 0.26742\n",
      "Val loss: 0.31011\n",
      "\n",
      "Epoch: 37\n",
      "---------\n",
      "Train loss: 0.26616\n",
      "Val loss: 0.30636\n",
      "\n",
      "Epoch: 38\n",
      "---------\n",
      "Train loss: 0.26391\n",
      "Val loss: 0.30661\n",
      "\n",
      "Epoch: 39\n",
      "---------\n",
      "Train loss: 0.25987\n",
      "Val loss: 0.31534\n",
      "\n",
      "Epoch: 40\n",
      "---------\n",
      "Train loss: 0.25822\n",
      "Val loss: 0.30511\n",
      "\n",
      "Epoch: 41\n",
      "---------\n",
      "Train loss: 0.25792\n",
      "Val loss: 0.30991\n",
      "\n",
      "Epoch: 42\n",
      "---------\n",
      "Train loss: 0.25398\n",
      "Val loss: 0.30870\n",
      "\n",
      "Epoch: 43\n",
      "---------\n",
      "Train loss: 0.25346\n",
      "Val loss: 0.30395\n",
      "\n",
      "Epoch: 44\n",
      "---------\n",
      "Train loss: 0.25158\n",
      "Val loss: 0.29904\n",
      "\n",
      "Epoch: 45\n",
      "---------\n",
      "Train loss: 0.25180\n",
      "Val loss: 0.29843\n",
      "\n",
      "Epoch: 46\n",
      "---------\n",
      "Train loss: 0.24611\n",
      "Val loss: 0.29956\n",
      "\n",
      "Epoch: 47\n",
      "---------\n",
      "Train loss: 0.24559\n",
      "Val loss: 0.29976\n",
      "\n",
      "Epoch: 48\n",
      "---------\n",
      "Train loss: 0.24215\n",
      "Val loss: 0.29704\n",
      "\n",
      "Epoch: 49\n",
      "---------\n",
      "Train loss: 0.23999\n",
      "Val loss: 0.29804\n",
      "\n",
      "Epoch: 50\n",
      "---------\n",
      "Train loss: 0.24276\n",
      "Val loss: 0.29514\n",
      "\n",
      "Epoch: 51\n",
      "---------\n",
      "Train loss: 0.23826\n",
      "Val loss: 0.29760\n",
      "\n",
      "Epoch: 52\n",
      "---------\n",
      "Train loss: 0.23457\n",
      "Val loss: 0.29579\n",
      "\n",
      "Epoch: 53\n",
      "---------\n",
      "Train loss: 0.23417\n",
      "Val loss: 0.29769\n",
      "\n",
      "Epoch: 54\n",
      "---------\n",
      "Train loss: 0.23302\n",
      "Val loss: 0.29155\n",
      "\n",
      "Epoch: 55\n",
      "---------\n",
      "Train loss: 0.22949\n",
      "Val loss: 0.29149\n",
      "\n",
      "Epoch: 56\n",
      "---------\n",
      "Train loss: 0.22795\n",
      "Val loss: 0.28986\n",
      "\n",
      "Epoch: 57\n",
      "---------\n",
      "Train loss: 0.22673\n",
      "Val loss: 0.29200\n",
      "\n",
      "Epoch: 58\n",
      "---------\n",
      "Train loss: 0.22997\n",
      "Val loss: 0.29278\n",
      "\n",
      "Epoch: 59\n",
      "---------\n",
      "Train loss: 0.22617\n",
      "Val loss: 0.29196\n",
      "\n",
      "Epoch: 60\n",
      "---------\n",
      "Train loss: 0.22524\n",
      "Val loss: 0.29046\n",
      "\n",
      "Epoch: 61\n",
      "---------\n",
      "Train loss: 0.22219\n",
      "Val loss: 0.28926\n",
      "\n",
      "Epoch: 62\n",
      "---------\n",
      "Train loss: 0.22156\n",
      "Val loss: 0.29405\n",
      "\n",
      "Epoch: 63\n",
      "---------\n",
      "Train loss: 0.21888\n",
      "Val loss: 0.28804\n",
      "\n",
      "Epoch: 64\n",
      "---------\n",
      "Train loss: 0.21558\n",
      "Val loss: 0.28753\n",
      "\n",
      "Epoch: 65\n",
      "---------\n",
      "Train loss: 0.21571\n",
      "Val loss: 0.28783\n",
      "\n",
      "Epoch: 66\n",
      "---------\n",
      "Train loss: 0.21406\n",
      "Val loss: 0.28915\n",
      "\n",
      "Epoch: 67\n",
      "---------\n",
      "Train loss: 0.21279\n",
      "Val loss: 0.28887\n",
      "\n",
      "Epoch: 68\n",
      "---------\n",
      "Train loss: 0.21286\n",
      "Val loss: 0.28812\n",
      "\n",
      "Epoch: 69\n",
      "---------\n",
      "Train loss: 0.20882\n",
      "Val loss: 0.28689\n",
      "\n",
      "Epoch: 70\n",
      "---------\n",
      "Train loss: 0.20926\n",
      "Val loss: 0.28670\n",
      "\n",
      "Epoch: 71\n",
      "---------\n",
      "Train loss: 0.20364\n",
      "Val loss: 0.28864\n",
      "\n",
      "Epoch: 72\n",
      "---------\n",
      "Train loss: 0.20248\n",
      "Val loss: 0.28547\n",
      "\n",
      "Epoch: 73\n",
      "---------\n",
      "Train loss: 0.20470\n",
      "Val loss: 0.28822\n",
      "\n",
      "Epoch: 74\n",
      "---------\n",
      "Train loss: 0.20308\n",
      "Val loss: 0.29081\n",
      "\n",
      "Epoch: 75\n",
      "---------\n",
      "Train loss: 0.20175\n",
      "Val loss: 0.28830\n",
      "\n",
      "Epoch: 76\n",
      "---------\n",
      "Train loss: 0.19961\n",
      "Val loss: 0.28431\n",
      "\n",
      "Epoch: 77\n",
      "---------\n",
      "Train loss: 0.19805\n",
      "Val loss: 0.28796\n",
      "\n",
      "Epoch: 78\n",
      "---------\n",
      "Train loss: 0.19819\n",
      "Val loss: 0.28306\n",
      "\n",
      "Epoch: 79\n",
      "---------\n",
      "Train loss: 0.19502\n",
      "Val loss: 0.28594\n",
      "\n",
      "Epoch: 80\n",
      "---------\n",
      "Train loss: 0.19350\n",
      "Val loss: 0.29380\n",
      "\n",
      "Epoch: 81\n",
      "---------\n",
      "Train loss: 0.19472\n",
      "Val loss: 0.28366\n",
      "\n",
      "Epoch: 82\n",
      "---------\n",
      "Train loss: 0.19064\n",
      "Val loss: 0.28333\n",
      "\n",
      "Epoch: 83\n",
      "---------\n",
      "Train loss: 0.19001\n",
      "Val loss: 0.28372\n",
      "\n",
      "Epoch: 84\n",
      "---------\n",
      "Train loss: 0.19453\n",
      "Val loss: 0.28829\n",
      "\n",
      "Epoch: 85\n",
      "---------\n",
      "Train loss: 0.18747\n",
      "Val loss: 0.28448\n",
      "\n",
      "Epoch: 86\n",
      "---------\n",
      "Train loss: 0.18674\n",
      "Val loss: 0.28669\n",
      "\n",
      "Epoch: 87\n",
      "---------\n",
      "Train loss: 0.18449\n",
      "Val loss: 0.29527\n",
      "\n",
      "Epoch: 88\n",
      "---------\n",
      "Train loss: 0.18401\n",
      "Val loss: 0.28778\n",
      "\n",
      "Epoch: 89\n",
      "---------\n",
      "Train loss: 0.18308\n",
      "Val loss: 0.28163\n",
      "\n",
      "Epoch: 90\n",
      "---------\n",
      "Train loss: 0.17900\n",
      "Val loss: 0.28342\n",
      "\n",
      "Epoch: 91\n",
      "---------\n",
      "Train loss: 0.17684\n",
      "Val loss: 0.28543\n",
      "\n",
      "Epoch: 92\n",
      "---------\n",
      "Train loss: 0.17781\n",
      "Val loss: 0.28816\n",
      "\n",
      "Epoch: 93\n",
      "---------\n",
      "Train loss: 0.17998\n",
      "Val loss: 0.28852\n",
      "\n",
      "Epoch: 94\n",
      "---------\n",
      "Train loss: 0.17817\n",
      "Val loss: 0.28515\n",
      "\n",
      "Epoch: 95\n",
      "---------\n",
      "Train loss: 0.17767\n",
      "Val loss: 0.28626\n",
      "\n",
      "Epoch: 96\n",
      "---------\n",
      "Train loss: 0.17362\n",
      "Val loss: 0.28448\n",
      "\n",
      "Epoch: 97\n",
      "---------\n",
      "Train loss: 0.17007\n",
      "Val loss: 0.28649\n",
      "\n",
      "Epoch: 98\n",
      "---------\n",
      "Train loss: 0.17278\n",
      "Val loss: 0.28675\n",
      "\n",
      "Epoch: 99\n",
      "---------\n",
      "Train loss: 0.17069\n",
      "Val loss: 0.29428\n",
      "\n",
      "Epoch: 100\n",
      "---------\n",
      "Train loss: 0.16813\n",
      "Val loss: 0.28833\n",
      "\n"
     ]
    }
   ],
   "source": [
    "train_loss_log = []\n",
    "val_loss_log = []\n",
    "\n",
    "for epoch in tqdm(range(CFG.n_epochs)):\n",
    "  print(f\"Epoch: {epoch+1}\\n---------\")\n",
    "  train_loss = train_step(data_loader=train_dataloader,\n",
    "                          model=model_1,\n",
    "                          loss_fn=loss_fn,\n",
    "                          optimizer=optimizer)\n",
    "\n",
    "  train_loss_log.append(train_loss.item())\n",
    "\n",
    "  val_loss = val_step(data_loader=val_dataloader,\n",
    "                      model=model_1,\n",
    "                      loss_fn=loss_fn)\n",
    "\n",
    "\n",
    "  if len(val_loss_log) != 0:\n",
    "    if val_loss < min(val_loss_log):\n",
    "      torch.save(obj = model_1.state_dict(),\n",
    "                 f = \"checkpoint.pth\")\n",
    "      # save the model\n",
    "  val_loss_log.append(val_loss.item())"
   ]
  },
  {
   "cell_type": "markdown",
   "metadata": {
    "id": "oHqIlL22d42g"
   },
   "source": [
    "#### **Plot the learning curve**\n",
    "\n",
    "Plot the training loss and validation loss using `matplotlib`, keep both the training loss and validation loss in the same plot.\n"
   ]
  },
  {
   "cell_type": "code",
   "execution_count": 25,
   "metadata": {
    "colab": {
     "base_uri": "https://localhost:8080/",
     "height": 472
    },
    "id": "6UhFH7S_d42g",
    "outputId": "bbb1dd78-c1a0-41e6-a755-f54c60c9df84"
   },
   "outputs": [
    {
     "data": {
      "image/png": "[encoded data removed]",
      "text/plain": [
       "<Figure size 640x480 with 1 Axes>"
      ]
     },
     "metadata": {},
     "output_type": "display_data"
    }
   ],
   "source": [
    "plt.plot(train_loss_log, label=\"Train loss\")\n",
    "plt.plot(val_loss_log, label=\"Validation loss\")\n",
    "plt.title(\"Loss curve\")\n",
    "plt.xlabel(\"Epoch\")\n",
    "plt.ylabel(\"Loss\")\n",
    "plt.legend()\n",
    "plt.show()"
   ]
  },
  {
   "cell_type": "markdown",
   "metadata": {
    "id": "FmYrwmXOd42g"
   },
   "source": [
    "#### **Load the model from the checkpoint**\n",
    "\n",
    "Use `torch.load` to load the model from the checkpoint and use the `model.load_state_dict` method to load the model weights.\n"
   ]
  },
  {
   "cell_type": "code",
   "execution_count": 27,
   "metadata": {
    "colab": {
     "base_uri": "https://localhost:8080/"
    },
    "id": "lHsvHeAxd42g",
    "outputId": "d1fe61b0-0b04-4e2f-f67e-8c4157b35190"
   },
   "outputs": [
    {
     "name": "stderr",
     "output_type": "stream",
     "text": [
      "C:\\Users\\Ahnaf\\AppData\\Local\\Temp\\ipykernel_23956\\1769497309.py:3: FutureWarning: You are using `torch.load` with `weights_only=False` (the current default value), which uses the default pickle module implicitly. It is possible to construct malicious pickle data which will execute arbitrary code during unpickling (See https://github.com/pytorch/pytorch/blob/main/SECURITY.md#untrusted-models for more details). In a future release, the default value for `weights_only` will be flipped to `True`. This limits the functions that could be executed during unpickling. Arbitrary objects will no longer be allowed to be loaded via this mode unless they are explicitly allowlisted by the user via `torch.serialization.add_safe_globals`. We recommend you start setting `weights_only=True` for any use case where you don't have full control of the loaded file. Please open an issue on GitHub for any issues related to this experimental feature.\n",
      "  model_1.load_state_dict(torch.load(f = \"checkpoint.pth\"))\n"
     ]
    },
    {
     "data": {
      "text/plain": [
       "<All keys matched successfully>"
      ]
     },
     "execution_count": 27,
     "metadata": {},
     "output_type": "execute_result"
    }
   ],
   "source": [
    "# model_1.load_state_dict(torch.load(\"checkpoint.pth\")[\"model\"])\n",
    "model_1 = CNNmodel().to(device) # Initialize model again\n",
    "model_1.load_state_dict(torch.load(f = \"checkpoint.pth\"))"
   ]
  },
  {
   "cell_type": "markdown",
   "metadata": {
    "id": "NcRgR9rBd42h"
   },
   "source": [
    "# **Evaluate model performance**\n",
    "\n",
    "Now, we have trained the model. Call the `validate` function to validate the model and calculate the loss and predicted labels on the testing data.\n",
    "\n",
    "1. Use scikit-learn's `classification_report` function to evaluate the performance of the model. The `classification_report` function takes two inputs, `test_labels` and `predicted_labels`, and returns a report of the precision, recall, and F1-score of the model.\n",
    "2. Use the `confusion_matrix` function to get the confusion matrix of the model. It also takes two inputs, `test_labels` and `predicted_labels`, and returns the confusion matrix of the model. Use `ConfusionMatrixDisplay` to display the confusion matrix.\n"
   ]
  },
  {
   "cell_type": "code",
   "execution_count": 30,
   "metadata": {
    "colab": {
     "base_uri": "https://localhost:8080/",
     "height": 867
    },
    "id": "I0KaFUhBd42h",
    "outputId": "91f72478-9916-465a-dd31-b8b01164ff4b"
   },
   "outputs": [
    {
     "data": {
      "image/png": "[encoded data removed]",
      "text/plain": [
       "<Figure size 640x480 with 2 Axes>"
      ]
     },
     "metadata": {},
     "output_type": "display_data"
    },
    {
     "name": "stdout",
     "output_type": "stream",
     "text": [
      "\n",
      "\n",
      "\n",
      "              precision    recall  f1-score   support\n",
      "\n",
      " T-shirt/top       0.85      0.83      0.84      1000\n",
      "     Trouser       0.99      0.98      0.98      1000\n",
      "    Pullover       0.83      0.77      0.80      1000\n",
      "       Dress       0.88      0.92      0.90      1000\n",
      "        Coat       0.81      0.80      0.80      1000\n",
      "      Sandal       0.98      0.97      0.98      1000\n",
      "       Shirt       0.68      0.74      0.71      1000\n",
      "     Sneaker       0.95      0.97      0.96      1000\n",
      "         Bag       0.98      0.98      0.98      1000\n",
      "  Ankle boot       0.97      0.97      0.97      1000\n",
      "\n",
      "    accuracy                           0.89     10000\n",
      "   macro avg       0.89      0.89      0.89     10000\n",
      "weighted avg       0.89      0.89      0.89     10000\n",
      "\n"
     ]
    }
   ],
   "source": [
    "_, _, y_pred = validate(model_1, test_dataloader, loss_fn, device)\n",
    "y_test = [labels for _, labels in test_dataloader]\n",
    "y_test = torch.cat(y_test).numpy()\n",
    "\n",
    "disp = ConfusionMatrixDisplay(confusion_matrix=confusion_matrix(\n",
    "    y_test, y_pred), display_labels=test_data.classes)\n",
    "disp = disp.plot(xticks_rotation=45)\n",
    "plt.title('Confusion Matrix Test Data')\n",
    "plt.show()\n",
    "\n",
    "print('\\n\\n')\n",
    "print(classification_report(y_test, y_pred, target_names=test_data.classes))"
   ]
  }
 ],
 "metadata": {
  "accelerator": "GPU",
  "colab": {
   "gpuType": "T4",
   "provenance": [],
   "toc_visible": true
  },
  "kernelspec": {
   "display_name": "Python 3 (ipykernel)",
   "language": "python",
   "name": "python3"
  },
  "language_info": {
   "codemirror_mode": {
    "name": "ipython",
    "version": 3
   },
   "file_extension": ".py",
   "mimetype": "text/x-python",
   "name": "python",
   "nbconvert_exporter": "python",
   "pygments_lexer": "ipython3",
   "version": "3.9.19"
  }
 },
 "nbformat": 4,
 "nbformat_minor": 4
}
