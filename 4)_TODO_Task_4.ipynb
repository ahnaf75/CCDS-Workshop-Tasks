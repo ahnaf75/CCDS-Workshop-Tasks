{
  "cells": [
    {
      "cell_type": "markdown",
      "metadata": {
        "id": "tTy1iEs2d42S"
      },
      "source": [
        "#### **Import the required libraries**\n",
        "\n",
        "We will be using a few libraries in this session, import all the required libraries in the cell below one by one as we go through the session.\n"
      ]
    },
    {
      "cell_type": "code",
      "execution_count": null,
      "metadata": {
        "id": "Wp2b4VPPd42U"
      },
      "outputs": [],
      "source": [
        "import os\n",
        "\n",
        "import matplotlib.pyplot as plt\n",
        "import torch\n",
        "import torch.nn as nn\n",
        "import tqdm\n",
        "import yaml\n",
        "from sklearn.metrics import (ConfusionMatrixDisplay, classification_report,\n",
        "                             confusion_matrix)\n",
        "from torchvision import transforms\n",
        "from torchvision.io import read_image"
      ]
    },
    {
      "cell_type": "markdown",
      "metadata": {
        "id": "hlYwVr9Ad42V"
      },
      "source": [
        "#### **Download the dataset**\n",
        "\n",
        "We will be using `CIFAR-10` dataset for this session. The dataset consists of 60,000 32x32 color images in 10 classes, with 6,000 images per class. Please download the dataset using the following command.\n",
        "\n",
        "```python\n",
        "!wget https://github.com/ccdsiub/deeplearning-code-management/raw/1.1/CIFAR-10.zip\n",
        "!wget https://github.com/ccdsiub/deeplearning-code-management/raw/1.1/configs/CNN_config.yaml\n",
        "!unzip -q /content/CIFAR-10.zip -d /content/\n",
        "```\n"
      ]
    },
    {
      "cell_type": "code",
      "execution_count": null,
      "metadata": {
        "colab": {
          "base_uri": "https://localhost:8080/"
        },
        "id": "1uF0CRzmd42W",
        "outputId": "6266a23c-d252-4036-a1b4-e732648a05df"
      },
      "outputs": [
        {
          "output_type": "stream",
          "name": "stdout",
          "text": [
            "--2024-12-22 10:47:36--  https://github.com/ccdsiub/deeplearning-code-management/raw/1.1/CIFAR-10.zip\n",
            "Resolving github.com (github.com)... 140.82.116.3\n",
            "Connecting to github.com (github.com)|140.82.116.3|:443... connected.\n",
            "HTTP request sent, awaiting response... 302 Found\n",
            "Location: https://raw.githubusercontent.com/ccdsiub/deeplearning-code-management/1.1/CIFAR-10.zip [following]\n",
            "--2024-12-22 10:47:37--  https://raw.githubusercontent.com/ccdsiub/deeplearning-code-management/1.1/CIFAR-10.zip\n",
            "Resolving raw.githubusercontent.com (raw.githubusercontent.com)... 185.199.108.133, 185.199.109.133, 185.199.110.133, ...\n",
            "Connecting to raw.githubusercontent.com (raw.githubusercontent.com)|185.199.108.133|:443... connected.\n",
            "HTTP request sent, awaiting response... 200 OK\n",
            "Length: 57166560 (55M) [application/zip]\n",
            "Saving to: ‘CIFAR-10.zip’\n",
            "\n",
            "CIFAR-10.zip        100%[===================>]  54.52M   266MB/s    in 0.2s    \n",
            "\n",
            "2024-12-22 10:47:37 (266 MB/s) - ‘CIFAR-10.zip’ saved [57166560/57166560]\n",
            "\n",
            "--2024-12-22 10:47:37--  https://github.com/ccdsiub/deeplearning-code-management/raw/1.1/configs/CNN_config.yaml\n",
            "Resolving github.com (github.com)... 140.82.116.3\n",
            "Connecting to github.com (github.com)|140.82.116.3|:443... connected.\n",
            "HTTP request sent, awaiting response... 302 Found\n",
            "Location: https://raw.githubusercontent.com/ccdsiub/deeplearning-code-management/1.1/configs/CNN_config.yaml [following]\n",
            "--2024-12-22 10:47:37--  https://raw.githubusercontent.com/ccdsiub/deeplearning-code-management/1.1/configs/CNN_config.yaml\n",
            "Resolving raw.githubusercontent.com (raw.githubusercontent.com)... 185.199.108.133, 185.199.111.133, 185.199.110.133, ...\n",
            "Connecting to raw.githubusercontent.com (raw.githubusercontent.com)|185.199.108.133|:443... connected.\n",
            "HTTP request sent, awaiting response... 200 OK\n",
            "Length: 197 [text/plain]\n",
            "Saving to: ‘CNN_config.yaml’\n",
            "\n",
            "CNN_config.yaml     100%[===================>]     197  --.-KB/s    in 0s      \n",
            "\n",
            "2024-12-22 10:47:37 (5.25 MB/s) - ‘CNN_config.yaml’ saved [197/197]\n",
            "\n"
          ]
        }
      ],
      "source": [
        "!wget https://github.com/ccdsiub/deeplearning-code-management/raw/1.1/CIFAR-10.zip\n",
        "!wget https://github.com/ccdsiub/deeplearning-code-management/raw/1.1/configs/CNN_config.yaml\n",
        "!unzip -q CIFAR-10.zip -d ."
      ]
    },
    {
      "cell_type": "markdown",
      "metadata": {
        "id": "i3bVtdjHd42U"
      },
      "source": [
        "#### **Load configuration file**\n",
        "\n",
        "We will be using a configuration file to store all the required parameters for the model. The configuration file is a YAML file, which is a human-readable data serialization standard that can be used in conjunction with all programming languages and is often used to write configuration files. Create a new file named `config.yaml` and add the following content to it.\n",
        "\n",
        "```yaml\n",
        "data_params:\n",
        "  data_path: \"CIFAR-10/\"\n",
        "```\n",
        "\n",
        "Read the configuration file using the `yaml` library and store the data in a variable named `config`.\n"
      ]
    },
    {
      "cell_type": "code",
      "execution_count": null,
      "metadata": {
        "colab": {
          "base_uri": "https://localhost:8080/"
        },
        "id": "Ck0AjZy-d42V",
        "outputId": "f07d4d0c-b74e-4b98-d5b3-fe7ab77ca030"
      },
      "outputs": [
        {
          "output_type": "stream",
          "name": "stdout",
          "text": [
            "{'data_params': {'data_path': 'CIFAR-10/', 'train_ratio': 0.8, 'batch_size': 256}, 'model_params': {'num_classes': 10, 'learning_rate': 0.001, 'weight_decay': 0.0001, 'gamma': 0.1, 'step_size': 5, 'num_epochs': 10}}\n"
          ]
        }
      ],
      "source": [
        "file = open(\"CNN_config.yaml\")\n",
        "config = yaml.safe_load(file)\n",
        "file.close()\n",
        "print(config)"
      ]
    },
    {
      "cell_type": "markdown",
      "metadata": {
        "id": "rNgBOHn_d42W"
      },
      "source": [
        "#### **Load the dataset**\n",
        "\n",
        "Check the files in the side panel to see if the dataset is downloaded successfully. The dataset is organized in the following way.\n",
        "\n",
        "```\n",
        "CIFAR-10\n",
        " |\n",
        " └───airplane\n",
        " |\n",
        " └───automobile\n",
        " |\n",
        " └───bird\n",
        " |\n",
        " └───cat\n",
        " |\n",
        " └───deer\n",
        " |\n",
        " └───dog\n",
        " |\n",
        " └───frog\n",
        " |\n",
        " └───horse\n",
        " |\n",
        " └───ship\n",
        " |\n",
        " └───truck\n",
        "```\n",
        "\n",
        "Write a class named `CIFAR10Dataset` to load the dataset.\n"
      ]
    },
    {
      "cell_type": "code",
      "execution_count": null,
      "metadata": {
        "id": "xaso9Btsd42d"
      },
      "outputs": [],
      "source": [
        "class CIFAR10(torch.utils.data.Dataset):\n",
        "    \"\"\"The CIFAR10 dataset\"\"\"\n",
        "\n",
        "    def __init__(self, root, transform=None, target_transform=None) -> None:\n",
        "        \"\"\"\n",
        "        Initialize the CIFAR10 dataset\n",
        "\n",
        "        :param root: The root directory of the dataset\n",
        "        :type root: str\n",
        "        :param transform: The transform to apply to the data\n",
        "        :type transform: callable\n",
        "        :param target_transform: The transform to apply to the target\n",
        "        :type target_transform: callable\n",
        "\n",
        "        :return: None\n",
        "        :rtype: None\n",
        "        \"\"\"\n",
        "        self.root = root\n",
        "        self.transform = transform\n",
        "        self.target_transform = target_transform\n",
        "        self.data = []\n",
        "        self.targets = []\n",
        "\n",
        "        self._load_data()\n",
        "\n",
        "    def _load_data(self):\n",
        "        \"\"\"\n",
        "        Load the data from the root directory\n",
        "\n",
        "        :return: None\n",
        "        :rtype: None\n",
        "        \"\"\"\n",
        "        # Load the data\n",
        "        classes = os.listdir(self.root)\n",
        "        classes.sort()\n",
        "        for i, class_name in enumerate(classes):\n",
        "            class_dir = os.path.join(self.root, class_name)\n",
        "            for image_name in os.listdir(class_dir):\n",
        "                image_path = os.path.join(class_dir, image_name)\n",
        "                image = read_image(image_path)\n",
        "                self.data.append(image)\n",
        "                self.targets.append(float(i))\n",
        "\n",
        "    def __getitem__(self, index: int) -> tuple:\n",
        "        \"\"\"\n",
        "        Get the item at the given index\n",
        "\n",
        "        :param index: The index of the item\n",
        "        :type index: int\n",
        "\n",
        "        :return: The item at the given index\n",
        "        :rtype: tuple\n",
        "        \"\"\"\n",
        "        img, target = self.data[index], self.targets[index]\n",
        "\n",
        "        if self.transform is not None:\n",
        "            img = self.transform(img)\n",
        "\n",
        "        if self.target_transform is not None:\n",
        "            target = self.target_transform(target)\n",
        "\n",
        "        return img, target\n",
        "\n",
        "    def __len__(self) -> int:\n",
        "        \"\"\"\n",
        "        Get the length of the dataset\n",
        "\n",
        "        :return: The length of the dataset\n",
        "        :rtype: int\n",
        "        \"\"\"\n",
        "        return len(self.data)"
      ]
    },
    {
      "cell_type": "markdown",
      "metadata": {
        "id": "_tsE_OvVd42d"
      },
      "source": [
        "#### **Preprocess transformations**\n",
        "\n",
        "Insted of loading the entire dataset into memory, and then applying transformations, we will be using `torchvision.transforms` to apply transformations while loading the dataset. We will use the following transformations:\n",
        "\n",
        "1. `ToTensor`: Convert the image to a tensor with pixel values in the range [0, 1].\n",
        "2. `Normalize`: Normalize the tensor with mean and standard deviation.\n",
        "3. `Lambda`: To flatten the image tensor.\n"
      ]
    },
    {
      "cell_type": "code",
      "execution_count": null,
      "metadata": {
        "id": "PaG4dLZbd42d"
      },
      "outputs": [],
      "source": [
        "transform = transforms.Compose([\n",
        "    transforms.ConvertImageDtype(torch.float32),\n",
        "    transforms.Normalize((0.485, 0.456, 0.406), (0.229, 0.224, 0.225)),\n",
        "])\n",
        "\n",
        "# you can transform the target too if you want (e.g. one hot encode)\n",
        "target_transform = transforms.Lambda(\n",
        "    lambda y: torch.tensor(y, dtype=torch.long))"
      ]
    },
    {
      "cell_type": "markdown",
      "metadata": {
        "id": "WEIRxQkkd42d"
      },
      "source": [
        "Initialize the `CIFAR10Dataset` class with the `data_path` from the configuration file or you can use `torchvision.Dataset.ImageFolder` to load the dataset. Pass the transformations to the `CIFAR10Dataset` class and load the dataset.\n",
        "You can load the class name from the folder using `os.listdir` for later use.\n"
      ]
    },
    {
      "cell_type": "code",
      "execution_count": null,
      "metadata": {
        "id": "U8XafO6Wd42e"
      },
      "outputs": [],
      "source": [
        "data_path = config[\"data_params\"][\"data_path\"]\n",
        "classes = os.listdir(data_path)\n",
        "classes.sort()\n",
        "\n",
        "dataset = CIFAR10(data_path, transform=transform,\n",
        "                  target_transform=target_transform)\n",
        "\n",
        "# dataset = ImageFolder(data_path, transform=transform,\n",
        "#  target_transform=target_transform)"
      ]
    },
    {
      "cell_type": "markdown",
      "metadata": {
        "id": "Tgm-T7Mgd42e"
      },
      "source": [
        "#### **Split the data**\n",
        "\n",
        "Use `torch.utils.data.random_split` to split the dataset into training and validation sets. Use 80% of the data for training and 10% for validation and 10% for testing.\n"
      ]
    },
    {
      "cell_type": "code",
      "execution_count": null,
      "metadata": {
        "colab": {
          "base_uri": "https://localhost:8080/"
        },
        "id": "9x1iLzb4d42e",
        "outputId": "88e32dfa-76f6-48d7-e652-95e28d206a20"
      },
      "outputs": [
        {
          "output_type": "stream",
          "name": "stdout",
          "text": [
            "Train size: 48001\n",
            "Test size: 6000\n",
            "Validation size: 5999\n"
          ]
        }
      ],
      "source": [
        "train_size = config[\"data_params\"][\"train_ratio\"]\n",
        "test_size = (1 - train_size) / 2\n",
        "val_size = test_size\n",
        "\n",
        "train_dataset, test_dataset, val_dataset = torch.utils.data.random_split(\n",
        "    dataset, [train_size, test_size, val_size])\n",
        "\n",
        "print(f\"Train size: {len(train_dataset)}\")\n",
        "print(f\"Test size: {len(test_dataset)}\")\n",
        "print(f\"Validation size: {len(val_dataset)}\")"
      ]
    },
    {
      "cell_type": "markdown",
      "metadata": {
        "id": "Eawb00KXd42e"
      },
      "source": [
        "#### **Create data loaders**\n",
        "\n",
        "Use `torch.utils.data.DataLoader` to create data loaders for training, validation, and testing datasets. Use a batch size from the configuration file.\n"
      ]
    },
    {
      "cell_type": "code",
      "execution_count": null,
      "metadata": {
        "id": "v7AjA87Wd42e"
      },
      "outputs": [],
      "source": [
        "train_loader = torch.utils.data.DataLoader(\n",
        "    train_dataset,\n",
        "    batch_size=config[\"data_params\"][\"batch_size\"],\n",
        "    num_workers=torch.get_num_threads(),\n",
        "    shuffle=True\n",
        ")\n",
        "\n",
        "test_loader = torch.utils.data.DataLoader(\n",
        "    test_dataset,\n",
        "    batch_size=config[\"data_params\"][\"batch_size\"],\n",
        "    num_workers=torch.get_num_threads(),\n",
        "    shuffle=False\n",
        ")\n",
        "\n",
        "val_loader = torch.utils.data.DataLoader(\n",
        "    val_dataset,\n",
        "    batch_size=config[\"data_params\"][\"batch_size\"],\n",
        "    num_workers=torch.get_num_threads(),\n",
        "    shuffle=True\n",
        ")"
      ]
    },
    {
      "cell_type": "markdown",
      "source": [
        "**For this task I have used architecture-4 as I have obtained the highest score by using this architecture previously.**"
      ],
      "metadata": {
        "id": "dC_aDtLmP81t"
      }
    },
    {
      "cell_type": "markdown",
      "metadata": {
        "id": "47cKc4TeP81v"
      },
      "source": [
        "#### **Multi-layer Perceptron (MLP) model**\n",
        "\n",
        "Create a class named `MLP` to define the model architecture. Now, we will create a simple MLP model with 3 layers. The input layer will have 32x32x3 neurons, the hidden layer will have 128 neurons, and the output layer will have 10 neurons.\n"
      ]
    },
    {
      "cell_type": "code",
      "execution_count": null,
      "metadata": {
        "id": "K1gz5hciP81w"
      },
      "outputs": [],
      "source": [
        "class Cifar10CnnModel(nn.Module):\n",
        "    \"\"\"The CIFAR10 CNN model\"\"\"\n",
        "\n",
        "    def __init__(self, output_size: int) -> None:\n",
        "        \"\"\"\n",
        "        Initialize the CIFAR10 CNN model\n",
        "\n",
        "        :param output_size: The output size\n",
        "        :type output_size: int\n",
        "        \"\"\"\n",
        "        super().__init__()\n",
        "        self.network = nn.Sequential(\n",
        "            nn.Conv2d(3, 32, kernel_size=3, padding=1),\n",
        "            nn.ReLU(),\n",
        "            nn.Conv2d(32, 64, kernel_size=3, stride=1, padding=1),\n",
        "            nn.ReLU(),\n",
        "            nn.MaxPool2d(2, 2),  # output: 64 x 16 x 16\n",
        "\n",
        "            nn.Conv2d(64, 128, kernel_size=3, stride=1, padding=1),\n",
        "            nn.ReLU(),\n",
        "            nn.Conv2d(128, 128, kernel_size=3, stride=1, padding=1),\n",
        "            nn.ReLU(),\n",
        "            nn.MaxPool2d(2, 2),  # output: 128 x 8 x 8\n",
        "\n",
        "            nn.Conv2d(128, 256, kernel_size=3, stride=1, padding=1),\n",
        "            nn.ReLU(),\n",
        "            nn.Conv2d(256, 256, kernel_size=3, stride=1, padding=1),\n",
        "            nn.ReLU(),\n",
        "            nn.MaxPool2d(2, 2),  # output: 256 x 4 x 4\n",
        "            nn.Conv2d(256, 256, kernel_size=3, stride=1, padding=1), # output: 256 x 4 x 4\n",
        "            nn.ReLU(),\n",
        "\n",
        "            nn.Flatten(),\n",
        "            nn.Linear(256*4*4, 1024),\n",
        "            nn.BatchNorm1d(num_features = 1024),\n",
        "            nn.Sigmoid(),\n",
        "            nn.Dropout(p=0.5),\n",
        "            nn.Linear(1024, 512),\n",
        "            nn.BatchNorm1d(num_features = 512),\n",
        "            nn.Sigmoid(),\n",
        "            nn.Dropout(p=0.5),\n",
        "            nn.Linear(512, output_size))\n",
        "        self._initialize_weights_()\n",
        "\n",
        "    def _initialize_weights_(self):\n",
        "      for layer in self.children():\n",
        "        if isinstance(layer, nn.Linear):\n",
        "          nn.init.xavier_uniform_(layer.weight)\n",
        "          nn.init.zeros_(layer.bias)\n",
        "\n",
        "    def forward(self, x: torch.Tensor) -> torch.Tensor:\n",
        "        \"\"\"\n",
        "        Forward pass\n",
        "\n",
        "        :param x: The input data\n",
        "        :type x: torch.Tensor\n",
        "\n",
        "        :return: The output\n",
        "        :rtype: torch.Tensor\n",
        "        \"\"\"\n",
        "        return self.network(x)"
      ]
    },
    {
      "cell_type": "markdown",
      "metadata": {
        "id": "DsRmS3tkP81x"
      },
      "source": [
        "#### **Initialize the model**\n",
        "\n",
        "Initialize the model and define the loss function, optimizer, and scheduler. Use the loss function as `nn.CrossEntropyLoss`, optimizer as `torch.optim.Adam`, and scheduler as `torch.optim.lr_scheduler.StepLR`. Use the learning rate and step size from the configuration file. Use the device as `cuda` if available, else use `cpu`.\n"
      ]
    },
    {
      "cell_type": "code",
      "execution_count": null,
      "metadata": {
        "id": "N4u-uETTP81y"
      },
      "outputs": [],
      "source": [
        "device = torch.device(\"cuda\" if torch.cuda.is_available() else \"cpu\")\n",
        "\n",
        "model = Cifar10CnnModel(\n",
        "    config['model_params']['num_classes']\n",
        ").to(device)\n",
        "\n",
        "criterion = torch.nn.CrossEntropyLoss()\n",
        "optimizer = torch.optim.Adam(\n",
        "    model.parameters(),\n",
        "    lr=config[\"model_params\"][\"learning_rate\"],\n",
        "    # L2 regularization\n",
        "    weight_decay=config[\"model_params\"][\"weight_decay\"]\n",
        ")\n",
        "# scheduler = torch.optim.lr_scheduler.StepLR(\n",
        "#     optimizer,\n",
        "#     step_size=config[\"model_params\"][\"step_size\"],\n",
        "#     gamma=config[\"model_params\"][\"gamma\"]\n",
        "# )\n",
        "\n",
        "# scheduler = torch.optim.lr_scheduler.LinearLR(optimizer)\n",
        "scheduler = torch.optim.lr_scheduler.CosineAnnealingLR(optimizer, T_max = 10)"
      ]
    },
    {
      "cell_type": "markdown",
      "metadata": {
        "id": "HDO3sdp7P81z"
      },
      "source": [
        "##### **Validation function**\n",
        "\n",
        "Create a function named `validate` to calculate the accuracy of the model on the validation dataset. Use the `model.eval` method to set the model to evaluation mode and use the `torch.no_grad` context manager to disable gradient calculation. Iterate through the validation data loader and calculate the accuracy of the model.\n"
      ]
    },
    {
      "cell_type": "code",
      "execution_count": null,
      "metadata": {
        "id": "ZeoOAKmBP81z"
      },
      "outputs": [],
      "source": [
        "def validate(\n",
        "    model,\n",
        "    val_loader: torch.utils.data.DataLoader,\n",
        "    criterion: torch.nn.Module,\n",
        "    device: torch.device\n",
        ") -> tuple:\n",
        "    \"\"\"\n",
        "    Validate the model\n",
        "\n",
        "    :param model: The model to validate\n",
        "    :type model: torch.nn.Module\n",
        "    :param val_loader: The validation loader\n",
        "    :type val_loader: torch.utils.data.DataLoader\n",
        "    :param criterion: The loss function\n",
        "    :type criterion: torch.nn.Module\n",
        "    :param device: The device to use\n",
        "    :type device: torch.device\n",
        "\n",
        "    :return: The loss, accuracy and predictions\n",
        "    :rtype: tuple\n",
        "    \"\"\"\n",
        "    model.eval()\n",
        "    val_loss = 0.0\n",
        "    correct = 0\n",
        "    y_pred = []\n",
        "    with torch.no_grad():\n",
        "        for images, labels in val_loader:\n",
        "            images, labels = images.to(device), labels.to(device)\n",
        "            outputs = model(images)\n",
        "            loss = criterion(outputs, labels)\n",
        "            val_loss += loss.item()\n",
        "            _, predicted = torch.max(outputs, 1)\n",
        "            correct += (predicted == labels).sum().item()\n",
        "            y_pred.extend(predicted.cpu().numpy())\n",
        "\n",
        "    val_loss /= len(val_loader)\n",
        "    accuracy = correct / len(y_pred)\n",
        "\n",
        "    return val_loss, accuracy, y_pred"
      ]
    },
    {
      "cell_type": "markdown",
      "metadata": {
        "id": "HrZq_SCLP810"
      },
      "source": [
        "#### **Training function**\n",
        "\n",
        "Write a function named `train` to train the model. Use the `model.train` method to set the model to training mode. Iterate through the training data loader and calculate the loss and accuracy of the model. Use the `optimizer.zero_grad` method to zero the gradients and use the `loss.backward` method to backpropagate the loss. Use the `optimizer.step` method to update the model parameters. Use the `scheduler.step` method to update the learning rate.\n"
      ]
    },
    {
      "cell_type": "code",
      "execution_count": null,
      "metadata": {
        "id": "5ktOObWbP811"
      },
      "outputs": [],
      "source": [
        "def train(\n",
        "    model: torch.nn.Module,\n",
        "    train_loader: torch.utils.data.DataLoader,\n",
        "    val_loader: torch.utils.data.DataLoader,\n",
        "    criterion: torch.nn.Module,\n",
        "    optimizer: torch.optim.Optimizer,\n",
        "    scheduler: torch.optim.lr_scheduler.StepLR,\n",
        "    device: torch.device,\n",
        "    num_epochs: int\n",
        ") -> tuple:\n",
        "    \"\"\"\n",
        "    Train the model\n",
        "\n",
        "    :param model: The model to train\n",
        "    :type model: torch.nn.Module\n",
        "    :param train_loader: The training loader\n",
        "    :type train_loader: torch.utils.data.DataLoader\n",
        "    :param val_loader: The validation loader\n",
        "    :type val_loader: torch.utils.data.DataLoader\n",
        "    :param criterion: The loss function\n",
        "    :type criterion: torch.nn.Module\n",
        "    :param optimizer: The optimizer\n",
        "    :type optimizer: torch.optim.Optimizer\n",
        "    :param scheduler: The learning rate scheduler\n",
        "    :type scheduler: torch.optim.lr_scheduler.StepLR\n",
        "    :param device: The device to use\n",
        "    :type device: torch.device\n",
        "    :param num_epochs: The number of epochs\n",
        "    :type num_epochs: int\n",
        "\n",
        "    :return: The trained model and the training history\n",
        "    :rtype: tuple\n",
        "    \"\"\"\n",
        "    history = {\n",
        "        \"train_loss\": [],\n",
        "        \"val_loss\": [],\n",
        "        \"val_acc\": []\n",
        "    }\n",
        "    best_acc = 0.0\n",
        "\n",
        "    for epoch in range(num_epochs):\n",
        "        model.train()\n",
        "        train_loss = 0.0\n",
        "        loop = tqdm.tqdm(enumerate(train_loader),\n",
        "                         total=len(train_loader), leave=False)\n",
        "        for i, (images, labels) in loop:\n",
        "            images, labels = images.to(device), labels.to(device)\n",
        "            optimizer.zero_grad()\n",
        "            outputs = model(images)\n",
        "            loss = criterion(outputs, labels)\n",
        "            loss.backward()\n",
        "            optimizer.step()\n",
        "            train_loss += loss.item()\n",
        "\n",
        "            loop.set_description(f\"Epoch [{epoch + 1}/{num_epochs}]\")\n",
        "            loop.set_postfix(loss=train_loss / (i + 1))\n",
        "\n",
        "        train_loss /= len(train_loader)\n",
        "        val_loss, val_acc, _ = validate(model, val_loader, criterion, device)\n",
        "        history[\"train_loss\"].append(train_loss)\n",
        "        history[\"val_loss\"].append(val_loss)\n",
        "        history[\"val_acc\"].append(val_acc)\n",
        "\n",
        "        print(f\"Epoch [{epoch + 1}/{num_epochs}]\")\n",
        "        print(f\"Train loss: {train_loss:.4f}\")\n",
        "        print(f\"Validation loss: {val_loss:.4f}\")\n",
        "        print(f\"Validation accuracy: {val_acc:.2f}%\")\n",
        "\n",
        "        if val_acc > best_acc:\n",
        "            best_acc = val_acc\n",
        "            checkpoint = {\n",
        "                \"epoch\": epoch + 1,\n",
        "                \"model\": model.state_dict(),\n",
        "                \"optimizer\": optimizer.state_dict(),\n",
        "                \"scheduler\": scheduler.state_dict(),\n",
        "                \"history\": history\n",
        "            }\n",
        "            torch.save(checkpoint, \"checkpoint.pth\")\n",
        "\n",
        "        scheduler.step()\n",
        "\n",
        "    return model, history"
      ]
    },
    {
      "cell_type": "markdown",
      "metadata": {
        "id": "C-qzuGPnP812"
      },
      "source": [
        "##### **Train the model**\n",
        "\n",
        "Call the `train` function to train the model.\n"
      ]
    },
    {
      "cell_type": "code",
      "execution_count": null,
      "metadata": {
        "colab": {
          "base_uri": "https://localhost:8080/"
        },
        "outputId": "e13b9b56-ced3-4205-aa01-67efd8b743c6",
        "id": "QfHAbHuIP812"
      },
      "outputs": [
        {
          "output_type": "stream",
          "name": "stderr",
          "text": []
        },
        {
          "output_type": "stream",
          "name": "stdout",
          "text": [
            "Epoch [1/10]\n",
            "Train loss: 1.5362\n",
            "Validation loss: 1.1775\n",
            "Validation accuracy: 0.56%\n"
          ]
        },
        {
          "output_type": "stream",
          "name": "stderr",
          "text": []
        },
        {
          "output_type": "stream",
          "name": "stdout",
          "text": [
            "Epoch [2/10]\n",
            "Train loss: 1.0611\n",
            "Validation loss: 0.9575\n",
            "Validation accuracy: 0.66%\n"
          ]
        },
        {
          "output_type": "stream",
          "name": "stderr",
          "text": []
        },
        {
          "output_type": "stream",
          "name": "stdout",
          "text": [
            "Epoch [3/10]\n",
            "Train loss: 0.8513\n",
            "Validation loss: 0.9655\n",
            "Validation accuracy: 0.66%\n"
          ]
        },
        {
          "output_type": "stream",
          "name": "stderr",
          "text": []
        },
        {
          "output_type": "stream",
          "name": "stdout",
          "text": [
            "Epoch [4/10]\n",
            "Train loss: 0.6980\n",
            "Validation loss: 0.6933\n",
            "Validation accuracy: 0.76%\n"
          ]
        },
        {
          "output_type": "stream",
          "name": "stderr",
          "text": []
        },
        {
          "output_type": "stream",
          "name": "stdout",
          "text": [
            "Epoch [5/10]\n",
            "Train loss: 0.5642\n",
            "Validation loss: 0.6085\n",
            "Validation accuracy: 0.79%\n"
          ]
        },
        {
          "output_type": "stream",
          "name": "stderr",
          "text": []
        },
        {
          "output_type": "stream",
          "name": "stdout",
          "text": [
            "Epoch [6/10]\n",
            "Train loss: 0.4367\n",
            "Validation loss: 0.5889\n",
            "Validation accuracy: 0.80%\n"
          ]
        },
        {
          "output_type": "stream",
          "name": "stderr",
          "text": []
        },
        {
          "output_type": "stream",
          "name": "stdout",
          "text": [
            "Epoch [7/10]\n",
            "Train loss: 0.3062\n",
            "Validation loss: 0.5762\n",
            "Validation accuracy: 0.81%\n"
          ]
        },
        {
          "output_type": "stream",
          "name": "stderr",
          "text": []
        },
        {
          "output_type": "stream",
          "name": "stdout",
          "text": [
            "Epoch [8/10]\n",
            "Train loss: 0.1959\n",
            "Validation loss: 0.5723\n",
            "Validation accuracy: 0.81%\n"
          ]
        },
        {
          "output_type": "stream",
          "name": "stderr",
          "text": []
        },
        {
          "output_type": "stream",
          "name": "stdout",
          "text": [
            "Epoch [9/10]\n",
            "Train loss: 0.1234\n",
            "Validation loss: 0.5793\n",
            "Validation accuracy: 0.82%\n"
          ]
        },
        {
          "output_type": "stream",
          "name": "stderr",
          "text": []
        },
        {
          "output_type": "stream",
          "name": "stdout",
          "text": [
            "Epoch [10/10]\n",
            "Train loss: 0.0914\n",
            "Validation loss: 0.5851\n",
            "Validation accuracy: 0.81%\n"
          ]
        }
      ],
      "source": [
        "model, history = train(\n",
        "    model,\n",
        "    train_loader,\n",
        "    val_loader,\n",
        "    criterion,\n",
        "    optimizer,\n",
        "    scheduler,\n",
        "    device,\n",
        "    num_epochs=config[\"model_params\"][\"num_epochs\"]\n",
        ")"
      ]
    },
    {
      "cell_type": "markdown",
      "metadata": {
        "id": "K6fUMo-XP813"
      },
      "source": [
        "#### **Plot the learning curve**\n",
        "\n",
        "Plot the training loss and validation loss using `matplotlib`, keep both the training loss and validation loss in the same plot.\n"
      ]
    },
    {
      "cell_type": "code",
      "execution_count": null,
      "metadata": {
        "colab": {
          "base_uri": "https://localhost:8080/",
          "height": 472
        },
        "id": "58ei9GFWP814",
        "outputId": "53d5484e-8b61-40cb-a1d6-5ea54dc40f70"
      },
      "outputs": [
        {
          "output_type": "display_data",
          "data": {
            "text/plain": [
              "<Figure size 640x480 with 1 Axes>"
            ],
            "image/png": "[encoded data removed]"
          },
          "metadata": {}
        }
      ],
      "source": [
        "plt.plot(history[\"train_loss\"], label=\"Train loss\")\n",
        "plt.plot(history[\"val_loss\"], label=\"Validation loss\")\n",
        "plt.title(\"Loss curve\")\n",
        "plt.xlabel(\"Epoch\")\n",
        "plt.ylabel(\"Loss\")\n",
        "plt.legend()\n",
        "plt.show()"
      ]
    },
    {
      "cell_type": "markdown",
      "metadata": {
        "id": "tRjRzEPjP815"
      },
      "source": [
        "#### **Load the model from the checkpoint**\n",
        "\n",
        "Use `torch.load` to load the model from the checkpoint and use the `model.load_state_dict` method to load the model weights.\n"
      ]
    },
    {
      "cell_type": "code",
      "execution_count": null,
      "metadata": {
        "colab": {
          "base_uri": "https://localhost:8080/"
        },
        "id": "VxXEvCH3P815",
        "outputId": "a6a597a9-60a2-491f-b770-478fc53a4240"
      },
      "outputs": [
        {
          "output_type": "stream",
          "name": "stderr",
          "text": [
            "<ipython-input-98-7f9a5e566b90>:1: FutureWarning: You are using `torch.load` with `weights_only=False` (the current default value), which uses the default pickle module implicitly. It is possible to construct malicious pickle data which will execute arbitrary code during unpickling (See https://github.com/pytorch/pytorch/blob/main/SECURITY.md#untrusted-models for more details). In a future release, the default value for `weights_only` will be flipped to `True`. This limits the functions that could be executed during unpickling. Arbitrary objects will no longer be allowed to be loaded via this mode unless they are explicitly allowlisted by the user via `torch.serialization.add_safe_globals`. We recommend you start setting `weights_only=True` for any use case where you don't have full control of the loaded file. Please open an issue on GitHub for any issues related to this experimental feature.\n",
            "  model.load_state_dict(torch.load(\"checkpoint.pth\")[\"model\"])\n"
          ]
        },
        {
          "output_type": "execute_result",
          "data": {
            "text/plain": [
              "<All keys matched successfully>"
            ]
          },
          "metadata": {},
          "execution_count": 98
        }
      ],
      "source": [
        "model.load_state_dict(torch.load(\"checkpoint.pth\")[\"model\"])"
      ]
    },
    {
      "cell_type": "markdown",
      "metadata": {
        "id": "2XYcrucHP816"
      },
      "source": [
        "#### **Evaluate model performance**\n",
        "\n",
        "Now, we have trained the model. Call the `validate` function to validate the model and calculate the loss and predicted labels on the testing data.\n",
        "\n",
        "1. Use scikit-learn's `classification_report` function to evaluate the performance of the model. The `classification_report` function takes two inputs, `test_labels` and `predicted_labels`, and returns a report of the precision, recall, and F1-score of the model.\n",
        "2. Use the `confusion_matrix` function to get the confusion matrix of the model. It also takes two inputs, `test_labels` and `predicted_labels`, and returns the confusion matrix of the model. Use `ConfusionMatrixDisplay` to display the confusion matrix.\n"
      ]
    },
    {
      "cell_type": "code",
      "execution_count": null,
      "metadata": {
        "colab": {
          "base_uri": "https://localhost:8080/",
          "height": 888
        },
        "id": "EtUgGw4NP817",
        "outputId": "e3d2daef-6212-431d-dcfc-ee9a60f0229f"
      },
      "outputs": [
        {
          "output_type": "display_data",
          "data": {
            "text/plain": [
              "<Figure size 640x480 with 2 Axes>"
            ],
            "image/png": "[encoded data removed]"
          },
          "metadata": {}
        },
        {
          "output_type": "stream",
          "name": "stdout",
          "text": [
            "\n",
            "\n",
            "\n",
            "              precision    recall  f1-score   support\n",
            "\n",
            "    airplane       0.81      0.86      0.84       584\n",
            "  automobile       0.94      0.91      0.92       578\n",
            "        bird       0.77      0.69      0.73       595\n",
            "         cat       0.62      0.70      0.66       584\n",
            "        deer       0.78      0.77      0.77       589\n",
            "         dog       0.74      0.76      0.75       634\n",
            "        frog       0.88      0.83      0.85       618\n",
            "       horse       0.88      0.85      0.87       624\n",
            "        ship       0.90      0.90      0.90       589\n",
            "       truck       0.87      0.89      0.88       605\n",
            "\n",
            "    accuracy                           0.82      6000\n",
            "   macro avg       0.82      0.82      0.82      6000\n",
            "weighted avg       0.82      0.82      0.82      6000\n",
            "\n"
          ]
        }
      ],
      "source": [
        "_, _, y_pred = validate(model, test_loader, criterion, device)\n",
        "y_test = [labels for _, labels in test_loader]\n",
        "y_test = torch.cat(y_test).numpy()\n",
        "\n",
        "disp = ConfusionMatrixDisplay(confusion_matrix=confusion_matrix(\n",
        "    y_test, y_pred), display_labels=classes)\n",
        "disp = disp.plot(xticks_rotation=45)\n",
        "plt.title('Confusion Matrix Test Data')\n",
        "plt.show()\n",
        "\n",
        "print('\\n\\n')\n",
        "print(classification_report(y_test, y_pred, target_names=classes))"
      ]
    }
  ],
  "metadata": {
    "accelerator": "GPU",
    "colab": {
      "gpuType": "T4",
      "provenance": [],
      "toc_visible": true
    },
    "kernelspec": {
      "display_name": "Python 3",
      "name": "python3"
    },
    "language_info": {
      "codemirror_mode": {
        "name": "ipython",
        "version": 3
      },
      "file_extension": ".py",
      "mimetype": "text/x-python",
      "name": "python",
      "nbconvert_exporter": "python",
      "pygments_lexer": "ipython3",
      "version": "3.10.9"
    }
  },
  "nbformat": 4,
  "nbformat_minor": 0
}